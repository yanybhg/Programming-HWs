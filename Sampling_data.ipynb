{
  "cells": [
    {
      "cell_type": "code",
      "source": [
        "import pandas as pd"
      ],
      "outputs": [],
      "execution_count": 1,
      "metadata": {
        "gather": {
          "logged": 1648668835969
        }
      }
    },
    {
      "cell_type": "code",
      "source": [
        "df = pd.read_csv(\"datathon_marketing.csv\")"
      ],
      "outputs": [],
      "execution_count": 2,
      "metadata": {
        "jupyter": {
          "source_hidden": false,
          "outputs_hidden": false
        },
        "nteract": {
          "transient": {
            "deleting": false
          }
        },
        "gather": {
          "logged": 1648669104763
        }
      }
    },
    {
      "cell_type": "code",
      "source": [
        "df"
      ],
      "outputs": [
        {
          "output_type": "execute_result",
          "execution_count": 3,
          "data": {
            "text/plain": "              DATE_EFFECTIVE  ACTIVITY_AMT_01             ACTIVITY_DESC_01  \\\n0         01JUL2021:00:00:00             6.35      REC PUR HLU*Hulu 4 1447   \n1         06JUL2021:00:00:00            12.25       REC PUR AIC*MOTOR 1447   \n2         23JUL2021:00:00:00            14.83      POS PUR NETFLIX CO 1447   \n3         12AUG2021:00:00:00            49.38      CHK CRD REDNERS MK 1447   \n4         12AUG2021:00:00:00            21.91      CHK CRD LOWES #027 1447   \n...                      ...              ...                          ...   \n65591196  16DEC2021:00:00:00          2000.00  VGI-SC IDX ADM   INVESTMENT   \n65591197  16DEC2021:00:00:00           250.00     VGI 529 ACH      CONTRIB   \n65591198  16DEC2021:00:00:00           250.00     VGI 529 ACH      CONTRIB   \n65591199  16DEC2021:00:00:00           250.00     VGI 529 ACH      CONTRIB   \n65591200  16DEC2021:00:00:00           250.00     VGI 529 ACH      CONTRIB   \n\n         RELATIONSHIP_CODE     INVOLVED_PARTY_ID  LEVEL_02_CLASS_NAME  \\\n0                      SOW  CBSCUST5323300082500  Checking - Personal   \n1                      SOW  CBSCUST5323300082500  Checking - Personal   \n2                      SOW  CBSCUST5323300082500  Checking - Personal   \n3                      SOW  CBSCUST5323300082500  Checking - Personal   \n4                      SOW  CBSCUST5323300082500  Checking - Personal   \n...                    ...                   ...                  ...   \n65591196               JO1  CBSCUST5323100062023              Savings   \n65591197               JOF  CBSCUST5323100058523              Savings   \n65591198               JO1  CBSCUST5323100062023              Savings   \n65591199               JOF  CBSCUST5323100058523              Savings   \n65591200               JO1  CBSCUST5323100062023              Savings   \n\n         LEVEL_03_CLASS_NAME LEVEL_04_CLASS_NAME     hhnum transaction_type  \\\n0             DDA - Personal     Simply Checking  298859.0        DEBITCARD   \n1             DDA - Personal     Simply Checking  298859.0        DEBITCARD   \n2             DDA - Personal     Simply Checking  298859.0        DEBITCARD   \n3             DDA - Personal     Simply Checking  298859.0        DEBITCARD   \n4             DDA - Personal     Simply Checking  298859.0        DEBITCARD   \n...                      ...                 ...       ...              ...   \n65591196  Savings - Personal   Statement Savings   49322.0              ACH   \n65591197  Savings - Personal   Statement Savings   49322.0              ACH   \n65591198  Savings - Personal   Statement Savings   49322.0              ACH   \n65591199  Savings - Personal   Statement Savings   49322.0              ACH   \n65591200  Savings - Personal   Statement Savings   49322.0              ACH   \n\n           age                                            acct_id  \n0         50.0  AE11D02C0EF6F1DF13C3FC93A75BF510E8B3B9780537A5...  \n1         50.0  AE11D02C0EF6F1DF13C3FC93A75BF510E8B3B9780537A5...  \n2         50.0  AE11D02C0EF6F1DF13C3FC93A75BF510E8B3B9780537A5...  \n3         50.0  AE11D02C0EF6F1DF13C3FC93A75BF510E8B3B9780537A5...  \n4         50.0  AE11D02C0EF6F1DF13C3FC93A75BF510E8B3B9780537A5...  \n...        ...                                                ...  \n65591196  63.0  B2548680513ECE6C807879499DC165ACE62714F3F7835F...  \n65591197  66.0  B2548680513ECE6C807879499DC165ACE62714F3F7835F...  \n65591198  63.0  B2548680513ECE6C807879499DC165ACE62714F3F7835F...  \n65591199  66.0  B2548680513ECE6C807879499DC165ACE62714F3F7835F...  \n65591200  63.0  B2548680513ECE6C807879499DC165ACE62714F3F7835F...  \n\n[65591201 rows x 12 columns]",
            "text/html": "<div>\n<style scoped>\n    .dataframe tbody tr th:only-of-type {\n        vertical-align: middle;\n    }\n\n    .dataframe tbody tr th {\n        vertical-align: top;\n    }\n\n    .dataframe thead th {\n        text-align: right;\n    }\n</style>\n<table border=\"1\" class=\"dataframe\">\n  <thead>\n    <tr style=\"text-align: right;\">\n      <th></th>\n      <th>DATE_EFFECTIVE</th>\n      <th>ACTIVITY_AMT_01</th>\n      <th>ACTIVITY_DESC_01</th>\n      <th>RELATIONSHIP_CODE</th>\n      <th>INVOLVED_PARTY_ID</th>\n      <th>LEVEL_02_CLASS_NAME</th>\n      <th>LEVEL_03_CLASS_NAME</th>\n      <th>LEVEL_04_CLASS_NAME</th>\n      <th>hhnum</th>\n      <th>transaction_type</th>\n      <th>age</th>\n      <th>acct_id</th>\n    </tr>\n  </thead>\n  <tbody>\n    <tr>\n      <th>0</th>\n      <td>01JUL2021:00:00:00</td>\n      <td>6.35</td>\n      <td>REC PUR HLU*Hulu 4 1447</td>\n      <td>SOW</td>\n      <td>CBSCUST5323300082500</td>\n      <td>Checking - Personal</td>\n      <td>DDA - Personal</td>\n      <td>Simply Checking</td>\n      <td>298859.0</td>\n      <td>DEBITCARD</td>\n      <td>50.0</td>\n      <td>AE11D02C0EF6F1DF13C3FC93A75BF510E8B3B9780537A5...</td>\n    </tr>\n    <tr>\n      <th>1</th>\n      <td>06JUL2021:00:00:00</td>\n      <td>12.25</td>\n      <td>REC PUR AIC*MOTOR 1447</td>\n      <td>SOW</td>\n      <td>CBSCUST5323300082500</td>\n      <td>Checking - Personal</td>\n      <td>DDA - Personal</td>\n      <td>Simply Checking</td>\n      <td>298859.0</td>\n      <td>DEBITCARD</td>\n      <td>50.0</td>\n      <td>AE11D02C0EF6F1DF13C3FC93A75BF510E8B3B9780537A5...</td>\n    </tr>\n    <tr>\n      <th>2</th>\n      <td>23JUL2021:00:00:00</td>\n      <td>14.83</td>\n      <td>POS PUR NETFLIX CO 1447</td>\n      <td>SOW</td>\n      <td>CBSCUST5323300082500</td>\n      <td>Checking - Personal</td>\n      <td>DDA - Personal</td>\n      <td>Simply Checking</td>\n      <td>298859.0</td>\n      <td>DEBITCARD</td>\n      <td>50.0</td>\n      <td>AE11D02C0EF6F1DF13C3FC93A75BF510E8B3B9780537A5...</td>\n    </tr>\n    <tr>\n      <th>3</th>\n      <td>12AUG2021:00:00:00</td>\n      <td>49.38</td>\n      <td>CHK CRD REDNERS MK 1447</td>\n      <td>SOW</td>\n      <td>CBSCUST5323300082500</td>\n      <td>Checking - Personal</td>\n      <td>DDA - Personal</td>\n      <td>Simply Checking</td>\n      <td>298859.0</td>\n      <td>DEBITCARD</td>\n      <td>50.0</td>\n      <td>AE11D02C0EF6F1DF13C3FC93A75BF510E8B3B9780537A5...</td>\n    </tr>\n    <tr>\n      <th>4</th>\n      <td>12AUG2021:00:00:00</td>\n      <td>21.91</td>\n      <td>CHK CRD LOWES #027 1447</td>\n      <td>SOW</td>\n      <td>CBSCUST5323300082500</td>\n      <td>Checking - Personal</td>\n      <td>DDA - Personal</td>\n      <td>Simply Checking</td>\n      <td>298859.0</td>\n      <td>DEBITCARD</td>\n      <td>50.0</td>\n      <td>AE11D02C0EF6F1DF13C3FC93A75BF510E8B3B9780537A5...</td>\n    </tr>\n    <tr>\n      <th>...</th>\n      <td>...</td>\n      <td>...</td>\n      <td>...</td>\n      <td>...</td>\n      <td>...</td>\n      <td>...</td>\n      <td>...</td>\n      <td>...</td>\n      <td>...</td>\n      <td>...</td>\n      <td>...</td>\n      <td>...</td>\n    </tr>\n    <tr>\n      <th>65591196</th>\n      <td>16DEC2021:00:00:00</td>\n      <td>2000.00</td>\n      <td>VGI-SC IDX ADM   INVESTMENT</td>\n      <td>JO1</td>\n      <td>CBSCUST5323100062023</td>\n      <td>Savings</td>\n      <td>Savings - Personal</td>\n      <td>Statement Savings</td>\n      <td>49322.0</td>\n      <td>ACH</td>\n      <td>63.0</td>\n      <td>B2548680513ECE6C807879499DC165ACE62714F3F7835F...</td>\n    </tr>\n    <tr>\n      <th>65591197</th>\n      <td>16DEC2021:00:00:00</td>\n      <td>250.00</td>\n      <td>VGI 529 ACH      CONTRIB</td>\n      <td>JOF</td>\n      <td>CBSCUST5323100058523</td>\n      <td>Savings</td>\n      <td>Savings - Personal</td>\n      <td>Statement Savings</td>\n      <td>49322.0</td>\n      <td>ACH</td>\n      <td>66.0</td>\n      <td>B2548680513ECE6C807879499DC165ACE62714F3F7835F...</td>\n    </tr>\n    <tr>\n      <th>65591198</th>\n      <td>16DEC2021:00:00:00</td>\n      <td>250.00</td>\n      <td>VGI 529 ACH      CONTRIB</td>\n      <td>JO1</td>\n      <td>CBSCUST5323100062023</td>\n      <td>Savings</td>\n      <td>Savings - Personal</td>\n      <td>Statement Savings</td>\n      <td>49322.0</td>\n      <td>ACH</td>\n      <td>63.0</td>\n      <td>B2548680513ECE6C807879499DC165ACE62714F3F7835F...</td>\n    </tr>\n    <tr>\n      <th>65591199</th>\n      <td>16DEC2021:00:00:00</td>\n      <td>250.00</td>\n      <td>VGI 529 ACH      CONTRIB</td>\n      <td>JOF</td>\n      <td>CBSCUST5323100058523</td>\n      <td>Savings</td>\n      <td>Savings - Personal</td>\n      <td>Statement Savings</td>\n      <td>49322.0</td>\n      <td>ACH</td>\n      <td>66.0</td>\n      <td>B2548680513ECE6C807879499DC165ACE62714F3F7835F...</td>\n    </tr>\n    <tr>\n      <th>65591200</th>\n      <td>16DEC2021:00:00:00</td>\n      <td>250.00</td>\n      <td>VGI 529 ACH      CONTRIB</td>\n      <td>JO1</td>\n      <td>CBSCUST5323100062023</td>\n      <td>Savings</td>\n      <td>Savings - Personal</td>\n      <td>Statement Savings</td>\n      <td>49322.0</td>\n      <td>ACH</td>\n      <td>63.0</td>\n      <td>B2548680513ECE6C807879499DC165ACE62714F3F7835F...</td>\n    </tr>\n  </tbody>\n</table>\n<p>65591201 rows × 12 columns</p>\n</div>"
          },
          "metadata": {}
        }
      ],
      "execution_count": 3,
      "metadata": {
        "jupyter": {
          "source_hidden": false,
          "outputs_hidden": false
        },
        "nteract": {
          "transient": {
            "deleting": false
          }
        },
        "gather": {
          "logged": 1648669314265
        }
      }
    },
    {
      "cell_type": "code",
      "source": [
        "temp_df = df[['ACTIVITY_DESC_01','acct_id','age']]\r\n",
        "del df"
      ],
      "outputs": [],
      "execution_count": 3,
      "metadata": {
        "jupyter": {
          "source_hidden": false,
          "outputs_hidden": false
        },
        "nteract": {
          "transient": {
            "deleting": false
          }
        },
        "gather": {
          "logged": 1648607577244
        }
      }
    },
    {
      "cell_type": "code",
      "source": [
        "df_sample_1 = temp_df.sample(n=10000000)\n",
        "df_sample_2 = temp_df.sample(n=10000000)\n",
        "df_sample_3 = temp_df.sample(n=10000000)"
      ],
      "outputs": [],
      "execution_count": 4,
      "metadata": {
        "jupyter": {
          "source_hidden": false,
          "outputs_hidden": false
        },
        "nteract": {
          "transient": {
            "deleting": false
          }
        },
        "gather": {
          "logged": 1648607609192
        }
      }
    },
    {
      "cell_type": "code",
      "source": [
        "df_sample_1.to_csv('Sample1.csv')\n",
        "df_sample_2.to_csv('Sample2.csv')\n",
        "df_sample_3.to_csv('Sample3.csv')"
      ],
      "outputs": [],
      "execution_count": 5,
      "metadata": {
        "jupyter": {
          "source_hidden": false,
          "outputs_hidden": false
        },
        "nteract": {
          "transient": {
            "deleting": false
          }
        },
        "gather": {
          "logged": 1648607765332
        }
      }
    },
    {
      "cell_type": "code",
      "source": [
        "import dask\n",
        "import dask.dataframe as dd"
      ],
      "outputs": [],
      "execution_count": 6,
      "metadata": {
        "jupyter": {
          "source_hidden": false,
          "outputs_hidden": false
        },
        "nteract": {
          "transient": {
            "deleting": false
          }
        },
        "gather": {
          "logged": 1648607806961
        }
      }
    },
    {
      "cell_type": "code",
      "source": [
        "ddf_sample_1 = dd.read_csv('Sample1.csv', dtype={'age': 'float64'})\n",
        "ddf_sample_2 = dd.read_csv('Sample2.csv', dtype={'age': 'float64'})\n",
        "ddf_sample_3 = dd.read_csv('Sample3.csv', dtype={'age': 'float64'})"
      ],
      "outputs": [],
      "execution_count": 8,
      "metadata": {
        "jupyter": {
          "source_hidden": false,
          "outputs_hidden": false
        },
        "nteract": {
          "transient": {
            "deleting": false
          }
        },
        "gather": {
          "logged": 1648607844121
        }
      }
    },
    {
      "cell_type": "code",
      "source": [
        "ddf_sample_1['genz'] = ddf_sample_1['age'].apply(lambda x: 1 if x >= 9 and x <= 24 else 0)\n",
        "ddf_sample_2['genz'] = ddf_sample_2['age'].apply(lambda x: 1 if x >= 9 and x <= 24 else 0)\n",
        "ddf_sample_3['genz'] = ddf_sample_3['age'].apply(lambda x: 1 if x >= 9 and x <= 24 else 0)"
      ],
      "outputs": [
        {
          "output_type": "stream",
          "name": "stderr",
          "text": "/anaconda/envs/azureml_py36/lib/python3.6/site-packages/dask/dataframe/core.py:3219: UserWarning: \nYou did not provide metadata, so Dask is running your function on a small dataset to guess output types. It is possible that Dask will guess incorrectly.\nTo provide an explicit output types or to silence this message, please provide the `meta=` keyword, as described in the map or apply function that you are using.\n  Before: .apply(func)\n  After:  .apply(func, meta=('age', 'int64'))\n\n  warnings.warn(meta_warning(meta))\n"
        }
      ],
      "execution_count": 9,
      "metadata": {
        "jupyter": {
          "source_hidden": false,
          "outputs_hidden": false
        },
        "nteract": {
          "transient": {
            "deleting": false
          }
        },
        "gather": {
          "logged": 1648607854502
        }
      }
    },
    {
      "cell_type": "code",
      "source": [
        "df_sample_GenZ_1 = ddf_sample_1[['acct_id', 'ACTIVITY_DESC_01', 'genz']]\n",
        "df_sample_GenZ_2 = ddf_sample_2[['acct_id', 'ACTIVITY_DESC_01', 'genz']]\n",
        "df_sample_GenZ_3 = ddf_sample_3[['acct_id', 'ACTIVITY_DESC_01', 'genz']]"
      ],
      "outputs": [],
      "execution_count": 10,
      "metadata": {
        "jupyter": {
          "source_hidden": false,
          "outputs_hidden": false
        },
        "nteract": {
          "transient": {
            "deleting": false
          }
        },
        "gather": {
          "logged": 1648607860924
        }
      }
    },
    {
      "cell_type": "code",
      "source": [
        "df_sample_GenZ_1 = df_sample_GenZ_1.compute()\n",
        "df_sample_GenZ_2 = df_sample_GenZ_2.compute()\n",
        "df_sample_GenZ_3 = df_sample_GenZ_3.compute()"
      ],
      "outputs": [],
      "execution_count": 11,
      "metadata": {
        "jupyter": {
          "source_hidden": false,
          "outputs_hidden": false
        },
        "nteract": {
          "transient": {
            "deleting": false
          }
        },
        "gather": {
          "logged": 1648607930341
        }
      }
    },
    {
      "cell_type": "code",
      "source": [
        "df_sample_GenZ_1.to_csv('GenZ_Sample1', index=False)\n",
        "df_sample_GenZ_2.to_csv('GenZ_Sample2', index=False)\n",
        "df_sample_GenZ_3.to_csv('GenZ_Sample3', index=False)"
      ],
      "outputs": [],
      "execution_count": 12,
      "metadata": {
        "jupyter": {
          "source_hidden": false,
          "outputs_hidden": false
        },
        "nteract": {
          "transient": {
            "deleting": false
          }
        },
        "gather": {
          "logged": 1648584160058
        }
      }
    }
  ],
  "metadata": {
    "kernelspec": {
      "name": "python3-azureml",
      "language": "python",
      "display_name": "Python 3.6 - AzureML"
    },
    "language_info": {
      "name": "python",
      "version": "3.6.9",
      "mimetype": "text/x-python",
      "codemirror_mode": {
        "name": "ipython",
        "version": 3
      },
      "pygments_lexer": "ipython3",
      "nbconvert_exporter": "python",
      "file_extension": ".py"
    },
    "kernel_info": {
      "name": "python3-azureml"
    },
    "nteract": {
      "version": "nteract-front-end@1.0.0"
    },
    "microsoft": {
      "host": {
        "AzureML": {
          "notebookHasBeenCompleted": true
        }
      }
    }
  },
  "nbformat": 4,
  "nbformat_minor": 2
}