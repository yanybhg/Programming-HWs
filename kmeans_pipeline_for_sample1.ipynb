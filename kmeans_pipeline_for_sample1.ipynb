{
  "cells": [
    {
      "cell_type": "code",
      "source": [
        "import numpy as np # linear algebra\r\n",
        "import pandas as pd # data processing, CSV file I/O (e.g. pd.read_csv)\r\n",
        "from sklearn.cluster import MiniBatchKMeans \r\n",
        "from sklearn.feature_extraction.text import TfidfVectorizer\r\n",
        "from sklearn.decomposition import PCA\r\n",
        "from sklearn.preprocessing import normalize\r\n",
        "from sklearn.preprocessing import StandardScaler\r\n",
        "from sklearn.metrics import pairwise_distances\r\n",
        "\r\n",
        "import nltk\r\n",
        "import string\r\n",
        "from sklearn.feature_extraction.text import TfidfVectorizer"
      ],
      "outputs": [],
      "execution_count": 1,
      "metadata": {
        "gather": {
          "logged": 1648609463899
        }
      }
    },
    {
      "cell_type": "code",
      "source": [
        "# First, create a sample data set containing 10 million rows\r\n",
        "# Filter GenZ rows from the sample data set\r\n",
        "# sample data set to train the Kmeans model, just use the function pipeline, which return res, kmeans\r\n",
        "# Use kmeans to predict description of GenZ account in each sample data set"
      ],
      "outputs": [],
      "execution_count": 2,
      "metadata": {
        "jupyter": {
          "source_hidden": false,
          "outputs_hidden": false
        },
        "nteract": {
          "transient": {
            "deleting": false
          }
        },
        "gather": {
          "logged": 1648609466160
        }
      }
    },
    {
      "cell_type": "code",
      "source": [
        "def get_top_features_cluster(tf_idf_vectorizor,tf_idf_array, prediction, n_feats):\r\n",
        "    labels = np.unique(prediction)\r\n",
        "    dfs = []\r\n",
        "    for label in labels:\r\n",
        "        id_temp = np.where(prediction==label) # indices for each cluster\r\n",
        "        x_means = np.mean(tf_idf_array[id_temp], axis = 0) # returns average score across cluster\r\n",
        "        sorted_means = np.argsort(x_means)[::-1][:n_feats] # indices with top 20 scores\r\n",
        "        features = tf_idf_vectorizor.get_feature_names()\r\n",
        "        best_features = [(features[i], x_means[i]) for i in sorted_means]\r\n",
        "        df = pd.DataFrame(best_features, columns = ['features','score'])\r\n",
        "        dfs.append(df)\r\n",
        "    return dfs"
      ],
      "outputs": [],
      "execution_count": 3,
      "metadata": {
        "jupyter": {
          "source_hidden": false,
          "outputs_hidden": false
        },
        "nteract": {
          "transient": {
            "deleting": false
          }
        },
        "gather": {
          "logged": 1648609468533
        }
      }
    },
    {
      "cell_type": "code",
      "source": [
        "# Concatenate seperate dataframes\r\n",
        "# Input is a list of dataframes\r\n",
        "def concatdf(dfs):\r\n",
        "    res = dfs[0]\r\n",
        "    for num in range(1,len(dfs)):\r\n",
        "        res = pd.concat([res,dfs[num]],axis=1)\r\n",
        "    return res"
      ],
      "outputs": [],
      "execution_count": 4,
      "metadata": {
        "jupyter": {
          "source_hidden": false,
          "outputs_hidden": false
        },
        "nteract": {
          "transient": {
            "deleting": false
          }
        },
        "gather": {
          "logged": 1648609472071
        }
      }
    },
    {
      "cell_type": "code",
      "source": [
        "# Use this function to implement TF-IDF, PCA and kmeans over input dataframe in sequence\r\n",
        "# input is a file path\r\n",
        "def pipeline(file):\r\n",
        "    \r\n",
        "    df = pd.read_csv(file) #Read file\r\n",
        "    data = df['ACTIVITY_DESC_01'].dropna() # Select description column and drop null rows\r\n",
        "    del df # delete nonuseable variable and free RAM\r\n",
        "    \r\n",
        "    # Use TF-IDF to vectorize the text\r\n",
        "    tf_idf_vectorizor = TfidfVectorizer(stop_words = 'english',#tokenizer = tokenize_and_stem,\r\n",
        "                             max_features = 200) # Instantiate a TF class\r\n",
        "    tf_idf = tf_idf_vectorizor.fit_transform(data)\r\n",
        "    tf_idf_norm = normalize(tf_idf)\r\n",
        "    tf_idf_array = tf_idf_norm.toarray()\r\n",
        "    del data,tf_idf,tf_idf_norm # Delete variables and release RAM\r\n",
        "    \r\n",
        "    # Use PCA to reduce dimension\r\n",
        "    pca = PCA(n_components=100) # Instantiate a PCA class\r\n",
        "    tf_new = pca.fit_transform(tf_idf_array) # tf_new is the transformed matrix derived from PCA\r\n",
        "\r\n",
        "    # Use Kmeans to cluster inputs\r\n",
        "    kmeans = MiniBatchKMeans(n_clusters= 160, random_state= 0) # Use Minibatchkmeans to speed up\r\n",
        "    kmeans.fit(tf_new)\r\n",
        "    print(kmeans.score(tf_new)) # Get the score of Kmeans model\r\n",
        "    pre = kmeans.predict(tf_new)\r\n",
        "    dfs = get_top_features_cluster(tf_idf_vectorizor,tf_idf_array, pre, 5) # Get top 5 common words of each cluster\r\n",
        "    res = concatdf(dfs) # Concatenate the seperate dataframes\r\n",
        "    return res,kmeans"
      ],
      "outputs": [],
      "execution_count": 5,
      "metadata": {
        "jupyter": {
          "source_hidden": false,
          "outputs_hidden": false
        },
        "nteract": {
          "transient": {
            "deleting": false
          }
        },
        "gather": {
          "logged": 1648609473914
        }
      }
    },
    {
      "cell_type": "code",
      "source": [
        "# This operation will need about 19 minutes\r\n",
        "res,kmeans = pipeline('GenZ_Sample1.csv')"
      ],
      "outputs": [
        {
          "output_type": "stream",
          "name": "stdout",
          "text": "-481520.3988132584\n"
        }
      ],
      "execution_count": 6,
      "metadata": {
        "jupyter": {
          "source_hidden": false,
          "outputs_hidden": false
        },
        "nteract": {
          "transient": {
            "deleting": false
          }
        },
        "gather": {
          "logged": 1648610533066
        }
      }
    },
    {
      "cell_type": "code",
      "source": [
        "res"
      ],
      "outputs": [
        {
          "output_type": "execute_result",
          "execution_count": 12,
          "data": {
            "text/plain": "  features     score features     score features     score   features  \\\n0      crd  0.603758      chk  0.711746      pur  0.882768        chk   \n1      chk  0.453990      crd  0.702437      pos  0.469809        crd   \n2      pos  0.451335     xfer  0.000000     xfer  0.000000  starbucks   \n3      pur  0.087760       el  0.000000   echeck  0.000000     subway   \n4   echeck  0.000000      fil  0.000000       fe  0.000000      pizza   \n\n      score features     score  ... features     score features     score  \\\n0  0.236576      wal  0.836475  ...       dd  0.740551    apple  0.623339   \n1  0.233482      pos  0.362451  ...       br  0.368199      com  0.537937   \n2  0.138733      pur  0.340521  ...      chk  0.208712      rec  0.502681   \n3  0.084261      chk  0.022196  ...      crd  0.205982      pur  0.263389   \n4  0.081913      crd  0.021906  ...      pos  0.000579     xfer  0.000000   \n\n  features     score   features     score features     score  \n0      com  0.875975        ugi  0.800743   amazon  0.712989  \n1      chk  0.343315  utilities  0.497546      com  0.615012  \n2      crd  0.338825     online  0.090324      chk  0.238375  \n3   echeck  0.000000        pmt  0.087094      crd  0.235258  \n4      fil  0.000000    autopay  0.003430      rec  0.000022  \n\n[5 rows x 314 columns]",
            "text/html": "<div>\n<style scoped>\n    .dataframe tbody tr th:only-of-type {\n        vertical-align: middle;\n    }\n\n    .dataframe tbody tr th {\n        vertical-align: top;\n    }\n\n    .dataframe thead th {\n        text-align: right;\n    }\n</style>\n<table border=\"1\" class=\"dataframe\">\n  <thead>\n    <tr style=\"text-align: right;\">\n      <th></th>\n      <th>features</th>\n      <th>score</th>\n      <th>features</th>\n      <th>score</th>\n      <th>features</th>\n      <th>score</th>\n      <th>features</th>\n      <th>score</th>\n      <th>features</th>\n      <th>score</th>\n      <th>...</th>\n      <th>features</th>\n      <th>score</th>\n      <th>features</th>\n      <th>score</th>\n      <th>features</th>\n      <th>score</th>\n      <th>features</th>\n      <th>score</th>\n      <th>features</th>\n      <th>score</th>\n    </tr>\n  </thead>\n  <tbody>\n    <tr>\n      <th>0</th>\n      <td>crd</td>\n      <td>0.603758</td>\n      <td>chk</td>\n      <td>0.711746</td>\n      <td>pur</td>\n      <td>0.882768</td>\n      <td>chk</td>\n      <td>0.236576</td>\n      <td>wal</td>\n      <td>0.836475</td>\n      <td>...</td>\n      <td>dd</td>\n      <td>0.740551</td>\n      <td>apple</td>\n      <td>0.623339</td>\n      <td>com</td>\n      <td>0.875975</td>\n      <td>ugi</td>\n      <td>0.800743</td>\n      <td>amazon</td>\n      <td>0.712989</td>\n    </tr>\n    <tr>\n      <th>1</th>\n      <td>chk</td>\n      <td>0.453990</td>\n      <td>crd</td>\n      <td>0.702437</td>\n      <td>pos</td>\n      <td>0.469809</td>\n      <td>crd</td>\n      <td>0.233482</td>\n      <td>pos</td>\n      <td>0.362451</td>\n      <td>...</td>\n      <td>br</td>\n      <td>0.368199</td>\n      <td>com</td>\n      <td>0.537937</td>\n      <td>chk</td>\n      <td>0.343315</td>\n      <td>utilities</td>\n      <td>0.497546</td>\n      <td>com</td>\n      <td>0.615012</td>\n    </tr>\n    <tr>\n      <th>2</th>\n      <td>pos</td>\n      <td>0.451335</td>\n      <td>xfer</td>\n      <td>0.000000</td>\n      <td>xfer</td>\n      <td>0.000000</td>\n      <td>starbucks</td>\n      <td>0.138733</td>\n      <td>pur</td>\n      <td>0.340521</td>\n      <td>...</td>\n      <td>chk</td>\n      <td>0.208712</td>\n      <td>rec</td>\n      <td>0.502681</td>\n      <td>crd</td>\n      <td>0.338825</td>\n      <td>online</td>\n      <td>0.090324</td>\n      <td>chk</td>\n      <td>0.238375</td>\n    </tr>\n    <tr>\n      <th>3</th>\n      <td>pur</td>\n      <td>0.087760</td>\n      <td>el</td>\n      <td>0.000000</td>\n      <td>echeck</td>\n      <td>0.000000</td>\n      <td>subway</td>\n      <td>0.084261</td>\n      <td>chk</td>\n      <td>0.022196</td>\n      <td>...</td>\n      <td>crd</td>\n      <td>0.205982</td>\n      <td>pur</td>\n      <td>0.263389</td>\n      <td>echeck</td>\n      <td>0.000000</td>\n      <td>pmt</td>\n      <td>0.087094</td>\n      <td>crd</td>\n      <td>0.235258</td>\n    </tr>\n    <tr>\n      <th>4</th>\n      <td>echeck</td>\n      <td>0.000000</td>\n      <td>fil</td>\n      <td>0.000000</td>\n      <td>fe</td>\n      <td>0.000000</td>\n      <td>pizza</td>\n      <td>0.081913</td>\n      <td>crd</td>\n      <td>0.021906</td>\n      <td>...</td>\n      <td>pos</td>\n      <td>0.000579</td>\n      <td>xfer</td>\n      <td>0.000000</td>\n      <td>fil</td>\n      <td>0.000000</td>\n      <td>autopay</td>\n      <td>0.003430</td>\n      <td>rec</td>\n      <td>0.000022</td>\n    </tr>\n  </tbody>\n</table>\n<p>5 rows × 314 columns</p>\n</div>"
          },
          "metadata": {}
        }
      ],
      "execution_count": 12,
      "metadata": {
        "jupyter": {
          "source_hidden": false,
          "outputs_hidden": false
        },
        "nteract": {
          "transient": {
            "deleting": false
          }
        },
        "gather": {
          "logged": 1648613689577
        }
      }
    },
    {
      "cell_type": "code",
      "source": [
        "# Return specific columns of result, begin_column\r\n",
        "# and end_column are integer between (1,312)\r\n",
        "def showres(res,begin_column,end_column):\r\n",
        "    return res.iloc[:,begin_column,end_column]"
      ],
      "outputs": [],
      "execution_count": 7,
      "metadata": {
        "jupyter": {
          "source_hidden": false,
          "outputs_hidden": false
        },
        "nteract": {
          "transient": {
            "deleting": false
          }
        },
        "gather": {
          "logged": 1648610556146
        }
      }
    },
    {
      "cell_type": "code",
      "source": [
        "# Use this function to save dataframe as csv file\r\n",
        "# res is the dataframe, and filename need to be like \"xxx.csv\"\r\n",
        "def savecsv(res,filename):\r\n",
        "    res.to_csv(filename,index=False)"
      ],
      "outputs": [],
      "execution_count": 8,
      "metadata": {
        "jupyter": {
          "source_hidden": false,
          "outputs_hidden": false
        },
        "nteract": {
          "transient": {
            "deleting": false
          }
        },
        "gather": {
          "logged": 1648610557450
        }
      }
    },
    {
      "cell_type": "code",
      "source": [
        "savecsv(res,'cluster_of_sample1.csv')"
      ],
      "outputs": [],
      "execution_count": 10,
      "metadata": {
        "jupyter": {
          "source_hidden": false,
          "outputs_hidden": false
        },
        "nteract": {
          "transient": {
            "deleting": false
          }
        },
        "gather": {
          "logged": 1648610596807
        }
      }
    },
    {
      "cell_type": "code",
      "source": [
        "df = pd.read_csv('GenZ_Sample1.csv').dropna()"
      ],
      "outputs": [],
      "execution_count": 17,
      "metadata": {
        "jupyter": {
          "source_hidden": false,
          "outputs_hidden": false
        },
        "nteract": {
          "transient": {
            "deleting": false
          }
        },
        "gather": {
          "logged": 1648614347140
        }
      }
    },
    {
      "cell_type": "code",
      "source": [
        "df_trans = df['ACTIVITY_DESC_01']"
      ],
      "outputs": [],
      "execution_count": 18,
      "metadata": {
        "jupyter": {
          "source_hidden": false,
          "outputs_hidden": false
        },
        "nteract": {
          "transient": {
            "deleting": false
          }
        },
        "gather": {
          "logged": 1648614398689
        }
      }
    },
    {
      "cell_type": "code",
      "source": [
        "tf_idf_vectorizor = TfidfVectorizer(stop_words = 'english',#tokenizer = tokenize_and_stem,\r\n",
        "                             max_features = 200) # Instantiate a TF class\r\n",
        "tf_idf_1 = tf_idf_vectorizor.fit_transform(df_trans)\r\n",
        "tf_idf_norm_1 = normalize(tf_idf_1)\r\n",
        "tf_idf_array_1 = tf_idf_norm_1.toarray()"
      ],
      "outputs": [],
      "execution_count": 20,
      "metadata": {
        "jupyter": {
          "source_hidden": false,
          "outputs_hidden": false
        },
        "nteract": {
          "transient": {
            "deleting": false
          }
        },
        "gather": {
          "logged": 1648614558275
        }
      }
    },
    {
      "cell_type": "code",
      "source": [
        "pca = PCA(n_components=100) # Instantiate a PCA class\r\n",
        "tf_new_1 = pca.fit_transform(tf_idf_array_1) # tf_new is the transformed matrix derived from PCA\r\n"
      ],
      "outputs": [],
      "execution_count": 21,
      "metadata": {
        "jupyter": {
          "source_hidden": false,
          "outputs_hidden": false
        },
        "nteract": {
          "transient": {
            "deleting": false
          }
        },
        "gather": {
          "logged": 1648614961167
        }
      }
    },
    {
      "cell_type": "code",
      "source": [
        "df['pre'] = kmeans.predict(tf_new_1)"
      ],
      "outputs": [],
      "execution_count": 22,
      "metadata": {
        "jupyter": {
          "source_hidden": false,
          "outputs_hidden": false
        },
        "nteract": {
          "transient": {
            "deleting": false
          }
        },
        "gather": {
          "logged": 1648615562080
        }
      }
    },
    {
      "cell_type": "code",
      "source": [
        "df_genz = df[df['genz'] == 1]"
      ],
      "outputs": [],
      "execution_count": 25,
      "metadata": {
        "jupyter": {
          "source_hidden": false,
          "outputs_hidden": false
        },
        "nteract": {
          "transient": {
            "deleting": false
          }
        },
        "gather": {
          "logged": 1648616537530
        }
      }
    },
    {
      "cell_type": "code",
      "source": [
        "df_genz"
      ],
      "outputs": [
        {
          "output_type": "execute_result",
          "execution_count": 27,
          "data": {
            "text/plain": "                                                   acct_id  \\\n2        4827A05037B35E8AAD557E8A43529A6BD6EA27D0686E76...   \n11       876D5E18A3D3F83E92E5B3A26837152D7A9E3CC24B724F...   \n16       A5F692352F47A31131FACC94F7CA702D955A65F81C666F...   \n30       E998A0634F37A147BB5491C37381D491E6D7B1C4A9F898...   \n46       EF002538D6B6FE167FACF7546FB4648A421A1B376911B4...   \n...                                                    ...   \n9999951  3E76C082487E16E5D796E428E1B551A589021811BD5C30...   \n9999952  23A177CCFE92E39284C7F024F404E61330C3BFD47F1727...   \n9999962  0E836C0EEB854F0E05C26C0769C20482B2D03054CA3792...   \n9999989  8483DB89D60773F9BD6047143BB73062F48F6E9B435B01...   \n9999997  A9204893D20E82E8FFF189AC903920DE002E8C3DDD1E04...   \n\n                    ACTIVITY_DESC_01  genz  pre  \n2            CHK CRD Amazon Pri 0321     1   93  \n11           CHK CRD THE SALVAT 9247     1    1  \n16           CHK CRD www.palott 2053     1    3  \n30           CHK CRD VENMO  *TR 2135     1   16  \n46           CHK CRD APPLE.COM/ 2339     1   56  \n...                              ...   ...  ...  \n9999951      POS PUR CVS/PHARMA 0039     1  115  \n9999952      POS PUR TURKEY HIL 9245     1  134  \n9999962  ACIMA            8012971982     1   97  \n9999989      MNY TRF CASH APP*R 5701     1   74  \n9999997      CHK CRD WENDY'S #2 2070     1    3  \n\n[890232 rows x 4 columns]",
            "text/html": "<div>\n<style scoped>\n    .dataframe tbody tr th:only-of-type {\n        vertical-align: middle;\n    }\n\n    .dataframe tbody tr th {\n        vertical-align: top;\n    }\n\n    .dataframe thead th {\n        text-align: right;\n    }\n</style>\n<table border=\"1\" class=\"dataframe\">\n  <thead>\n    <tr style=\"text-align: right;\">\n      <th></th>\n      <th>acct_id</th>\n      <th>ACTIVITY_DESC_01</th>\n      <th>genz</th>\n      <th>pre</th>\n    </tr>\n  </thead>\n  <tbody>\n    <tr>\n      <th>2</th>\n      <td>4827A05037B35E8AAD557E8A43529A6BD6EA27D0686E76...</td>\n      <td>CHK CRD Amazon Pri 0321</td>\n      <td>1</td>\n      <td>93</td>\n    </tr>\n    <tr>\n      <th>11</th>\n      <td>876D5E18A3D3F83E92E5B3A26837152D7A9E3CC24B724F...</td>\n      <td>CHK CRD THE SALVAT 9247</td>\n      <td>1</td>\n      <td>1</td>\n    </tr>\n    <tr>\n      <th>16</th>\n      <td>A5F692352F47A31131FACC94F7CA702D955A65F81C666F...</td>\n      <td>CHK CRD www.palott 2053</td>\n      <td>1</td>\n      <td>3</td>\n    </tr>\n    <tr>\n      <th>30</th>\n      <td>E998A0634F37A147BB5491C37381D491E6D7B1C4A9F898...</td>\n      <td>CHK CRD VENMO  *TR 2135</td>\n      <td>1</td>\n      <td>16</td>\n    </tr>\n    <tr>\n      <th>46</th>\n      <td>EF002538D6B6FE167FACF7546FB4648A421A1B376911B4...</td>\n      <td>CHK CRD APPLE.COM/ 2339</td>\n      <td>1</td>\n      <td>56</td>\n    </tr>\n    <tr>\n      <th>...</th>\n      <td>...</td>\n      <td>...</td>\n      <td>...</td>\n      <td>...</td>\n    </tr>\n    <tr>\n      <th>9999951</th>\n      <td>3E76C082487E16E5D796E428E1B551A589021811BD5C30...</td>\n      <td>POS PUR CVS/PHARMA 0039</td>\n      <td>1</td>\n      <td>115</td>\n    </tr>\n    <tr>\n      <th>9999952</th>\n      <td>23A177CCFE92E39284C7F024F404E61330C3BFD47F1727...</td>\n      <td>POS PUR TURKEY HIL 9245</td>\n      <td>1</td>\n      <td>134</td>\n    </tr>\n    <tr>\n      <th>9999962</th>\n      <td>0E836C0EEB854F0E05C26C0769C20482B2D03054CA3792...</td>\n      <td>ACIMA            8012971982</td>\n      <td>1</td>\n      <td>97</td>\n    </tr>\n    <tr>\n      <th>9999989</th>\n      <td>8483DB89D60773F9BD6047143BB73062F48F6E9B435B01...</td>\n      <td>MNY TRF CASH APP*R 5701</td>\n      <td>1</td>\n      <td>74</td>\n    </tr>\n    <tr>\n      <th>9999997</th>\n      <td>A9204893D20E82E8FFF189AC903920DE002E8C3DDD1E04...</td>\n      <td>CHK CRD WENDY'S #2 2070</td>\n      <td>1</td>\n      <td>3</td>\n    </tr>\n  </tbody>\n</table>\n<p>890232 rows × 4 columns</p>\n</div>"
          },
          "metadata": {}
        }
      ],
      "execution_count": 27,
      "metadata": {
        "jupyter": {
          "source_hidden": false,
          "outputs_hidden": false
        },
        "nteract": {
          "transient": {
            "deleting": false
          }
        },
        "gather": {
          "logged": 1648616643198
        }
      }
    },
    {
      "cell_type": "code",
      "source": [
        "del df, df_trans, tf_idf_vectorizor, tf_idf_1, tf_idf_norm_1, tf_idf_array_1, pca, tf_new_1"
      ],
      "outputs": [
        {
          "output_type": "error",
          "ename": "NameError",
          "evalue": "name 'df' is not defined",
          "traceback": [
            "\u001b[0;31m---------------------------------------------------------------------------\u001b[0m",
            "\u001b[0;31mNameError\u001b[0m                                 Traceback (most recent call last)",
            "\u001b[0;32m<ipython-input-29-93b227fe08ff>\u001b[0m in \u001b[0;36m<module>\u001b[0;34m\u001b[0m\n\u001b[0;32m----> 1\u001b[0;31m \u001b[0;32mdel\u001b[0m \u001b[0mdf\u001b[0m\u001b[0;34m,\u001b[0m \u001b[0mdf_trans\u001b[0m\u001b[0;34m,\u001b[0m \u001b[0mtf_idf_vectorizor\u001b[0m\u001b[0;34m,\u001b[0m \u001b[0mtf_idf_1\u001b[0m\u001b[0;34m,\u001b[0m \u001b[0mtf_idf_norm_1\u001b[0m\u001b[0;34m,\u001b[0m \u001b[0mtf_idf_array_1\u001b[0m\u001b[0;34m,\u001b[0m \u001b[0mpca\u001b[0m\u001b[0;34m,\u001b[0m \u001b[0mtf_new_1\u001b[0m\u001b[0;34m\u001b[0m\u001b[0;34m\u001b[0m\u001b[0m\n\u001b[0m",
            "\u001b[0;31mNameError\u001b[0m: name 'df' is not defined"
          ]
        }
      ],
      "execution_count": 29,
      "metadata": {
        "jupyter": {
          "source_hidden": false,
          "outputs_hidden": false
        },
        "nteract": {
          "transient": {
            "deleting": false
          }
        },
        "gather": {
          "logged": 1648616784598
        }
      }
    },
    {
      "cell_type": "code",
      "source": [
        "dic = {1:'General purchases',\r\n",
        "       2:'General purchases',\r\n",
        "       3:'General purchases',\r\n",
        "       4:'Restaurant',\r\n",
        "       5:'General purchases',\r\n",
        "       6:'Money Transfer',\r\n",
        "       7:'Supermarket/General Stores', \r\n",
        "       8:'Supermarket/General Stores',\r\n",
        "       9:'Restaurant', \r\n",
        "       10:'Bill payment',\r\n",
        "       11:'Online Shopping', \r\n",
        "       12:'General purchases',\r\n",
        "       13:'Gas Station', \r\n",
        "       14:'Convenience Store',\r\n",
        "       15:'Insurance', \r\n",
        "       16:'Bill payment',\r\n",
        "       17:'Money Transfer',\r\n",
        "       18:'Supermarket/General Stores',\r\n",
        "       19:'Gas Station',\r\n",
        "       20:'Digital Payments',\r\n",
        "       21:'Supermarket/General Stores',\r\n",
        "       22:'Supermarket/General Stores',\r\n",
        "       23:'Convenience Store',\r\n",
        "       24:'Convenience Store',\r\n",
        "       25:'Bill payment',\r\n",
        "       26:'General purchases',\r\n",
        "       27:'Insurance',\r\n",
        "       28:'General purchases',\r\n",
        "       29:'Supermarket/General Stores',\r\n",
        "       30:'Online Video Streaming Service',\r\n",
        "       31:'Unknown',\r\n",
        "       32:'Supermarket/General Stores',\r\n",
        "       33:'Restaurant',\r\n",
        "       34:'Bank',\r\n",
        "       35:'Insurance',\r\n",
        "       36:'Bill payment',\r\n",
        "       37:'Supermarket/General Stores',\r\n",
        "       38:'Investment',\r\n",
        "       39:'Supermarket/General Stores',\r\n",
        "       40:'General purchases',\r\n",
        "       41:'Bill payment',\r\n",
        "       42:'Bill payment',\r\n",
        "       43:'Bill payment',\r\n",
        "       44:'Money Transfer',\r\n",
        "       45:'Supermarket/General Stores',\r\n",
        "       46:'General purchases',\r\n",
        "       47:'Bill payment',\r\n",
        "       48:'Unknown',\r\n",
        "       49:'Unknown',\r\n",
        "       50:'Bill payment',\r\n",
        "       51:'Gas Station',\r\n",
        "       52:'Gas Station',\r\n",
        "       53:'Restaurant',\r\n",
        "       54:'Bill payment',\r\n",
        "       55:'Bill payment',\r\n",
        "       56:'Unknown',\r\n",
        "       57:'Convenience Store',\r\n",
        "       58:'Supermarket/General Stores',\r\n",
        "       59:'Gas Station',\r\n",
        "       60:'Gas Station',\r\n",
        "       61:'Money Transfer',\r\n",
        "       62:'Online Video Streaming Service',\r\n",
        "       63:'Supermarket/General Stores',\r\n",
        "       64:'Unknown',\r\n",
        "       65:'General purchases',\r\n",
        "       66:'Unknown',\r\n",
        "       67:'Unknown',\r\n",
        "       68:'Bill payment',\r\n",
        "       69:'Investment',\r\n",
        "       70:'Money Transfer',\r\n",
        "       71:'Unknown',\r\n",
        "       72:'Bill payment',\r\n",
        "       73:'Money Transfer',\r\n",
        "       74:'Supermarket/General Stores',\r\n",
        "       75:'Bill payment',\r\n",
        "       76:'Gas Station',\r\n",
        "       77:'Home improvement',\r\n",
        "       78:'Bill payment',\r\n",
        "       79:'Supermarket/General Stores',\r\n",
        "       80:'Bill payment',\r\n",
        "       81:'Bill payment',\r\n",
        "       82:'Food Delivery',\r\n",
        "       83:'Bill payment',\r\n",
        "       84:'Restaurant',\r\n",
        "       85:'Bill payment',\r\n",
        "       86:'Gas Station',\r\n",
        "       87:'Supermarket/General Stores',\r\n",
        "       88:'Convenience Store',\r\n",
        "       89:'General purchases',\r\n",
        "       90:'Restaurant',\r\n",
        "       91:'Supermarket/General Stores',\r\n",
        "       92:'Online Shopping',\r\n",
        "       93:'Bill payment',\r\n",
        "       94:'Money Transfer',\r\n",
        "       95:'Bill payment',\r\n",
        "       96:'Supermarket/General Stores',\r\n",
        "       100:'Supermarket/General Stores',\r\n",
        "       101:'Bill payment',\r\n",
        "       102:'General purchases',\r\n",
        "       103:'Insurance',\r\n",
        "       104:'Online Shopping',\r\n",
        "       105:'Supermarket/General Stores',\r\n",
        "       106:'Bill payment',\r\n",
        "       107:'Supermarket/General Stores',\r\n",
        "       108:'Insurance',\r\n",
        "       109:'Supermarket/General Stores',\r\n",
        "       110:'Convenience Store',\r\n",
        "       111:'Gas Station',\r\n",
        "       112:'Bank',\r\n",
        "       113:'Convenience Store',\r\n",
        "       114:'Supermarket/General Stores',\r\n",
        "       115:'Bill payment',\r\n",
        "       116:'Bill payment',\r\n",
        "       117:'Bill payment',\r\n",
        "       118:'Online Shopping',\r\n",
        "       119:'Supermarket/General Stores',\r\n",
        "       120:'Supermarket/General Stores',\r\n",
        "       121:'Supermarket/General Stores',\r\n",
        "       122:'Bill payment',\r\n",
        "       123:'Insurance',\r\n",
        "       124:'Convenience Store',\r\n",
        "       125:'Supermarket/General Stores',\r\n",
        "       126:'Home improvement',\r\n",
        "       127:'Restaurant',\r\n",
        "       128:'Bill payment',\r\n",
        "       129:'Gym membership',\r\n",
        "       130:'Transportation',\r\n",
        "       131:'Supermarket/General Stores',\r\n",
        "       132:'Bill payment', \r\n",
        "       133:'Convenience Store',\r\n",
        "       134:'Unknown',\r\n",
        "       135:'Home improvement',\r\n",
        "       136:'Mail and Package Delivery Service',\r\n",
        "       137:'Bill payment',\r\n",
        "       138:'Supermarket/General Stores',\r\n",
        "       139:'Gas Station',\r\n",
        "       140:'Supermarket/General Stores',\r\n",
        "       141:'Gas Station',\r\n",
        "       142:'Unknown',\r\n",
        "       143:'Unknown',\r\n",
        "       144:'Bill payment',\r\n",
        "       145:'Supermarket/General Stores',\r\n",
        "       146:'Supermarket/General Stores',\r\n",
        "       147:'General purchases',\r\n",
        "       148:'Bill payment',\r\n",
        "       149:'Money Transfer',\r\n",
        "       150:'Bill payment',\r\n",
        "       151:'Gas Station',\r\n",
        "       152:'Supermarket/General Stores',\r\n",
        "       153:'Unknown',\r\n",
        "       154:'Bill payment',\r\n",
        "       155:'Bill payment',\r\n",
        "       156:'Bill payment',\r\n",
        "       157:'Online Shopping'\r\n",
        "}"
      ],
      "outputs": [],
      "execution_count": 36,
      "metadata": {
        "jupyter": {
          "source_hidden": false,
          "outputs_hidden": false
        },
        "nteract": {
          "transient": {
            "deleting": false
          }
        },
        "gather": {
          "logged": 1648627523619
        }
      }
    },
    {
      "cell_type": "code",
      "source": [
        "df = pd.read_csv('GenZ_Sample1.csv').dropna()\r\n",
        "df_trans = df['ACTIVITY_DESC_01']\r\n",
        "tf_idf_vectorizor = TfidfVectorizer(stop_words = 'english',#tokenizer = tokenize_and_stem,\r\n",
        "                             max_features = 200) # Instantiate a TF class\r\n",
        "tf_idf_1 = tf_idf_vectorizor.fit_transform(df_trans)\r\n",
        "tf_idf_norm_1 = normalize(tf_idf_1)\r\n",
        "tf_idf_array_1 = tf_idf_norm_1.toarray()\r\n",
        "pca = PCA(n_components=100) # Instantiate a PCA class\r\n",
        "tf_new_1 = pca.fit_transform(tf_idf_array_1) # tf_new is the transformed matrix derived from PCA\r\n",
        "df['pre'] = kmeans.predict(tf_new_1)\r\n",
        "df_genz1 = df[df['genz'] == 1]\r\n",
        "del df, df_trans, tf_idf_vectorizor, tf_idf_1, tf_idf_norm_1, tf_idf_array_1, pca, tf_new_1"
      ],
      "outputs": [],
      "execution_count": 38,
      "metadata": {
        "jupyter": {
          "source_hidden": false,
          "outputs_hidden": false
        },
        "nteract": {
          "transient": {
            "deleting": false
          }
        },
        "gather": {
          "logged": 1648628686732
        }
      }
    },
    {
      "cell_type": "code",
      "source": [
        "df_genz['text'] = df_genz1['pre'].apply(lambda x: dic.get(x))"
      ],
      "outputs": [
        {
          "output_type": "stream",
          "name": "stderr",
          "text": "/anaconda/envs/azureml_py36/lib/python3.6/site-packages/ipykernel_launcher.py:1: SettingWithCopyWarning: \nA value is trying to be set on a copy of a slice from a DataFrame.\nTry using .loc[row_indexer,col_indexer] = value instead\n\nSee the caveats in the documentation: http://pandas.pydata.org/pandas-docs/stable/user_guide/indexing.html#returning-a-view-versus-a-copy\n  \"\"\"Entry point for launching an IPython kernel.\n"
        }
      ],
      "execution_count": 39,
      "metadata": {
        "jupyter": {
          "source_hidden": false,
          "outputs_hidden": false
        },
        "nteract": {
          "transient": {
            "deleting": false
          }
        },
        "gather": {
          "logged": 1648628702516
        }
      }
    },
    {
      "cell_type": "code",
      "source": [
        "df_genz"
      ],
      "outputs": [
        {
          "output_type": "execute_result",
          "execution_count": 40,
          "data": {
            "text/plain": "                                                   acct_id  \\\n2        4827A05037B35E8AAD557E8A43529A6BD6EA27D0686E76...   \n11       876D5E18A3D3F83E92E5B3A26837152D7A9E3CC24B724F...   \n16       A5F692352F47A31131FACC94F7CA702D955A65F81C666F...   \n30       E998A0634F37A147BB5491C37381D491E6D7B1C4A9F898...   \n46       EF002538D6B6FE167FACF7546FB4648A421A1B376911B4...   \n...                                                    ...   \n9999951  3E76C082487E16E5D796E428E1B551A589021811BD5C30...   \n9999952  23A177CCFE92E39284C7F024F404E61330C3BFD47F1727...   \n9999962  0E836C0EEB854F0E05C26C0769C20482B2D03054CA3792...   \n9999989  8483DB89D60773F9BD6047143BB73062F48F6E9B435B01...   \n9999997  A9204893D20E82E8FFF189AC903920DE002E8C3DDD1E04...   \n\n                    ACTIVITY_DESC_01  genz  pre                        text  \n2            CHK CRD Amazon Pri 0321     1   93                Bill payment  \n11           CHK CRD THE SALVAT 9247     1    1           General purchases  \n16           CHK CRD www.palott 2053     1    3           General purchases  \n30           CHK CRD VENMO  *TR 2135     1   16                Bill payment  \n46           CHK CRD APPLE.COM/ 2339     1   56                     Unknown  \n...                              ...   ...  ...                         ...  \n9999951      POS PUR CVS/PHARMA 0039     1  115                Bill payment  \n9999952      POS PUR TURKEY HIL 9245     1  134                     Unknown  \n9999962  ACIMA            8012971982     1   97                        None  \n9999989      MNY TRF CASH APP*R 5701     1   74  Supermarket/General Stores  \n9999997      CHK CRD WENDY'S #2 2070     1    3           General purchases  \n\n[890232 rows x 5 columns]",
            "text/html": "<div>\n<style scoped>\n    .dataframe tbody tr th:only-of-type {\n        vertical-align: middle;\n    }\n\n    .dataframe tbody tr th {\n        vertical-align: top;\n    }\n\n    .dataframe thead th {\n        text-align: right;\n    }\n</style>\n<table border=\"1\" class=\"dataframe\">\n  <thead>\n    <tr style=\"text-align: right;\">\n      <th></th>\n      <th>acct_id</th>\n      <th>ACTIVITY_DESC_01</th>\n      <th>genz</th>\n      <th>pre</th>\n      <th>text</th>\n    </tr>\n  </thead>\n  <tbody>\n    <tr>\n      <th>2</th>\n      <td>4827A05037B35E8AAD557E8A43529A6BD6EA27D0686E76...</td>\n      <td>CHK CRD Amazon Pri 0321</td>\n      <td>1</td>\n      <td>93</td>\n      <td>Bill payment</td>\n    </tr>\n    <tr>\n      <th>11</th>\n      <td>876D5E18A3D3F83E92E5B3A26837152D7A9E3CC24B724F...</td>\n      <td>CHK CRD THE SALVAT 9247</td>\n      <td>1</td>\n      <td>1</td>\n      <td>General purchases</td>\n    </tr>\n    <tr>\n      <th>16</th>\n      <td>A5F692352F47A31131FACC94F7CA702D955A65F81C666F...</td>\n      <td>CHK CRD www.palott 2053</td>\n      <td>1</td>\n      <td>3</td>\n      <td>General purchases</td>\n    </tr>\n    <tr>\n      <th>30</th>\n      <td>E998A0634F37A147BB5491C37381D491E6D7B1C4A9F898...</td>\n      <td>CHK CRD VENMO  *TR 2135</td>\n      <td>1</td>\n      <td>16</td>\n      <td>Bill payment</td>\n    </tr>\n    <tr>\n      <th>46</th>\n      <td>EF002538D6B6FE167FACF7546FB4648A421A1B376911B4...</td>\n      <td>CHK CRD APPLE.COM/ 2339</td>\n      <td>1</td>\n      <td>56</td>\n      <td>Unknown</td>\n    </tr>\n    <tr>\n      <th>...</th>\n      <td>...</td>\n      <td>...</td>\n      <td>...</td>\n      <td>...</td>\n      <td>...</td>\n    </tr>\n    <tr>\n      <th>9999951</th>\n      <td>3E76C082487E16E5D796E428E1B551A589021811BD5C30...</td>\n      <td>POS PUR CVS/PHARMA 0039</td>\n      <td>1</td>\n      <td>115</td>\n      <td>Bill payment</td>\n    </tr>\n    <tr>\n      <th>9999952</th>\n      <td>23A177CCFE92E39284C7F024F404E61330C3BFD47F1727...</td>\n      <td>POS PUR TURKEY HIL 9245</td>\n      <td>1</td>\n      <td>134</td>\n      <td>Unknown</td>\n    </tr>\n    <tr>\n      <th>9999962</th>\n      <td>0E836C0EEB854F0E05C26C0769C20482B2D03054CA3792...</td>\n      <td>ACIMA            8012971982</td>\n      <td>1</td>\n      <td>97</td>\n      <td>None</td>\n    </tr>\n    <tr>\n      <th>9999989</th>\n      <td>8483DB89D60773F9BD6047143BB73062F48F6E9B435B01...</td>\n      <td>MNY TRF CASH APP*R 5701</td>\n      <td>1</td>\n      <td>74</td>\n      <td>Supermarket/General Stores</td>\n    </tr>\n    <tr>\n      <th>9999997</th>\n      <td>A9204893D20E82E8FFF189AC903920DE002E8C3DDD1E04...</td>\n      <td>CHK CRD WENDY'S #2 2070</td>\n      <td>1</td>\n      <td>3</td>\n      <td>General purchases</td>\n    </tr>\n  </tbody>\n</table>\n<p>890232 rows × 5 columns</p>\n</div>"
          },
          "metadata": {}
        }
      ],
      "execution_count": 40,
      "metadata": {
        "jupyter": {
          "source_hidden": false,
          "outputs_hidden": false
        },
        "nteract": {
          "transient": {
            "deleting": false
          }
        },
        "gather": {
          "logged": 1648628710820
        }
      }
    },
    {
      "cell_type": "code",
      "source": [
        "# The most common purchase type to GenZ sample2\r\n",
        "df_genz['text'].value_counts()"
      ],
      "outputs": [
        {
          "output_type": "execute_result",
          "execution_count": 41,
          "data": {
            "text/plain": "General purchases                    347047\nSupermarket/General Stores           141727\nBill payment                         105157\nUnknown                               70042\nGas Station                           54368\nMoney Transfer                        36932\nRestaurant                            30655\nConvenience Store                     21780\nOnline Shopping                       13573\nBank                                  13538\nHome improvement                       8452\nDigital Payments                       8133\nInsurance                              4635\nInvestment                             3484\nFood Delivery                          2684\nMail and Package Delivery Service      1475\nGym membership                         1066\nOnline Video Streaming Service          909\nName: text, dtype: int64"
          },
          "metadata": {}
        }
      ],
      "execution_count": 41,
      "metadata": {
        "jupyter": {
          "source_hidden": false,
          "outputs_hidden": false
        },
        "nteract": {
          "transient": {
            "deleting": false
          }
        },
        "gather": {
          "logged": 1648628715734
        }
      }
    },
    {
      "cell_type": "code",
      "source": [
        "import matplotlib.pyplot as plt; plt.rcdefaults()\r\n",
        "import numpy as np\r\n",
        "import matplotlib.pyplot as plt\r\n",
        "\r\n",
        "\r\n",
        "\r\n",
        "objects = ('Online Video Streaming Service', 'Gym membership', 'Mail and Package Delivery Service', 'Food Delivery', 'Investment', 'Insurance', 'Digital Payments', \r\n",
        "'Home improvement', 'Bank', 'Online Shopping', 'Convenience Store', 'Restaurant', 'Money Transfer', 'Gas Station', 'Unknown', 'Bill payment', 'Supermarket/General Stores', 'General purchases')\r\n",
        "y_pos = np.arange(len(objects))\r\n",
        "performance = [909, 1066, 1475, 2684, 3484, 4635, 8133, 8452, 13538, 13573, 21780, 30655, 36932, 54368, 70042, 105157, 141727, 347047]\r\n",
        "rescale = lambda y: (y - np.min(y)) / (np.max(y) - np.min(y))\r\n",
        "my_cmap = plt.get_cmap(\"viridis\")\r\n",
        "plt.barh(y_pos, performance, align='center', alpha=0.5,color=my_cmap(rescale(performance)))\r\n",
        "plt.yticks(y_pos, objects)\r\n",
        "plt.xlabel('Frequency')\r\n",
        "plt.title('Transaction Type')\r\n",
        "\r\n",
        "plt.show()"
      ],
      "outputs": [
        {
          "output_type": "display_data",
          "data": {
            "text/plain": "<Figure size 640x480 with 1 Axes>",
            "image/png": "[encoded data removed]"
          },
          "metadata": {}
        }
      ],
      "execution_count": 57,
      "metadata": {
        "jupyter": {
          "source_hidden": false,
          "outputs_hidden": false
        },
        "nteract": {
          "transient": {
            "deleting": false
          }
        },
        "gather": {
          "logged": 1648629936879
        }
      }
    },
    {
      "cell_type": "code",
      "source": [
        "plt.savefig('The frequency of transaction type for sample data1.png')"
      ],
      "outputs": [
        {
          "output_type": "display_data",
          "data": {
            "text/plain": "<Figure size 640x480 with 0 Axes>"
          },
          "metadata": {}
        }
      ],
      "execution_count": 58,
      "metadata": {
        "jupyter": {
          "source_hidden": false,
          "outputs_hidden": false
        },
        "nteract": {
          "transient": {
            "deleting": false
          }
        },
        "gather": {
          "logged": 1648630006671
        }
      }
    }
  ],
  "metadata": {
    "kernelspec": {
      "name": "python3-azureml",
      "language": "python",
      "display_name": "Python 3.6 - AzureML"
    },
    "language_info": {
      "name": "python",
      "version": "3.6.9",
      "mimetype": "text/x-python",
      "codemirror_mode": {
        "name": "ipython",
        "version": 3
      },
      "pygments_lexer": "ipython3",
      "nbconvert_exporter": "python",
      "file_extension": ".py"
    },
    "kernel_info": {
      "name": "python3-azureml"
    },
    "microsoft": {
      "host": {
        "AzureML": {
          "notebookHasBeenCompleted": true
        }
      }
    },
    "nteract": {
      "version": "nteract-front-end@1.0.0"
    }
  },
  "nbformat": 4,
  "nbformat_minor": 2
}