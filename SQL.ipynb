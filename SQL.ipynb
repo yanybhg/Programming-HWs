{
  "nbformat": 4,
  "nbformat_minor": 0,
  "metadata": {
    "colab": {
      "provenance": [],
      "collapsed_sections": [],
      "toc_visible": true
    },
    "kernelspec": {
      "display_name": "Python 3",
      "name": "python3"
    },
    "language_info": {
      "name": "python"
    }
  },
  "cells": [
    {
      "cell_type": "markdown",
      "metadata": {
        "id": "wlv8esDGMj0h"
      },
      "source": [
        "# CIS 545 Homework 2: SQL\n",
        "## Due: Monday, February 21, 2022 by 10pm \n",
        "### Worth 100 points in total\n",
        "\n",
        "Welcome to Homework 2! By now, you should be familiar with the world of data science and the Pandas library. This assignment will focus on broadening both of these horizons by covering hierarchical data, graphs, and traversing relationships as well as a new tool to add to your data science arsenal: SQL.\n",
        "\n",
        "Through this homework, we will familiarize ourselves with SQL (specifically **pandasql**) and explore a dataset that involves movie statistics and reviews courtesy of Rotten Tomatoes. We will finish off the homework with some text analysis.\n",
        "\n",
        "We are introducing a lot of new things in this homework, and it is often where students start to get lost in the data science sauce, so we **strongly** encourage you to review the slides/material as you work through this assignment and will try to link the most relevant sections!\n",
        "\n",
        "**Before you Begin**\n",
        "- Be sure to click \"Copy to Drive\" to make sure you are working on your own personal version of the homework\n",
        "- Read the Piazza and FAQ for updates! If you have been stuck, chances are other students are too! We don't want you to waste away for two hours trying to get that last point on the autograder so do check Piazza for similar struggles or even homework bugs that will be clarified in the FAQ :) "
      ]
    },
    {
      "cell_type": "markdown",
      "metadata": {
        "id": "W0hcZWDcqCUL"
      },
      "source": [
        "## Part 0: Libraries and Set Up Jargon (The usual wall of imports)"
      ]
    },
    {
      "cell_type": "code",
      "metadata": {
        "id": "ylkUtozb2Oc8",
        "colab": {
          "base_uri": "https://localhost:8080/"
        },
        "outputId": "10236609-9b1a-434e-d74a-494ec33fbd3f"
      },
      "source": [
        "!pip3 install penngrader\n",
        "!pip install pandasql"
      ],
      "execution_count": null,
      "outputs": [
        {
          "output_type": "stream",
          "name": "stdout",
          "text": [
            "Collecting penngrader\n",
            "  Downloading penngrader-0.4-py3-none-any.whl (13 kB)\n",
            "Installing collected packages: penngrader\n",
            "Successfully installed penngrader-0.4\n",
            "Collecting pandasql\n",
            "  Downloading pandasql-0.7.3.tar.gz (26 kB)\n",
            "Requirement already satisfied: numpy in /usr/local/lib/python3.7/dist-packages (from pandasql) (1.21.5)\n",
            "Requirement already satisfied: pandas in /usr/local/lib/python3.7/dist-packages (from pandasql) (1.3.5)\n",
            "Requirement already satisfied: sqlalchemy in /usr/local/lib/python3.7/dist-packages (from pandasql) (1.4.32)\n",
            "Requirement already satisfied: pytz>=2017.3 in /usr/local/lib/python3.7/dist-packages (from pandas->pandasql) (2018.9)\n",
            "Requirement already satisfied: python-dateutil>=2.7.3 in /usr/local/lib/python3.7/dist-packages (from pandas->pandasql) (2.8.2)\n",
            "Requirement already satisfied: six>=1.5 in /usr/local/lib/python3.7/dist-packages (from python-dateutil>=2.7.3->pandas->pandasql) (1.15.0)\n",
            "Requirement already satisfied: greenlet!=0.4.17 in /usr/local/lib/python3.7/dist-packages (from sqlalchemy->pandasql) (1.1.2)\n",
            "Requirement already satisfied: importlib-metadata in /usr/local/lib/python3.7/dist-packages (from sqlalchemy->pandasql) (4.11.2)\n",
            "Requirement already satisfied: zipp>=0.5 in /usr/local/lib/python3.7/dist-packages (from importlib-metadata->sqlalchemy->pandasql) (3.7.0)\n",
            "Requirement already satisfied: typing-extensions>=3.6.4 in /usr/local/lib/python3.7/dist-packages (from importlib-metadata->sqlalchemy->pandasql) (3.10.0.2)\n",
            "Building wheels for collected packages: pandasql\n",
            "  Building wheel for pandasql (setup.py) ... \u001b[?25l\u001b[?25hdone\n",
            "  Created wheel for pandasql: filename=pandasql-0.7.3-py3-none-any.whl size=26784 sha256=04f1359174cc961a3f15a0ef2ed945e72630a8f0561dfcdd464a942c66183cf0\n",
            "  Stored in directory: /root/.cache/pip/wheels/5c/4b/ec/41f4e116c8053c3654e2c2a47c62b4fca34cc67ef7b55deb7f\n",
            "Successfully built pandasql\n",
            "Installing collected packages: pandasql\n",
            "Successfully installed pandasql-0.7.3\n"
          ]
        }
      ]
    },
    {
      "cell_type": "code",
      "source": [
        "!pip install pandas==1.1.5"
      ],
      "metadata": {
        "id": "goglom5eSRPk",
        "colab": {
          "base_uri": "https://localhost:8080/"
        },
        "outputId": "c7661c5e-265c-46f5-85af-9c0e40b33073"
      },
      "execution_count": null,
      "outputs": [
        {
          "output_type": "stream",
          "name": "stdout",
          "text": [
            "Collecting pandas==1.1.5\n",
            "  Downloading pandas-1.1.5-cp37-cp37m-manylinux1_x86_64.whl (9.5 MB)\n",
            "\u001b[K     |████████████████████████████████| 9.5 MB 6.4 MB/s \n",
            "\u001b[?25hRequirement already satisfied: pytz>=2017.2 in /usr/local/lib/python3.7/dist-packages (from pandas==1.1.5) (2018.9)\n",
            "Requirement already satisfied: python-dateutil>=2.7.3 in /usr/local/lib/python3.7/dist-packages (from pandas==1.1.5) (2.8.2)\n",
            "Requirement already satisfied: numpy>=1.15.4 in /usr/local/lib/python3.7/dist-packages (from pandas==1.1.5) (1.21.5)\n",
            "Requirement already satisfied: six>=1.5 in /usr/local/lib/python3.7/dist-packages (from python-dateutil>=2.7.3->pandas==1.1.5) (1.15.0)\n",
            "Installing collected packages: pandas\n",
            "  Attempting uninstall: pandas\n",
            "    Found existing installation: pandas 1.3.5\n",
            "    Uninstalling pandas-1.3.5:\n",
            "      Successfully uninstalled pandas-1.3.5\n",
            "Successfully installed pandas-1.1.5\n"
          ]
        }
      ]
    },
    {
      "cell_type": "code",
      "metadata": {
        "id": "LAXVD0Lo454x",
        "colab": {
          "base_uri": "https://localhost:8080/"
        },
        "outputId": "91e70326-89c4-475d-ee4f-132c032cb78c"
      },
      "source": [
        "from penngrader.grader import *\n",
        "import pandas as pd\n",
        "import datetime as dt\n",
        "import re\n",
        "import pandasql as ps #SQL on Pandas Dataframe\n",
        "import nltk\n",
        "nltk.download('punkt')\n",
        "\n",
        "from wordcloud import WordCloud\n",
        "import matplotlib.pyplot as plt \n",
        "from collections import Counter\n",
        "import random"
      ],
      "execution_count": null,
      "outputs": [
        {
          "output_type": "stream",
          "name": "stdout",
          "text": [
            "[nltk_data] Downloading package punkt to /root/nltk_data...\n",
            "[nltk_data]   Unzipping tokenizers/punkt.zip.\n"
          ]
        }
      ]
    },
    {
      "cell_type": "code",
      "metadata": {
        "id": "LyTldwTj4aY9",
        "colab": {
          "base_uri": "https://localhost:8080/"
        },
        "outputId": "1b0c5939-af2b-4c76-c27b-cb86c2c50293"
      },
      "source": [
        "# Three datasets we're using\n",
        "! wget -nc https://storage.googleapis.com/penn-cis545/rotten_tomatoes_movies.csv\n",
        "! wget -nc https://storage.googleapis.com/penn-cis545/rotten_tomatoes_critic_reviews.csv\n",
        "! wget -nc https://storage.googleapis.com/penn-cis545/MoviesOnStreamingPlatforms.csv"
      ],
      "execution_count": null,
      "outputs": [
        {
          "output_type": "stream",
          "name": "stdout",
          "text": [
            "File ‘rotten_tomatoes_movies.csv’ already there; not retrieving.\n",
            "\n",
            "File ‘rotten_tomatoes_critic_reviews.csv’ already there; not retrieving.\n",
            "\n",
            "File ‘MoviesOnStreamingPlatforms.csv’ already there; not retrieving.\n",
            "\n"
          ]
        }
      ]
    },
    {
      "cell_type": "code",
      "metadata": {
        "id": "b5NogkmdhhQ7",
        "colab": {
          "base_uri": "https://localhost:8080/"
        },
        "outputId": "0fe2a360-9dbe-4c40-b1ff-8986caac6a31"
      },
      "source": [
        "print(pd.__version__)\n",
        "# Make sure it's 1.1.5"
      ],
      "execution_count": null,
      "outputs": [
        {
          "output_type": "stream",
          "name": "stdout",
          "text": [
            "1.1.5\n"
          ]
        }
      ]
    },
    {
      "cell_type": "markdown",
      "metadata": {
        "id": "TeyWoMn6pxSC"
      },
      "source": [
        "### PennGrader Setup"
      ]
    },
    {
      "cell_type": "code",
      "metadata": {
        "id": "4ds2HHSkpvBO"
      },
      "source": [
        "# PLEASE ENSURE YOUR PENN-ID IS ENTERED CORRECTLY. IF NOT, THE AUTOGRADER WON'T KNOW \n",
        "# TO ASSIGN POINTS TO YOU IN OUR BACKEND\n",
        "STUDENT_ID = 999999999999 # YOUR PENN-ID GOES HERE AS AN INTEGER #"
      ],
      "execution_count": null,
      "outputs": []
    },
    {
      "cell_type": "code",
      "metadata": {
        "id": "vAsLYJGotKbO",
        "colab": {
          "base_uri": "https://localhost:8080/"
        },
        "outputId": "185d2719-13ff-454c-a8e3-f8ea27ba1434"
      },
      "source": [
        "grader = PennGrader(homework_id = 'CIS545_Spring_2022_HW2', student_id = STUDENT_ID)"
      ],
      "execution_count": null,
      "outputs": [
        {
          "output_type": "stream",
          "name": "stdout",
          "text": [
            "PennGrader initialized with Student ID: 999999999999\n",
            "\n",
            "Make sure this correct or we will not be able to store your grade\n"
          ]
        }
      ]
    },
    {
      "cell_type": "markdown",
      "metadata": {
        "id": "VzZ6JNnKLplQ"
      },
      "source": [
        "\n",
        "\n",
        "# Section 1: Welcome to the movies!\n",
        "\n",
        "<br>\n",
        "<center><img src = \"https://upload.wikimedia.org/wikipedia/commons/thumb/6/6f/Rotten_Tomatoes_logo.svg/2880px-Rotten_Tomatoes_logo.svg.png\" width= \"500\" align =\"center\"/></center>\n",
        "<br>\n",
        "\n",
        "I'm sure everyone has looked on the internet at some point in their lives for reviews, whether it be for products, locations, or services. Reviews are important because they give us knowledge about how good (or bad) the reviewed item was, at least in the past. Rotten Tomatoes contains one of the most comprehensive databases of movie/TV show reviews. Its name comes from how audience members in the past tended to throw rotten tomatoes when they disliked a stage performance. Formed in 1998 by a bunch of students, it has withstood the test of time, and the rest is history... that you can read about yourself on [Wikipedia](https://en.wikipedia.org/wiki/Rotten_Tomatoes). \n",
        "\n",
        "\n",
        "In this homework, we'll be exploring some data about movies including:\n",
        "\n",
        "*   Movies: data about movies in the Rotten Tomatoes database.\n",
        "\n",
        "*   Reviews: data about each review that was posted on Rotten Tomatoes.\n",
        "\n",
        "*   Streamed movies: data about the movies that are currently available on major streaming platforms. \n",
        "\n",
        "\n",
        "We'll be parsing this data into dataframes and relations, and then exploring how to query and assemble the tables into results. We will primarily be using PandaSQL, but for some of the initial questions, we will ask you to perform the same operations in Pandas as well, so as to familiarize you with the differences and similarities of the two. `"
      ]
    },
    {
      "cell_type": "markdown",
      "metadata": {
        "id": "oENmSeFkFRCo"
      },
      "source": [
        "## Part 1: Load & Process our Datasets [9 points total]\n",
        "\n",
        "Before we get into the data, we first need to load and clean our datasets. \n",
        "\n",
        "**TODO**:\n",
        "* Load and save the `rotten_tomatoes_movies.csv` to a dataframe called `movies_df`.\n",
        "* Load and save the `rotten_tomatoes_critic_reviews.csv` to a dataframe called `reviews_df`.\n",
        "* Load and save the `MoviesOnStreamingPlatforms.csv` to a dataframe called `streaming_df` without the index column being included."
      ]
    },
    {
      "cell_type": "code",
      "metadata": {
        "id": "zfMn38A25Vt8"
      },
      "source": [
        "# TODO: Import the datasets to pandas dataframes -- make sure the dataframes are named correctly! \n",
        "movies_df = pd.read_csv('rotten_tomatoes_movies.csv')\n",
        "reviews_df = pd.read_csv('rotten_tomatoes_critic_reviews.csv')\n",
        "streaming_df = pd.read_csv('MoviesOnStreamingPlatforms.csv')"
      ],
      "execution_count": null,
      "outputs": []
    },
    {
      "cell_type": "code",
      "metadata": {
        "id": "6LLY5EEmNxnr",
        "colab": {
          "base_uri": "https://localhost:8080/",
          "height": 1000
        },
        "outputId": "dad0517f-b610-4aaa-e269-472a7af28ba9"
      },
      "source": [
        "# view movies_df to make sure the import was successful\n",
        "movies_df"
      ],
      "execution_count": null,
      "outputs": [
        {
          "output_type": "execute_result",
          "data": {
            "text/html": [
              "\n",
              "  <div id=\"df-7141c013-646f-430b-90b6-85fe35f6c3fb\">\n",
              "    <div class=\"colab-df-container\">\n",
              "      <div>\n",
              "<style scoped>\n",
              "    .dataframe tbody tr th:only-of-type {\n",
              "        vertical-align: middle;\n",
              "    }\n",
              "\n",
              "    .dataframe tbody tr th {\n",
              "        vertical-align: top;\n",
              "    }\n",
              "\n",
              "    .dataframe thead th {\n",
              "        text-align: right;\n",
              "    }\n",
              "</style>\n",
              "<table border=\"1\" class=\"dataframe\">\n",
              "  <thead>\n",
              "    <tr style=\"text-align: right;\">\n",
              "      <th></th>\n",
              "      <th>rotten_tomatoes_link</th>\n",
              "      <th>movie_title</th>\n",
              "      <th>movie_info</th>\n",
              "      <th>critics_consensus</th>\n",
              "      <th>content_rating</th>\n",
              "      <th>genres</th>\n",
              "      <th>directors</th>\n",
              "      <th>authors</th>\n",
              "      <th>actors</th>\n",
              "      <th>original_release_date</th>\n",
              "      <th>streaming_release_date</th>\n",
              "      <th>runtime</th>\n",
              "      <th>production_company</th>\n",
              "      <th>tomatometer_status</th>\n",
              "      <th>tomatometer_rating</th>\n",
              "      <th>tomatometer_count</th>\n",
              "      <th>audience_status</th>\n",
              "      <th>audience_rating</th>\n",
              "      <th>audience_count</th>\n",
              "      <th>tomatometer_fresh_critics_count</th>\n",
              "      <th>tomatometer_rotten_critics_count</th>\n",
              "    </tr>\n",
              "  </thead>\n",
              "  <tbody>\n",
              "    <tr>\n",
              "      <th>0</th>\n",
              "      <td>m/0814255</td>\n",
              "      <td>Percy Jackson &amp; the Olympians: The Lightning T...</td>\n",
              "      <td>Always trouble-prone, the life of teenager Per...</td>\n",
              "      <td>Though it may seem like just another Harry Pot...</td>\n",
              "      <td>PG</td>\n",
              "      <td>Action &amp; Adventure, Comedy, Drama, Science Fic...</td>\n",
              "      <td>Chris Columbus</td>\n",
              "      <td>Craig Titley, Chris Columbus, Rick Riordan</td>\n",
              "      <td>Logan Lerman, Brandon T. Jackson, Alexandra Da...</td>\n",
              "      <td>2010-02-12</td>\n",
              "      <td>2015-11-25</td>\n",
              "      <td>119.0</td>\n",
              "      <td>20th Century Fox</td>\n",
              "      <td>Rotten</td>\n",
              "      <td>49.0</td>\n",
              "      <td>149.0</td>\n",
              "      <td>Spilled</td>\n",
              "      <td>53.0</td>\n",
              "      <td>254421.0</td>\n",
              "      <td>73</td>\n",
              "      <td>76</td>\n",
              "    </tr>\n",
              "    <tr>\n",
              "      <th>1</th>\n",
              "      <td>m/0878835</td>\n",
              "      <td>Please Give</td>\n",
              "      <td>Kate (Catherine Keener) and her husband Alex (...</td>\n",
              "      <td>Nicole Holofcener's newest might seem slight i...</td>\n",
              "      <td>R</td>\n",
              "      <td>Comedy</td>\n",
              "      <td>Nicole Holofcener</td>\n",
              "      <td>Nicole Holofcener</td>\n",
              "      <td>Catherine Keener, Amanda Peet, Oliver Platt, R...</td>\n",
              "      <td>2010-04-30</td>\n",
              "      <td>2012-09-04</td>\n",
              "      <td>90.0</td>\n",
              "      <td>Sony Pictures Classics</td>\n",
              "      <td>Certified-Fresh</td>\n",
              "      <td>87.0</td>\n",
              "      <td>142.0</td>\n",
              "      <td>Upright</td>\n",
              "      <td>64.0</td>\n",
              "      <td>11574.0</td>\n",
              "      <td>123</td>\n",
              "      <td>19</td>\n",
              "    </tr>\n",
              "    <tr>\n",
              "      <th>2</th>\n",
              "      <td>m/10</td>\n",
              "      <td>10</td>\n",
              "      <td>A successful, middle-aged Hollywood songwriter...</td>\n",
              "      <td>Blake Edwards' bawdy comedy may not score a pe...</td>\n",
              "      <td>R</td>\n",
              "      <td>Comedy, Romance</td>\n",
              "      <td>Blake Edwards</td>\n",
              "      <td>Blake Edwards</td>\n",
              "      <td>Dudley Moore, Bo Derek, Julie Andrews, Robert ...</td>\n",
              "      <td>1979-10-05</td>\n",
              "      <td>2014-07-24</td>\n",
              "      <td>122.0</td>\n",
              "      <td>Waner Bros.</td>\n",
              "      <td>Fresh</td>\n",
              "      <td>67.0</td>\n",
              "      <td>24.0</td>\n",
              "      <td>Spilled</td>\n",
              "      <td>53.0</td>\n",
              "      <td>14684.0</td>\n",
              "      <td>16</td>\n",
              "      <td>8</td>\n",
              "    </tr>\n",
              "    <tr>\n",
              "      <th>3</th>\n",
              "      <td>m/1000013-12_angry_men</td>\n",
              "      <td>12 Angry Men (Twelve Angry Men)</td>\n",
              "      <td>Following the closing arguments in a murder tr...</td>\n",
              "      <td>Sidney Lumet's feature debut is a superbly wri...</td>\n",
              "      <td>NR</td>\n",
              "      <td>Classics, Drama</td>\n",
              "      <td>Sidney Lumet</td>\n",
              "      <td>Reginald Rose</td>\n",
              "      <td>Martin Balsam, John Fiedler, Lee J. Cobb, E.G....</td>\n",
              "      <td>1957-04-13</td>\n",
              "      <td>2017-01-13</td>\n",
              "      <td>95.0</td>\n",
              "      <td>Criterion Collection</td>\n",
              "      <td>Certified-Fresh</td>\n",
              "      <td>100.0</td>\n",
              "      <td>54.0</td>\n",
              "      <td>Upright</td>\n",
              "      <td>97.0</td>\n",
              "      <td>105386.0</td>\n",
              "      <td>54</td>\n",
              "      <td>0</td>\n",
              "    </tr>\n",
              "    <tr>\n",
              "      <th>4</th>\n",
              "      <td>m/1000079-20000_leagues_under_the_sea</td>\n",
              "      <td>20,000 Leagues Under The Sea</td>\n",
              "      <td>In 1866, Professor Pierre M. Aronnax (Paul Luk...</td>\n",
              "      <td>One of Disney's finest live-action adventures,...</td>\n",
              "      <td>G</td>\n",
              "      <td>Action &amp; Adventure, Drama, Kids &amp; Family</td>\n",
              "      <td>Richard Fleischer</td>\n",
              "      <td>Earl Felton</td>\n",
              "      <td>James Mason, Kirk Douglas, Paul Lukas, Peter L...</td>\n",
              "      <td>1954-01-01</td>\n",
              "      <td>2016-06-10</td>\n",
              "      <td>127.0</td>\n",
              "      <td>Disney</td>\n",
              "      <td>Fresh</td>\n",
              "      <td>89.0</td>\n",
              "      <td>27.0</td>\n",
              "      <td>Upright</td>\n",
              "      <td>74.0</td>\n",
              "      <td>68918.0</td>\n",
              "      <td>24</td>\n",
              "      <td>3</td>\n",
              "    </tr>\n",
              "    <tr>\n",
              "      <th>...</th>\n",
              "      <td>...</td>\n",
              "      <td>...</td>\n",
              "      <td>...</td>\n",
              "      <td>...</td>\n",
              "      <td>...</td>\n",
              "      <td>...</td>\n",
              "      <td>...</td>\n",
              "      <td>...</td>\n",
              "      <td>...</td>\n",
              "      <td>...</td>\n",
              "      <td>...</td>\n",
              "      <td>...</td>\n",
              "      <td>...</td>\n",
              "      <td>...</td>\n",
              "      <td>...</td>\n",
              "      <td>...</td>\n",
              "      <td>...</td>\n",
              "      <td>...</td>\n",
              "      <td>...</td>\n",
              "      <td>...</td>\n",
              "      <td>...</td>\n",
              "    </tr>\n",
              "    <tr>\n",
              "      <th>17707</th>\n",
              "      <td>m/zoot_suit</td>\n",
              "      <td>Zoot Suit</td>\n",
              "      <td>Mexican-American gangster Henry Reyna (Daniel ...</td>\n",
              "      <td>NaN</td>\n",
              "      <td>R</td>\n",
              "      <td>Drama, Musical &amp; Performing Arts</td>\n",
              "      <td>Luis Valdez</td>\n",
              "      <td>Luis Valdez</td>\n",
              "      <td>Daniel Valdez, Edward James Olmos, Charles Aid...</td>\n",
              "      <td>1981-10-02</td>\n",
              "      <td>2016-04-19</td>\n",
              "      <td>104.0</td>\n",
              "      <td>MCA Universal Home Video</td>\n",
              "      <td>Rotten</td>\n",
              "      <td>56.0</td>\n",
              "      <td>9.0</td>\n",
              "      <td>Upright</td>\n",
              "      <td>74.0</td>\n",
              "      <td>1195.0</td>\n",
              "      <td>5</td>\n",
              "      <td>4</td>\n",
              "    </tr>\n",
              "    <tr>\n",
              "      <th>17708</th>\n",
              "      <td>m/zootopia</td>\n",
              "      <td>Zootopia</td>\n",
              "      <td>From the largest elephant to the smallest shre...</td>\n",
              "      <td>The brilliantly well-rounded Zootopia offers a...</td>\n",
              "      <td>PG</td>\n",
              "      <td>Action &amp; Adventure, Animation, Comedy</td>\n",
              "      <td>Byron Howard, Rich Moore, Jared Bush</td>\n",
              "      <td>Jared Bush, Phil Johnston</td>\n",
              "      <td>J.K. Simmons, Kristen Bell, Octavia Spencer, A...</td>\n",
              "      <td>2016-03-04</td>\n",
              "      <td>2016-06-07</td>\n",
              "      <td>108.0</td>\n",
              "      <td>Walt Disney Animation Studios</td>\n",
              "      <td>Certified-Fresh</td>\n",
              "      <td>98.0</td>\n",
              "      <td>291.0</td>\n",
              "      <td>Upright</td>\n",
              "      <td>92.0</td>\n",
              "      <td>101511.0</td>\n",
              "      <td>285</td>\n",
              "      <td>7</td>\n",
              "    </tr>\n",
              "    <tr>\n",
              "      <th>17709</th>\n",
              "      <td>m/zorba_the_greek</td>\n",
              "      <td>Zorba the Greek</td>\n",
              "      <td>Traveling to inspect an abandoned mine his fat...</td>\n",
              "      <td>NaN</td>\n",
              "      <td>NR</td>\n",
              "      <td>Action &amp; Adventure, Art House &amp; International,...</td>\n",
              "      <td>NaN</td>\n",
              "      <td>NaN</td>\n",
              "      <td>Anthony Quinn, Alan Bates, Irene Papas, Lila K...</td>\n",
              "      <td>1964-12-17</td>\n",
              "      <td>2015-11-25</td>\n",
              "      <td>142.0</td>\n",
              "      <td>Fox</td>\n",
              "      <td>Fresh</td>\n",
              "      <td>80.0</td>\n",
              "      <td>10.0</td>\n",
              "      <td>Upright</td>\n",
              "      <td>86.0</td>\n",
              "      <td>7146.0</td>\n",
              "      <td>8</td>\n",
              "      <td>2</td>\n",
              "    </tr>\n",
              "    <tr>\n",
              "      <th>17710</th>\n",
              "      <td>m/zulu</td>\n",
              "      <td>Zulu</td>\n",
              "      <td>In 1879, the Zulu nation hands colonial Britis...</td>\n",
              "      <td>Zulu patiently establishes a cast of colorful ...</td>\n",
              "      <td>PG</td>\n",
              "      <td>Classics, Drama</td>\n",
              "      <td>Cy Endfield, Cyril Endfield</td>\n",
              "      <td>Cy Endfield, John Prebble</td>\n",
              "      <td>Stanley Baker, Jack Hawkins, Ulla Jacobsson, J...</td>\n",
              "      <td>1964-06-17</td>\n",
              "      <td>2017-01-08</td>\n",
              "      <td>135.0</td>\n",
              "      <td>Paramount Pictures</td>\n",
              "      <td>Fresh</td>\n",
              "      <td>96.0</td>\n",
              "      <td>23.0</td>\n",
              "      <td>Upright</td>\n",
              "      <td>91.0</td>\n",
              "      <td>30193.0</td>\n",
              "      <td>22</td>\n",
              "      <td>1</td>\n",
              "    </tr>\n",
              "    <tr>\n",
              "      <th>17711</th>\n",
              "      <td>m/zulu_dawn</td>\n",
              "      <td>Zulu Dawn</td>\n",
              "      <td>Sir Henry Bartle Frere's (John Mills) vastly o...</td>\n",
              "      <td>NaN</td>\n",
              "      <td>PG</td>\n",
              "      <td>Action &amp; Adventure, Art House &amp; International,...</td>\n",
              "      <td>Douglas Hickox</td>\n",
              "      <td>Cy Endfield, Anthony Storey</td>\n",
              "      <td>Burt Lancaster, Peter O'Toole, Simon Ward, Joh...</td>\n",
              "      <td>1979-12-14</td>\n",
              "      <td>2016-03-22</td>\n",
              "      <td>121.0</td>\n",
              "      <td>Tango Entertainment</td>\n",
              "      <td>Rotten</td>\n",
              "      <td>50.0</td>\n",
              "      <td>8.0</td>\n",
              "      <td>Upright</td>\n",
              "      <td>62.0</td>\n",
              "      <td>4469.0</td>\n",
              "      <td>4</td>\n",
              "      <td>4</td>\n",
              "    </tr>\n",
              "  </tbody>\n",
              "</table>\n",
              "<p>17712 rows × 21 columns</p>\n",
              "</div>\n",
              "      <button class=\"colab-df-convert\" onclick=\"convertToInteractive('df-7141c013-646f-430b-90b6-85fe35f6c3fb')\"\n",
              "              title=\"Convert this dataframe to an interactive table.\"\n",
              "              style=\"display:none;\">\n",
              "        \n",
              "  <svg xmlns=\"http://www.w3.org/2000/svg\" height=\"24px\"viewBox=\"0 0 24 24\"\n",
              "       width=\"24px\">\n",
              "    <path d=\"M0 0h24v24H0V0z\" fill=\"none\"/>\n",
              "    <path d=\"M18.56 5.44l.94 2.06.94-2.06 2.06-.94-2.06-.94-.94-2.06-.94 2.06-2.06.94zm-11 1L8.5 8.5l.94-2.06 2.06-.94-2.06-.94L8.5 2.5l-.94 2.06-2.06.94zm10 10l.94 2.06.94-2.06 2.06-.94-2.06-.94-.94-2.06-.94 2.06-2.06.94z\"/><path d=\"M17.41 7.96l-1.37-1.37c-.4-.4-.92-.59-1.43-.59-.52 0-1.04.2-1.43.59L10.3 9.45l-7.72 7.72c-.78.78-.78 2.05 0 2.83L4 21.41c.39.39.9.59 1.41.59.51 0 1.02-.2 1.41-.59l7.78-7.78 2.81-2.81c.8-.78.8-2.07 0-2.86zM5.41 20L4 18.59l7.72-7.72 1.47 1.35L5.41 20z\"/>\n",
              "  </svg>\n",
              "      </button>\n",
              "      \n",
              "  <style>\n",
              "    .colab-df-container {\n",
              "      display:flex;\n",
              "      flex-wrap:wrap;\n",
              "      gap: 12px;\n",
              "    }\n",
              "\n",
              "    .colab-df-convert {\n",
              "      background-color: #E8F0FE;\n",
              "      border: none;\n",
              "      border-radius: 50%;\n",
              "      cursor: pointer;\n",
              "      display: none;\n",
              "      fill: #1967D2;\n",
              "      height: 32px;\n",
              "      padding: 0 0 0 0;\n",
              "      width: 32px;\n",
              "    }\n",
              "\n",
              "    .colab-df-convert:hover {\n",
              "      background-color: #E2EBFA;\n",
              "      box-shadow: 0px 1px 2px rgba(60, 64, 67, 0.3), 0px 1px 3px 1px rgba(60, 64, 67, 0.15);\n",
              "      fill: #174EA6;\n",
              "    }\n",
              "\n",
              "    [theme=dark] .colab-df-convert {\n",
              "      background-color: #3B4455;\n",
              "      fill: #D2E3FC;\n",
              "    }\n",
              "\n",
              "    [theme=dark] .colab-df-convert:hover {\n",
              "      background-color: #434B5C;\n",
              "      box-shadow: 0px 1px 3px 1px rgba(0, 0, 0, 0.15);\n",
              "      filter: drop-shadow(0px 1px 2px rgba(0, 0, 0, 0.3));\n",
              "      fill: #FFFFFF;\n",
              "    }\n",
              "  </style>\n",
              "\n",
              "      <script>\n",
              "        const buttonEl =\n",
              "          document.querySelector('#df-7141c013-646f-430b-90b6-85fe35f6c3fb button.colab-df-convert');\n",
              "        buttonEl.style.display =\n",
              "          google.colab.kernel.accessAllowed ? 'block' : 'none';\n",
              "\n",
              "        async function convertToInteractive(key) {\n",
              "          const element = document.querySelector('#df-7141c013-646f-430b-90b6-85fe35f6c3fb');\n",
              "          const dataTable =\n",
              "            await google.colab.kernel.invokeFunction('convertToInteractive',\n",
              "                                                     [key], {});\n",
              "          if (!dataTable) return;\n",
              "\n",
              "          const docLinkHtml = 'Like what you see? Visit the ' +\n",
              "            '<a target=\"_blank\" href=https://colab.research.google.com/notebooks/data_table.ipynb>data table notebook</a>'\n",
              "            + ' to learn more about interactive tables.';\n",
              "          element.innerHTML = '';\n",
              "          dataTable['output_type'] = 'display_data';\n",
              "          await google.colab.output.renderOutput(dataTable, element);\n",
              "          const docLink = document.createElement('div');\n",
              "          docLink.innerHTML = docLinkHtml;\n",
              "          element.appendChild(docLink);\n",
              "        }\n",
              "      </script>\n",
              "    </div>\n",
              "  </div>\n",
              "  "
            ],
            "text/plain": [
              "                        rotten_tomatoes_link  ... tomatometer_rotten_critics_count\n",
              "0                                  m/0814255  ...                               76\n",
              "1                                  m/0878835  ...                               19\n",
              "2                                       m/10  ...                                8\n",
              "3                     m/1000013-12_angry_men  ...                                0\n",
              "4      m/1000079-20000_leagues_under_the_sea  ...                                3\n",
              "...                                      ...  ...                              ...\n",
              "17707                            m/zoot_suit  ...                                4\n",
              "17708                             m/zootopia  ...                                7\n",
              "17709                      m/zorba_the_greek  ...                                2\n",
              "17710                                 m/zulu  ...                                1\n",
              "17711                            m/zulu_dawn  ...                                4\n",
              "\n",
              "[17712 rows x 21 columns]"
            ]
          },
          "metadata": {},
          "execution_count": 9
        }
      ]
    },
    {
      "cell_type": "code",
      "metadata": {
        "id": "Py_XvfZiNzXx",
        "colab": {
          "base_uri": "https://localhost:8080/",
          "height": 424
        },
        "outputId": "b9312f12-9ce8-4e13-98ef-c703a9fb4744"
      },
      "source": [
        "# view reviews_df to make sure the import was successful\n",
        "reviews_df"
      ],
      "execution_count": null,
      "outputs": [
        {
          "output_type": "execute_result",
          "data": {
            "text/html": [
              "\n",
              "  <div id=\"df-6ad38a09-3729-4913-ab68-22c433552b73\">\n",
              "    <div class=\"colab-df-container\">\n",
              "      <div>\n",
              "<style scoped>\n",
              "    .dataframe tbody tr th:only-of-type {\n",
              "        vertical-align: middle;\n",
              "    }\n",
              "\n",
              "    .dataframe tbody tr th {\n",
              "        vertical-align: top;\n",
              "    }\n",
              "\n",
              "    .dataframe thead th {\n",
              "        text-align: right;\n",
              "    }\n",
              "</style>\n",
              "<table border=\"1\" class=\"dataframe\">\n",
              "  <thead>\n",
              "    <tr style=\"text-align: right;\">\n",
              "      <th></th>\n",
              "      <th>rotten_tomatoes_link</th>\n",
              "      <th>critic_name</th>\n",
              "      <th>top_critic</th>\n",
              "      <th>publisher_name</th>\n",
              "      <th>review_type</th>\n",
              "      <th>review_score</th>\n",
              "      <th>review_date</th>\n",
              "      <th>review_content</th>\n",
              "    </tr>\n",
              "  </thead>\n",
              "  <tbody>\n",
              "    <tr>\n",
              "      <th>0</th>\n",
              "      <td>m/0814255</td>\n",
              "      <td>Andrew L. Urban</td>\n",
              "      <td>False</td>\n",
              "      <td>Urban Cinefile</td>\n",
              "      <td>Fresh</td>\n",
              "      <td>NaN</td>\n",
              "      <td>2010-02-06</td>\n",
              "      <td>A fantasy adventure that fuses Greek mythology...</td>\n",
              "    </tr>\n",
              "    <tr>\n",
              "      <th>1</th>\n",
              "      <td>m/0814255</td>\n",
              "      <td>Louise Keller</td>\n",
              "      <td>False</td>\n",
              "      <td>Urban Cinefile</td>\n",
              "      <td>Fresh</td>\n",
              "      <td>NaN</td>\n",
              "      <td>2010-02-06</td>\n",
              "      <td>Uma Thurman as Medusa, the gorgon with a coiff...</td>\n",
              "    </tr>\n",
              "    <tr>\n",
              "      <th>2</th>\n",
              "      <td>m/0814255</td>\n",
              "      <td>NaN</td>\n",
              "      <td>False</td>\n",
              "      <td>FILMINK (Australia)</td>\n",
              "      <td>Fresh</td>\n",
              "      <td>NaN</td>\n",
              "      <td>2010-02-09</td>\n",
              "      <td>With a top-notch cast and dazzling special eff...</td>\n",
              "    </tr>\n",
              "    <tr>\n",
              "      <th>3</th>\n",
              "      <td>m/0814255</td>\n",
              "      <td>Ben McEachen</td>\n",
              "      <td>False</td>\n",
              "      <td>Sunday Mail (Australia)</td>\n",
              "      <td>Fresh</td>\n",
              "      <td>3.5/5</td>\n",
              "      <td>2010-02-09</td>\n",
              "      <td>Whether audiences will get behind The Lightnin...</td>\n",
              "    </tr>\n",
              "    <tr>\n",
              "      <th>4</th>\n",
              "      <td>m/0814255</td>\n",
              "      <td>Ethan Alter</td>\n",
              "      <td>True</td>\n",
              "      <td>Hollywood Reporter</td>\n",
              "      <td>Rotten</td>\n",
              "      <td>NaN</td>\n",
              "      <td>2010-02-10</td>\n",
              "      <td>What's really lacking in The Lightning Thief i...</td>\n",
              "    </tr>\n",
              "    <tr>\n",
              "      <th>...</th>\n",
              "      <td>...</td>\n",
              "      <td>...</td>\n",
              "      <td>...</td>\n",
              "      <td>...</td>\n",
              "      <td>...</td>\n",
              "      <td>...</td>\n",
              "      <td>...</td>\n",
              "      <td>...</td>\n",
              "    </tr>\n",
              "    <tr>\n",
              "      <th>1130012</th>\n",
              "      <td>m/zulu_dawn</td>\n",
              "      <td>Chuck O'Leary</td>\n",
              "      <td>False</td>\n",
              "      <td>Fantastica Daily</td>\n",
              "      <td>Rotten</td>\n",
              "      <td>2/5</td>\n",
              "      <td>2005-11-02</td>\n",
              "      <td>NaN</td>\n",
              "    </tr>\n",
              "    <tr>\n",
              "      <th>1130013</th>\n",
              "      <td>m/zulu_dawn</td>\n",
              "      <td>Ken Hanke</td>\n",
              "      <td>False</td>\n",
              "      <td>Mountain Xpress (Asheville, NC)</td>\n",
              "      <td>Fresh</td>\n",
              "      <td>3.5/5</td>\n",
              "      <td>2007-03-07</td>\n",
              "      <td>Seen today, it's not only a startling indictme...</td>\n",
              "    </tr>\n",
              "    <tr>\n",
              "      <th>1130014</th>\n",
              "      <td>m/zulu_dawn</td>\n",
              "      <td>Dennis Schwartz</td>\n",
              "      <td>False</td>\n",
              "      <td>Dennis Schwartz Movie Reviews</td>\n",
              "      <td>Fresh</td>\n",
              "      <td>B+</td>\n",
              "      <td>2010-09-16</td>\n",
              "      <td>A rousing visual spectacle that's a prequel of...</td>\n",
              "    </tr>\n",
              "    <tr>\n",
              "      <th>1130015</th>\n",
              "      <td>m/zulu_dawn</td>\n",
              "      <td>Christopher Lloyd</td>\n",
              "      <td>False</td>\n",
              "      <td>Sarasota Herald-Tribune</td>\n",
              "      <td>Rotten</td>\n",
              "      <td>3.5/5</td>\n",
              "      <td>2011-02-28</td>\n",
              "      <td>A simple two-act story: Prelude to war, and th...</td>\n",
              "    </tr>\n",
              "    <tr>\n",
              "      <th>1130016</th>\n",
              "      <td>m/zulu_dawn</td>\n",
              "      <td>Brent McKnight</td>\n",
              "      <td>False</td>\n",
              "      <td>The Last Thing I See</td>\n",
              "      <td>Rotten</td>\n",
              "      <td>C</td>\n",
              "      <td>2020-07-09</td>\n",
              "      <td>Rides the line between being a pure artifact o...</td>\n",
              "    </tr>\n",
              "  </tbody>\n",
              "</table>\n",
              "<p>1130017 rows × 8 columns</p>\n",
              "</div>\n",
              "      <button class=\"colab-df-convert\" onclick=\"convertToInteractive('df-6ad38a09-3729-4913-ab68-22c433552b73')\"\n",
              "              title=\"Convert this dataframe to an interactive table.\"\n",
              "              style=\"display:none;\">\n",
              "        \n",
              "  <svg xmlns=\"http://www.w3.org/2000/svg\" height=\"24px\"viewBox=\"0 0 24 24\"\n",
              "       width=\"24px\">\n",
              "    <path d=\"M0 0h24v24H0V0z\" fill=\"none\"/>\n",
              "    <path d=\"M18.56 5.44l.94 2.06.94-2.06 2.06-.94-2.06-.94-.94-2.06-.94 2.06-2.06.94zm-11 1L8.5 8.5l.94-2.06 2.06-.94-2.06-.94L8.5 2.5l-.94 2.06-2.06.94zm10 10l.94 2.06.94-2.06 2.06-.94-2.06-.94-.94-2.06-.94 2.06-2.06.94z\"/><path d=\"M17.41 7.96l-1.37-1.37c-.4-.4-.92-.59-1.43-.59-.52 0-1.04.2-1.43.59L10.3 9.45l-7.72 7.72c-.78.78-.78 2.05 0 2.83L4 21.41c.39.39.9.59 1.41.59.51 0 1.02-.2 1.41-.59l7.78-7.78 2.81-2.81c.8-.78.8-2.07 0-2.86zM5.41 20L4 18.59l7.72-7.72 1.47 1.35L5.41 20z\"/>\n",
              "  </svg>\n",
              "      </button>\n",
              "      \n",
              "  <style>\n",
              "    .colab-df-container {\n",
              "      display:flex;\n",
              "      flex-wrap:wrap;\n",
              "      gap: 12px;\n",
              "    }\n",
              "\n",
              "    .colab-df-convert {\n",
              "      background-color: #E8F0FE;\n",
              "      border: none;\n",
              "      border-radius: 50%;\n",
              "      cursor: pointer;\n",
              "      display: none;\n",
              "      fill: #1967D2;\n",
              "      height: 32px;\n",
              "      padding: 0 0 0 0;\n",
              "      width: 32px;\n",
              "    }\n",
              "\n",
              "    .colab-df-convert:hover {\n",
              "      background-color: #E2EBFA;\n",
              "      box-shadow: 0px 1px 2px rgba(60, 64, 67, 0.3), 0px 1px 3px 1px rgba(60, 64, 67, 0.15);\n",
              "      fill: #174EA6;\n",
              "    }\n",
              "\n",
              "    [theme=dark] .colab-df-convert {\n",
              "      background-color: #3B4455;\n",
              "      fill: #D2E3FC;\n",
              "    }\n",
              "\n",
              "    [theme=dark] .colab-df-convert:hover {\n",
              "      background-color: #434B5C;\n",
              "      box-shadow: 0px 1px 3px 1px rgba(0, 0, 0, 0.15);\n",
              "      filter: drop-shadow(0px 1px 2px rgba(0, 0, 0, 0.3));\n",
              "      fill: #FFFFFF;\n",
              "    }\n",
              "  </style>\n",
              "\n",
              "      <script>\n",
              "        const buttonEl =\n",
              "          document.querySelector('#df-6ad38a09-3729-4913-ab68-22c433552b73 button.colab-df-convert');\n",
              "        buttonEl.style.display =\n",
              "          google.colab.kernel.accessAllowed ? 'block' : 'none';\n",
              "\n",
              "        async function convertToInteractive(key) {\n",
              "          const element = document.querySelector('#df-6ad38a09-3729-4913-ab68-22c433552b73');\n",
              "          const dataTable =\n",
              "            await google.colab.kernel.invokeFunction('convertToInteractive',\n",
              "                                                     [key], {});\n",
              "          if (!dataTable) return;\n",
              "\n",
              "          const docLinkHtml = 'Like what you see? Visit the ' +\n",
              "            '<a target=\"_blank\" href=https://colab.research.google.com/notebooks/data_table.ipynb>data table notebook</a>'\n",
              "            + ' to learn more about interactive tables.';\n",
              "          element.innerHTML = '';\n",
              "          dataTable['output_type'] = 'display_data';\n",
              "          await google.colab.output.renderOutput(dataTable, element);\n",
              "          const docLink = document.createElement('div');\n",
              "          docLink.innerHTML = docLinkHtml;\n",
              "          element.appendChild(docLink);\n",
              "        }\n",
              "      </script>\n",
              "    </div>\n",
              "  </div>\n",
              "  "
            ],
            "text/plain": [
              "        rotten_tomatoes_link  ...                                     review_content\n",
              "0                  m/0814255  ...  A fantasy adventure that fuses Greek mythology...\n",
              "1                  m/0814255  ...  Uma Thurman as Medusa, the gorgon with a coiff...\n",
              "2                  m/0814255  ...  With a top-notch cast and dazzling special eff...\n",
              "3                  m/0814255  ...  Whether audiences will get behind The Lightnin...\n",
              "4                  m/0814255  ...  What's really lacking in The Lightning Thief i...\n",
              "...                      ...  ...                                                ...\n",
              "1130012          m/zulu_dawn  ...                                                NaN\n",
              "1130013          m/zulu_dawn  ...  Seen today, it's not only a startling indictme...\n",
              "1130014          m/zulu_dawn  ...  A rousing visual spectacle that's a prequel of...\n",
              "1130015          m/zulu_dawn  ...  A simple two-act story: Prelude to war, and th...\n",
              "1130016          m/zulu_dawn  ...  Rides the line between being a pure artifact o...\n",
              "\n",
              "[1130017 rows x 8 columns]"
            ]
          },
          "metadata": {},
          "execution_count": 10
        }
      ]
    },
    {
      "cell_type": "code",
      "source": [
        "# view streaming_df to make sure the import was successful\n",
        "streaming_df"
      ],
      "metadata": {
        "id": "hZJwhz1lx4ZV",
        "colab": {
          "base_uri": "https://localhost:8080/",
          "height": 424
        },
        "outputId": "58dddb85-ac52-44f6-d38f-3111de8facef"
      },
      "execution_count": null,
      "outputs": [
        {
          "output_type": "execute_result",
          "data": {
            "text/html": [
              "\n",
              "  <div id=\"df-c7cb4edb-5f93-493a-bd95-ccd5f36fb267\">\n",
              "    <div class=\"colab-df-container\">\n",
              "      <div>\n",
              "<style scoped>\n",
              "    .dataframe tbody tr th:only-of-type {\n",
              "        vertical-align: middle;\n",
              "    }\n",
              "\n",
              "    .dataframe tbody tr th {\n",
              "        vertical-align: top;\n",
              "    }\n",
              "\n",
              "    .dataframe thead th {\n",
              "        text-align: right;\n",
              "    }\n",
              "</style>\n",
              "<table border=\"1\" class=\"dataframe\">\n",
              "  <thead>\n",
              "    <tr style=\"text-align: right;\">\n",
              "      <th></th>\n",
              "      <th>Unnamed: 0</th>\n",
              "      <th>ID</th>\n",
              "      <th>Title</th>\n",
              "      <th>Year</th>\n",
              "      <th>Age</th>\n",
              "      <th>Rotten Tomatoes</th>\n",
              "      <th>Netflix</th>\n",
              "      <th>Hulu</th>\n",
              "      <th>Prime Video</th>\n",
              "      <th>Disney+</th>\n",
              "      <th>Type</th>\n",
              "    </tr>\n",
              "  </thead>\n",
              "  <tbody>\n",
              "    <tr>\n",
              "      <th>0</th>\n",
              "      <td>0</td>\n",
              "      <td>1</td>\n",
              "      <td>The Irishman</td>\n",
              "      <td>2019</td>\n",
              "      <td>18+</td>\n",
              "      <td>98/100</td>\n",
              "      <td>1</td>\n",
              "      <td>0</td>\n",
              "      <td>0</td>\n",
              "      <td>0</td>\n",
              "      <td>0</td>\n",
              "    </tr>\n",
              "    <tr>\n",
              "      <th>1</th>\n",
              "      <td>1</td>\n",
              "      <td>2</td>\n",
              "      <td>Dangal</td>\n",
              "      <td>2016</td>\n",
              "      <td>7+</td>\n",
              "      <td>97/100</td>\n",
              "      <td>1</td>\n",
              "      <td>0</td>\n",
              "      <td>0</td>\n",
              "      <td>0</td>\n",
              "      <td>0</td>\n",
              "    </tr>\n",
              "    <tr>\n",
              "      <th>2</th>\n",
              "      <td>2</td>\n",
              "      <td>3</td>\n",
              "      <td>David Attenborough: A Life on Our Planet</td>\n",
              "      <td>2020</td>\n",
              "      <td>7+</td>\n",
              "      <td>95/100</td>\n",
              "      <td>1</td>\n",
              "      <td>0</td>\n",
              "      <td>0</td>\n",
              "      <td>0</td>\n",
              "      <td>0</td>\n",
              "    </tr>\n",
              "    <tr>\n",
              "      <th>3</th>\n",
              "      <td>3</td>\n",
              "      <td>4</td>\n",
              "      <td>Lagaan: Once Upon a Time in India</td>\n",
              "      <td>2001</td>\n",
              "      <td>7+</td>\n",
              "      <td>94/100</td>\n",
              "      <td>1</td>\n",
              "      <td>0</td>\n",
              "      <td>0</td>\n",
              "      <td>0</td>\n",
              "      <td>0</td>\n",
              "    </tr>\n",
              "    <tr>\n",
              "      <th>4</th>\n",
              "      <td>4</td>\n",
              "      <td>5</td>\n",
              "      <td>Roma</td>\n",
              "      <td>2018</td>\n",
              "      <td>18+</td>\n",
              "      <td>94/100</td>\n",
              "      <td>1</td>\n",
              "      <td>0</td>\n",
              "      <td>0</td>\n",
              "      <td>0</td>\n",
              "      <td>0</td>\n",
              "    </tr>\n",
              "    <tr>\n",
              "      <th>...</th>\n",
              "      <td>...</td>\n",
              "      <td>...</td>\n",
              "      <td>...</td>\n",
              "      <td>...</td>\n",
              "      <td>...</td>\n",
              "      <td>...</td>\n",
              "      <td>...</td>\n",
              "      <td>...</td>\n",
              "      <td>...</td>\n",
              "      <td>...</td>\n",
              "      <td>...</td>\n",
              "    </tr>\n",
              "    <tr>\n",
              "      <th>9510</th>\n",
              "      <td>9510</td>\n",
              "      <td>9511</td>\n",
              "      <td>Most Wanted Sharks</td>\n",
              "      <td>2020</td>\n",
              "      <td>NaN</td>\n",
              "      <td>14/100</td>\n",
              "      <td>0</td>\n",
              "      <td>0</td>\n",
              "      <td>0</td>\n",
              "      <td>1</td>\n",
              "      <td>0</td>\n",
              "    </tr>\n",
              "    <tr>\n",
              "      <th>9511</th>\n",
              "      <td>9511</td>\n",
              "      <td>9512</td>\n",
              "      <td>Doc McStuffins: The Doc Is In</td>\n",
              "      <td>2020</td>\n",
              "      <td>NaN</td>\n",
              "      <td>13/100</td>\n",
              "      <td>0</td>\n",
              "      <td>0</td>\n",
              "      <td>0</td>\n",
              "      <td>1</td>\n",
              "      <td>0</td>\n",
              "    </tr>\n",
              "    <tr>\n",
              "      <th>9512</th>\n",
              "      <td>9512</td>\n",
              "      <td>9513</td>\n",
              "      <td>Ultimate Viking Sword</td>\n",
              "      <td>2019</td>\n",
              "      <td>NaN</td>\n",
              "      <td>13/100</td>\n",
              "      <td>0</td>\n",
              "      <td>0</td>\n",
              "      <td>0</td>\n",
              "      <td>1</td>\n",
              "      <td>0</td>\n",
              "    </tr>\n",
              "    <tr>\n",
              "      <th>9513</th>\n",
              "      <td>9513</td>\n",
              "      <td>9514</td>\n",
              "      <td>Hunt for the Abominable Snowman</td>\n",
              "      <td>2011</td>\n",
              "      <td>NaN</td>\n",
              "      <td>10/100</td>\n",
              "      <td>0</td>\n",
              "      <td>0</td>\n",
              "      <td>0</td>\n",
              "      <td>1</td>\n",
              "      <td>0</td>\n",
              "    </tr>\n",
              "    <tr>\n",
              "      <th>9514</th>\n",
              "      <td>9514</td>\n",
              "      <td>9515</td>\n",
              "      <td>Women of Impact: Changing the World</td>\n",
              "      <td>2019</td>\n",
              "      <td>7+</td>\n",
              "      <td>10/100</td>\n",
              "      <td>0</td>\n",
              "      <td>0</td>\n",
              "      <td>0</td>\n",
              "      <td>1</td>\n",
              "      <td>0</td>\n",
              "    </tr>\n",
              "  </tbody>\n",
              "</table>\n",
              "<p>9515 rows × 11 columns</p>\n",
              "</div>\n",
              "      <button class=\"colab-df-convert\" onclick=\"convertToInteractive('df-c7cb4edb-5f93-493a-bd95-ccd5f36fb267')\"\n",
              "              title=\"Convert this dataframe to an interactive table.\"\n",
              "              style=\"display:none;\">\n",
              "        \n",
              "  <svg xmlns=\"http://www.w3.org/2000/svg\" height=\"24px\"viewBox=\"0 0 24 24\"\n",
              "       width=\"24px\">\n",
              "    <path d=\"M0 0h24v24H0V0z\" fill=\"none\"/>\n",
              "    <path d=\"M18.56 5.44l.94 2.06.94-2.06 2.06-.94-2.06-.94-.94-2.06-.94 2.06-2.06.94zm-11 1L8.5 8.5l.94-2.06 2.06-.94-2.06-.94L8.5 2.5l-.94 2.06-2.06.94zm10 10l.94 2.06.94-2.06 2.06-.94-2.06-.94-.94-2.06-.94 2.06-2.06.94z\"/><path d=\"M17.41 7.96l-1.37-1.37c-.4-.4-.92-.59-1.43-.59-.52 0-1.04.2-1.43.59L10.3 9.45l-7.72 7.72c-.78.78-.78 2.05 0 2.83L4 21.41c.39.39.9.59 1.41.59.51 0 1.02-.2 1.41-.59l7.78-7.78 2.81-2.81c.8-.78.8-2.07 0-2.86zM5.41 20L4 18.59l7.72-7.72 1.47 1.35L5.41 20z\"/>\n",
              "  </svg>\n",
              "      </button>\n",
              "      \n",
              "  <style>\n",
              "    .colab-df-container {\n",
              "      display:flex;\n",
              "      flex-wrap:wrap;\n",
              "      gap: 12px;\n",
              "    }\n",
              "\n",
              "    .colab-df-convert {\n",
              "      background-color: #E8F0FE;\n",
              "      border: none;\n",
              "      border-radius: 50%;\n",
              "      cursor: pointer;\n",
              "      display: none;\n",
              "      fill: #1967D2;\n",
              "      height: 32px;\n",
              "      padding: 0 0 0 0;\n",
              "      width: 32px;\n",
              "    }\n",
              "\n",
              "    .colab-df-convert:hover {\n",
              "      background-color: #E2EBFA;\n",
              "      box-shadow: 0px 1px 2px rgba(60, 64, 67, 0.3), 0px 1px 3px 1px rgba(60, 64, 67, 0.15);\n",
              "      fill: #174EA6;\n",
              "    }\n",
              "\n",
              "    [theme=dark] .colab-df-convert {\n",
              "      background-color: #3B4455;\n",
              "      fill: #D2E3FC;\n",
              "    }\n",
              "\n",
              "    [theme=dark] .colab-df-convert:hover {\n",
              "      background-color: #434B5C;\n",
              "      box-shadow: 0px 1px 3px 1px rgba(0, 0, 0, 0.15);\n",
              "      filter: drop-shadow(0px 1px 2px rgba(0, 0, 0, 0.3));\n",
              "      fill: #FFFFFF;\n",
              "    }\n",
              "  </style>\n",
              "\n",
              "      <script>\n",
              "        const buttonEl =\n",
              "          document.querySelector('#df-c7cb4edb-5f93-493a-bd95-ccd5f36fb267 button.colab-df-convert');\n",
              "        buttonEl.style.display =\n",
              "          google.colab.kernel.accessAllowed ? 'block' : 'none';\n",
              "\n",
              "        async function convertToInteractive(key) {\n",
              "          const element = document.querySelector('#df-c7cb4edb-5f93-493a-bd95-ccd5f36fb267');\n",
              "          const dataTable =\n",
              "            await google.colab.kernel.invokeFunction('convertToInteractive',\n",
              "                                                     [key], {});\n",
              "          if (!dataTable) return;\n",
              "\n",
              "          const docLinkHtml = 'Like what you see? Visit the ' +\n",
              "            '<a target=\"_blank\" href=https://colab.research.google.com/notebooks/data_table.ipynb>data table notebook</a>'\n",
              "            + ' to learn more about interactive tables.';\n",
              "          element.innerHTML = '';\n",
              "          dataTable['output_type'] = 'display_data';\n",
              "          await google.colab.output.renderOutput(dataTable, element);\n",
              "          const docLink = document.createElement('div');\n",
              "          docLink.innerHTML = docLinkHtml;\n",
              "          element.appendChild(docLink);\n",
              "        }\n",
              "      </script>\n",
              "    </div>\n",
              "  </div>\n",
              "  "
            ],
            "text/plain": [
              "      Unnamed: 0    ID  ... Disney+  Type\n",
              "0              0     1  ...       0     0\n",
              "1              1     2  ...       0     0\n",
              "2              2     3  ...       0     0\n",
              "3              3     4  ...       0     0\n",
              "4              4     5  ...       0     0\n",
              "...          ...   ...  ...     ...   ...\n",
              "9510        9510  9511  ...       1     0\n",
              "9511        9511  9512  ...       1     0\n",
              "9512        9512  9513  ...       1     0\n",
              "9513        9513  9514  ...       1     0\n",
              "9514        9514  9515  ...       1     0\n",
              "\n",
              "[9515 rows x 11 columns]"
            ]
          },
          "metadata": {},
          "execution_count": 11
        }
      ]
    },
    {
      "cell_type": "markdown",
      "metadata": {
        "id": "CPitr7eRJfO0"
      },
      "source": [
        "### 1.1 Data Preprocessing\n",
        "\n",
        "Next, we are going to want to clean up our dataframes, namely `movies_df` and `reviews_df`, by 1) fixing column names, 2) changing datatypes, 3) cleaning text, and 4) handling nulls.\n",
        "\n",
        "First, let us view the first few rows of `movies_df`. You may also call `.info()` to view the specifics of the dataframe. This is a good first step to take for Exploratory Data Analysis (EDA)."
      ]
    },
    {
      "cell_type": "code",
      "source": [
        "# view info information regarding movies_df\n",
        "movies_df.info()"
      ],
      "metadata": {
        "id": "2nCrp9Z2SCRD",
        "colab": {
          "base_uri": "https://localhost:8080/"
        },
        "outputId": "2968abcb-3d2b-461f-da7e-03926cb7d9a1"
      },
      "execution_count": null,
      "outputs": [
        {
          "output_type": "stream",
          "name": "stdout",
          "text": [
            "<class 'pandas.core.frame.DataFrame'>\n",
            "RangeIndex: 17712 entries, 0 to 17711\n",
            "Data columns (total 21 columns):\n",
            " #   Column                            Non-Null Count  Dtype  \n",
            "---  ------                            --------------  -----  \n",
            " 0   rotten_tomatoes_link              17712 non-null  object \n",
            " 1   movie_title                       17712 non-null  object \n",
            " 2   movie_info                        17391 non-null  object \n",
            " 3   critics_consensus                 9134 non-null   object \n",
            " 4   content_rating                    17712 non-null  object \n",
            " 5   genres                            17693 non-null  object \n",
            " 6   directors                         17518 non-null  object \n",
            " 7   authors                           16170 non-null  object \n",
            " 8   actors                            17360 non-null  object \n",
            " 9   original_release_date             16546 non-null  object \n",
            " 10  streaming_release_date            17328 non-null  object \n",
            " 11  runtime                           17398 non-null  float64\n",
            " 12  production_company                17213 non-null  object \n",
            " 13  tomatometer_status                17668 non-null  object \n",
            " 14  tomatometer_rating                17668 non-null  float64\n",
            " 15  tomatometer_count                 17668 non-null  float64\n",
            " 16  audience_status                   17264 non-null  object \n",
            " 17  audience_rating                   17416 non-null  float64\n",
            " 18  audience_count                    17415 non-null  float64\n",
            " 19  tomatometer_fresh_critics_count   17712 non-null  int64  \n",
            " 20  tomatometer_rotten_critics_count  17712 non-null  int64  \n",
            "dtypes: float64(5), int64(2), object(14)\n",
            "memory usage: 2.8+ MB\n"
          ]
        }
      ]
    },
    {
      "cell_type": "markdown",
      "metadata": {
        "id": "c-ukI21sPkYV"
      },
      "source": [
        "#### 1.1.1 Cleaning `movies_df`\n",
        "\n",
        "`.info()` gives us meaningful information regarding columns, their types, and the amount of nulls, based on which we can now clean our dataframe. \n",
        "\n",
        "**TODO**:\n",
        "* Drop the columns `critics_consensus` and `production_company`.\n",
        "* Replace all nulls in the column `genres` with the string `\"No Genre\"`.\n",
        "* Drop all rows that have at least one null.\n",
        "* Cast columns `original_release_date`,`streaming_release_date` to be type `datetime64[ns]`.\n",
        "* Cast columns `runtime`,`tomatometer_count`, `tomatometer_rating`, `audience_count`, and `audience_rating` to be type `int64`."
      ]
    },
    {
      "cell_type": "code",
      "metadata": {
        "id": "cMmQTXV7P4YK"
      },
      "source": [
        "# TODO: clean movies_df\n",
        "movies_df = movies_df.drop(columns=['critics_consensus','production_company'])\n",
        "movies_df['genres'] = movies_df['genres'].fillna('No Genre')\n",
        "movies_df = movies_df.dropna()\n",
        "movies_df['original_release_date'] = movies_df['original_release_date'].apply(lambda x: pd.to_datetime(x))\n",
        "movies_df['streaming_release_date'] = movies_df['streaming_release_date'].apply(lambda x: pd.to_datetime(x))\n",
        "movies_df['runtime'] = movies_df['runtime'].astype('int64')\n",
        "movies_df['tomatometer_count'] = movies_df['tomatometer_count'].astype('int64')\n",
        "movies_df['tomatometer_rating'] = movies_df['tomatometer_rating'].astype('int64')\n",
        "movies_df['audience_count'] = movies_df['audience_count'].astype('int64')\n",
        "movies_df['audience_rating'] = movies_df['audience_rating'].astype('int64')"
      ],
      "execution_count": null,
      "outputs": []
    },
    {
      "cell_type": "code",
      "metadata": {
        "id": "9SYxGtgOQKLY",
        "colab": {
          "base_uri": "https://localhost:8080/"
        },
        "outputId": "515c5da6-24c3-4dc7-f21f-b3097634fbb4"
      },
      "source": [
        "# 3 points\n",
        "grader.grade(test_case_id = 'test_cleaning_movies', answer = movies_df.head(1000))"
      ],
      "execution_count": null,
      "outputs": [
        {
          "output_type": "stream",
          "name": "stdout",
          "text": [
            "Correct! You earned 3/3 points. You are a star!\n",
            "\n",
            "Your submission has been successfully recorded in the gradebook.\n"
          ]
        }
      ]
    },
    {
      "cell_type": "markdown",
      "source": [
        "#### 1.1.2 Processing Genres\n",
        "\n",
        "`movies_df` also contains a `genres` column that represents an exhaustive list of all the genres a particular movie falls under. The comma-separated string format this column is in isn't too useful to us at the moment...\n",
        "\n",
        "**TODO**:\n",
        "- Copy over `movies_df` into a new dataframe called `exploded_movies_df`. \n",
        "- Split the genres listed such that each row contains only one listed genre (if a particular movie has 2 genres, that row will appear twice for each of the genres) - call this column `genre`\n",
        "- Strip the `genre` column of any leading or trailing whitespaces\n",
        "\n",
        "\n",
        "**Hint**: See the `.explode()` and `.strip()` functions"
      ],
      "metadata": {
        "id": "aI_zsI3hNJCf"
      }
    },
    {
      "cell_type": "code",
      "source": [
        "# TODO: create new dataframe and genre column\n",
        "exploded_movies_df = movies_df.copy()\n",
        "exploded_movies_df['genre'] = exploded_movies_df['genres'].apply(lambda x: x.split(','))\n",
        "exploded_movies_df = exploded_movies_df.explode('genre')\n",
        "#exploded_movies_df = exploded_movies_df.rename(columns={'genres':'genre'})\n",
        "exploded_movies_df['genre'] = exploded_movies_df['genre'].apply(lambda x: x.strip())"
      ],
      "metadata": {
        "id": "ZOfBFzD7NK8i"
      },
      "execution_count": null,
      "outputs": []
    },
    {
      "cell_type": "code",
      "source": [
        "# 3 points\n",
        "grader.grade(test_case_id = 'test_genre_processing', answer = exploded_movies_df.head(1000))"
      ],
      "metadata": {
        "id": "sKA2_ScM6nWv",
        "colab": {
          "base_uri": "https://localhost:8080/"
        },
        "outputId": "f336955b-6538-47e0-bee3-3fa4b02e85cc"
      },
      "execution_count": null,
      "outputs": [
        {
          "output_type": "stream",
          "name": "stdout",
          "text": [
            "Correct! You earned 3/3 points. You are a star!\n",
            "\n",
            "Your submission has been successfully recorded in the gradebook.\n"
          ]
        }
      ]
    },
    {
      "cell_type": "markdown",
      "metadata": {
        "id": "38JSvyEGCGYN"
      },
      "source": [
        "#### 1.1.3 Cleaning `reviews_df`\n",
        "\n",
        "Then, let's take a look at cleaning `reviews_df`."
      ]
    },
    {
      "cell_type": "code",
      "source": [
        "#view info of reviews_df\n",
        "reviews_df.info()"
      ],
      "metadata": {
        "id": "vKv7Gdi_CGYQ",
        "colab": {
          "base_uri": "https://localhost:8080/"
        },
        "outputId": "9a4c2804-b79b-4bcf-bcd4-1526267c3bd1"
      },
      "execution_count": null,
      "outputs": [
        {
          "output_type": "stream",
          "name": "stdout",
          "text": [
            "<class 'pandas.core.frame.DataFrame'>\n",
            "RangeIndex: 1130017 entries, 0 to 1130016\n",
            "Data columns (total 8 columns):\n",
            " #   Column                Non-Null Count    Dtype \n",
            "---  ------                --------------    ----- \n",
            " 0   rotten_tomatoes_link  1130017 non-null  object\n",
            " 1   critic_name           1111488 non-null  object\n",
            " 2   top_critic            1130017 non-null  bool  \n",
            " 3   publisher_name        1130017 non-null  object\n",
            " 4   review_type           1130017 non-null  object\n",
            " 5   review_score          824081 non-null   object\n",
            " 6   review_date           1130017 non-null  object\n",
            " 7   review_content        1064211 non-null  object\n",
            "dtypes: bool(1), object(7)\n",
            "memory usage: 61.4+ MB\n"
          ]
        }
      ]
    },
    {
      "cell_type": "markdown",
      "metadata": {
        "id": "Cz3Xx84WCGYU"
      },
      "source": [
        "\n",
        "**TODO**:\n",
        "* Drop all rows that have a null value in the column `review_score` or `review_content`.\n",
        "* Replace each null in the `critic_name` column with the string `\"Anonymous\"`.\n",
        "* Convert column `review_date` into type `datetime64[ns]`.\n"
      ]
    },
    {
      "cell_type": "code",
      "metadata": {
        "id": "GfBTqJs3CGYV"
      },
      "source": [
        "#TODO: Clean reviews_df\n",
        "reviews_df = reviews_df.dropna(subset=['review_score','review_content'])\n",
        "reviews_df['critic_name'] = reviews_df['critic_name'].fillna('Anonymous')\n",
        "reviews_df['review_date'] = reviews_df['review_date'].apply(lambda x: pd.to_datetime(x))"
      ],
      "execution_count": null,
      "outputs": []
    },
    {
      "cell_type": "code",
      "metadata": {
        "id": "PacFnS9JCGYW",
        "colab": {
          "base_uri": "https://localhost:8080/"
        },
        "outputId": "cade667a-aec6-451f-ebd3-71ffd458938d"
      },
      "source": [
        "# 3 points\n",
        "grader.grade(test_case_id = 'test_cleaning_reviews', answer = reviews_df.head(1000))"
      ],
      "execution_count": null,
      "outputs": [
        {
          "output_type": "stream",
          "name": "stdout",
          "text": [
            "Correct! You earned 3/3 points. You are a star!\n",
            "\n",
            "Your submission has been successfully recorded in the gradebook.\n"
          ]
        }
      ]
    },
    {
      "cell_type": "markdown",
      "metadata": {
        "id": "kYp9fW_SvG3g"
      },
      "source": [
        "### 1.2 Your Sandbox \n",
        "\n",
        ".info() is just one of many basic tools that you can use for Exploratory Data Analysis (EDA). Instead of throwing you straight into the deep end, we wanted to give you a chance to take some time and explore the data on your own. **This section is not graded**, so for the speedrunners out there feel free to just jump in, but we wanted to at least give you a small space to utilize your EDA toolkit to familiarize yourself with all the data you just downloaded.\n",
        "\n",
        "Some suggestions to get you started:\n",
        "- `df.head()`\n",
        "- `df.describe()`\n",
        "- `Series.unique()`"
      ]
    },
    {
      "cell_type": "code",
      "metadata": {
        "id": "U429NTI5RY4a",
        "colab": {
          "base_uri": "https://localhost:8080/",
          "height": 756
        },
        "outputId": "5a6730ae-8b1e-4cf4-de7f-93b4a843d49a"
      },
      "source": [
        "# Your EDA here! Feel free to add more cells\n",
        "movies_df.head()"
      ],
      "execution_count": null,
      "outputs": [
        {
          "output_type": "execute_result",
          "data": {
            "text/html": [
              "\n",
              "  <div id=\"df-4057468f-a750-4a96-a4fd-9c438bc8d768\">\n",
              "    <div class=\"colab-df-container\">\n",
              "      <div>\n",
              "<style scoped>\n",
              "    .dataframe tbody tr th:only-of-type {\n",
              "        vertical-align: middle;\n",
              "    }\n",
              "\n",
              "    .dataframe tbody tr th {\n",
              "        vertical-align: top;\n",
              "    }\n",
              "\n",
              "    .dataframe thead th {\n",
              "        text-align: right;\n",
              "    }\n",
              "</style>\n",
              "<table border=\"1\" class=\"dataframe\">\n",
              "  <thead>\n",
              "    <tr style=\"text-align: right;\">\n",
              "      <th></th>\n",
              "      <th>rotten_tomatoes_link</th>\n",
              "      <th>movie_title</th>\n",
              "      <th>movie_info</th>\n",
              "      <th>content_rating</th>\n",
              "      <th>genres</th>\n",
              "      <th>directors</th>\n",
              "      <th>authors</th>\n",
              "      <th>actors</th>\n",
              "      <th>original_release_date</th>\n",
              "      <th>streaming_release_date</th>\n",
              "      <th>runtime</th>\n",
              "      <th>tomatometer_status</th>\n",
              "      <th>tomatometer_rating</th>\n",
              "      <th>tomatometer_count</th>\n",
              "      <th>audience_status</th>\n",
              "      <th>audience_rating</th>\n",
              "      <th>audience_count</th>\n",
              "      <th>tomatometer_fresh_critics_count</th>\n",
              "      <th>tomatometer_rotten_critics_count</th>\n",
              "    </tr>\n",
              "  </thead>\n",
              "  <tbody>\n",
              "    <tr>\n",
              "      <th>0</th>\n",
              "      <td>m/0814255</td>\n",
              "      <td>Percy Jackson &amp; the Olympians: The Lightning T...</td>\n",
              "      <td>Always trouble-prone, the life of teenager Per...</td>\n",
              "      <td>PG</td>\n",
              "      <td>Action &amp; Adventure, Comedy, Drama, Science Fic...</td>\n",
              "      <td>Chris Columbus</td>\n",
              "      <td>Craig Titley, Chris Columbus, Rick Riordan</td>\n",
              "      <td>Logan Lerman, Brandon T. Jackson, Alexandra Da...</td>\n",
              "      <td>2010-02-12</td>\n",
              "      <td>2015-11-25</td>\n",
              "      <td>119</td>\n",
              "      <td>Rotten</td>\n",
              "      <td>49</td>\n",
              "      <td>149</td>\n",
              "      <td>Spilled</td>\n",
              "      <td>53</td>\n",
              "      <td>254421</td>\n",
              "      <td>73</td>\n",
              "      <td>76</td>\n",
              "    </tr>\n",
              "    <tr>\n",
              "      <th>1</th>\n",
              "      <td>m/0878835</td>\n",
              "      <td>Please Give</td>\n",
              "      <td>Kate (Catherine Keener) and her husband Alex (...</td>\n",
              "      <td>R</td>\n",
              "      <td>Comedy</td>\n",
              "      <td>Nicole Holofcener</td>\n",
              "      <td>Nicole Holofcener</td>\n",
              "      <td>Catherine Keener, Amanda Peet, Oliver Platt, R...</td>\n",
              "      <td>2010-04-30</td>\n",
              "      <td>2012-09-04</td>\n",
              "      <td>90</td>\n",
              "      <td>Certified-Fresh</td>\n",
              "      <td>87</td>\n",
              "      <td>142</td>\n",
              "      <td>Upright</td>\n",
              "      <td>64</td>\n",
              "      <td>11574</td>\n",
              "      <td>123</td>\n",
              "      <td>19</td>\n",
              "    </tr>\n",
              "    <tr>\n",
              "      <th>2</th>\n",
              "      <td>m/10</td>\n",
              "      <td>10</td>\n",
              "      <td>A successful, middle-aged Hollywood songwriter...</td>\n",
              "      <td>R</td>\n",
              "      <td>Comedy, Romance</td>\n",
              "      <td>Blake Edwards</td>\n",
              "      <td>Blake Edwards</td>\n",
              "      <td>Dudley Moore, Bo Derek, Julie Andrews, Robert ...</td>\n",
              "      <td>1979-10-05</td>\n",
              "      <td>2014-07-24</td>\n",
              "      <td>122</td>\n",
              "      <td>Fresh</td>\n",
              "      <td>67</td>\n",
              "      <td>24</td>\n",
              "      <td>Spilled</td>\n",
              "      <td>53</td>\n",
              "      <td>14684</td>\n",
              "      <td>16</td>\n",
              "      <td>8</td>\n",
              "    </tr>\n",
              "    <tr>\n",
              "      <th>3</th>\n",
              "      <td>m/1000013-12_angry_men</td>\n",
              "      <td>12 Angry Men (Twelve Angry Men)</td>\n",
              "      <td>Following the closing arguments in a murder tr...</td>\n",
              "      <td>NR</td>\n",
              "      <td>Classics, Drama</td>\n",
              "      <td>Sidney Lumet</td>\n",
              "      <td>Reginald Rose</td>\n",
              "      <td>Martin Balsam, John Fiedler, Lee J. Cobb, E.G....</td>\n",
              "      <td>1957-04-13</td>\n",
              "      <td>2017-01-13</td>\n",
              "      <td>95</td>\n",
              "      <td>Certified-Fresh</td>\n",
              "      <td>100</td>\n",
              "      <td>54</td>\n",
              "      <td>Upright</td>\n",
              "      <td>97</td>\n",
              "      <td>105386</td>\n",
              "      <td>54</td>\n",
              "      <td>0</td>\n",
              "    </tr>\n",
              "    <tr>\n",
              "      <th>4</th>\n",
              "      <td>m/1000079-20000_leagues_under_the_sea</td>\n",
              "      <td>20,000 Leagues Under The Sea</td>\n",
              "      <td>In 1866, Professor Pierre M. Aronnax (Paul Luk...</td>\n",
              "      <td>G</td>\n",
              "      <td>Action &amp; Adventure, Drama, Kids &amp; Family</td>\n",
              "      <td>Richard Fleischer</td>\n",
              "      <td>Earl Felton</td>\n",
              "      <td>James Mason, Kirk Douglas, Paul Lukas, Peter L...</td>\n",
              "      <td>1954-01-01</td>\n",
              "      <td>2016-06-10</td>\n",
              "      <td>127</td>\n",
              "      <td>Fresh</td>\n",
              "      <td>89</td>\n",
              "      <td>27</td>\n",
              "      <td>Upright</td>\n",
              "      <td>74</td>\n",
              "      <td>68918</td>\n",
              "      <td>24</td>\n",
              "      <td>3</td>\n",
              "    </tr>\n",
              "  </tbody>\n",
              "</table>\n",
              "</div>\n",
              "      <button class=\"colab-df-convert\" onclick=\"convertToInteractive('df-4057468f-a750-4a96-a4fd-9c438bc8d768')\"\n",
              "              title=\"Convert this dataframe to an interactive table.\"\n",
              "              style=\"display:none;\">\n",
              "        \n",
              "  <svg xmlns=\"http://www.w3.org/2000/svg\" height=\"24px\"viewBox=\"0 0 24 24\"\n",
              "       width=\"24px\">\n",
              "    <path d=\"M0 0h24v24H0V0z\" fill=\"none\"/>\n",
              "    <path d=\"M18.56 5.44l.94 2.06.94-2.06 2.06-.94-2.06-.94-.94-2.06-.94 2.06-2.06.94zm-11 1L8.5 8.5l.94-2.06 2.06-.94-2.06-.94L8.5 2.5l-.94 2.06-2.06.94zm10 10l.94 2.06.94-2.06 2.06-.94-2.06-.94-.94-2.06-.94 2.06-2.06.94z\"/><path d=\"M17.41 7.96l-1.37-1.37c-.4-.4-.92-.59-1.43-.59-.52 0-1.04.2-1.43.59L10.3 9.45l-7.72 7.72c-.78.78-.78 2.05 0 2.83L4 21.41c.39.39.9.59 1.41.59.51 0 1.02-.2 1.41-.59l7.78-7.78 2.81-2.81c.8-.78.8-2.07 0-2.86zM5.41 20L4 18.59l7.72-7.72 1.47 1.35L5.41 20z\"/>\n",
              "  </svg>\n",
              "      </button>\n",
              "      \n",
              "  <style>\n",
              "    .colab-df-container {\n",
              "      display:flex;\n",
              "      flex-wrap:wrap;\n",
              "      gap: 12px;\n",
              "    }\n",
              "\n",
              "    .colab-df-convert {\n",
              "      background-color: #E8F0FE;\n",
              "      border: none;\n",
              "      border-radius: 50%;\n",
              "      cursor: pointer;\n",
              "      display: none;\n",
              "      fill: #1967D2;\n",
              "      height: 32px;\n",
              "      padding: 0 0 0 0;\n",
              "      width: 32px;\n",
              "    }\n",
              "\n",
              "    .colab-df-convert:hover {\n",
              "      background-color: #E2EBFA;\n",
              "      box-shadow: 0px 1px 2px rgba(60, 64, 67, 0.3), 0px 1px 3px 1px rgba(60, 64, 67, 0.15);\n",
              "      fill: #174EA6;\n",
              "    }\n",
              "\n",
              "    [theme=dark] .colab-df-convert {\n",
              "      background-color: #3B4455;\n",
              "      fill: #D2E3FC;\n",
              "    }\n",
              "\n",
              "    [theme=dark] .colab-df-convert:hover {\n",
              "      background-color: #434B5C;\n",
              "      box-shadow: 0px 1px 3px 1px rgba(0, 0, 0, 0.15);\n",
              "      filter: drop-shadow(0px 1px 2px rgba(0, 0, 0, 0.3));\n",
              "      fill: #FFFFFF;\n",
              "    }\n",
              "  </style>\n",
              "\n",
              "      <script>\n",
              "        const buttonEl =\n",
              "          document.querySelector('#df-4057468f-a750-4a96-a4fd-9c438bc8d768 button.colab-df-convert');\n",
              "        buttonEl.style.display =\n",
              "          google.colab.kernel.accessAllowed ? 'block' : 'none';\n",
              "\n",
              "        async function convertToInteractive(key) {\n",
              "          const element = document.querySelector('#df-4057468f-a750-4a96-a4fd-9c438bc8d768');\n",
              "          const dataTable =\n",
              "            await google.colab.kernel.invokeFunction('convertToInteractive',\n",
              "                                                     [key], {});\n",
              "          if (!dataTable) return;\n",
              "\n",
              "          const docLinkHtml = 'Like what you see? Visit the ' +\n",
              "            '<a target=\"_blank\" href=https://colab.research.google.com/notebooks/data_table.ipynb>data table notebook</a>'\n",
              "            + ' to learn more about interactive tables.';\n",
              "          element.innerHTML = '';\n",
              "          dataTable['output_type'] = 'display_data';\n",
              "          await google.colab.output.renderOutput(dataTable, element);\n",
              "          const docLink = document.createElement('div');\n",
              "          docLink.innerHTML = docLinkHtml;\n",
              "          element.appendChild(docLink);\n",
              "        }\n",
              "      </script>\n",
              "    </div>\n",
              "  </div>\n",
              "  "
            ],
            "text/plain": [
              "                    rotten_tomatoes_link  ... tomatometer_rotten_critics_count\n",
              "0                              m/0814255  ...                               76\n",
              "1                              m/0878835  ...                               19\n",
              "2                                   m/10  ...                                8\n",
              "3                 m/1000013-12_angry_men  ...                                0\n",
              "4  m/1000079-20000_leagues_under_the_sea  ...                                3\n",
              "\n",
              "[5 rows x 19 columns]"
            ]
          },
          "metadata": {},
          "execution_count": 20
        }
      ]
    },
    {
      "cell_type": "code",
      "source": [
        "movies_df.describe()"
      ],
      "metadata": {
        "colab": {
          "base_uri": "https://localhost:8080/",
          "height": 300
        },
        "id": "vyTP6dK5_XB9",
        "outputId": "7578de0e-958c-49dc-cd3f-4396ad1e516d"
      },
      "execution_count": null,
      "outputs": [
        {
          "output_type": "execute_result",
          "data": {
            "text/html": [
              "\n",
              "  <div id=\"df-7c08a46b-5da8-4589-bfad-ee9effe377a6\">\n",
              "    <div class=\"colab-df-container\">\n",
              "      <div>\n",
              "<style scoped>\n",
              "    .dataframe tbody tr th:only-of-type {\n",
              "        vertical-align: middle;\n",
              "    }\n",
              "\n",
              "    .dataframe tbody tr th {\n",
              "        vertical-align: top;\n",
              "    }\n",
              "\n",
              "    .dataframe thead th {\n",
              "        text-align: right;\n",
              "    }\n",
              "</style>\n",
              "<table border=\"1\" class=\"dataframe\">\n",
              "  <thead>\n",
              "    <tr style=\"text-align: right;\">\n",
              "      <th></th>\n",
              "      <th>runtime</th>\n",
              "      <th>tomatometer_rating</th>\n",
              "      <th>tomatometer_count</th>\n",
              "      <th>audience_rating</th>\n",
              "      <th>audience_count</th>\n",
              "      <th>tomatometer_fresh_critics_count</th>\n",
              "      <th>tomatometer_rotten_critics_count</th>\n",
              "    </tr>\n",
              "  </thead>\n",
              "  <tbody>\n",
              "    <tr>\n",
              "      <th>count</th>\n",
              "      <td>14627.000000</td>\n",
              "      <td>14627.000000</td>\n",
              "      <td>14627.000000</td>\n",
              "      <td>14627.000000</td>\n",
              "      <td>1.462700e+04</td>\n",
              "      <td>14627.000000</td>\n",
              "      <td>14627.000000</td>\n",
              "    </tr>\n",
              "    <tr>\n",
              "      <th>mean</th>\n",
              "      <td>103.382785</td>\n",
              "      <td>58.951938</td>\n",
              "      <td>61.547549</td>\n",
              "      <td>59.779586</td>\n",
              "      <td>1.671715e+05</td>\n",
              "      <td>38.541533</td>\n",
              "      <td>23.019279</td>\n",
              "    </tr>\n",
              "    <tr>\n",
              "      <th>std</th>\n",
              "      <td>18.434694</td>\n",
              "      <td>28.368395</td>\n",
              "      <td>69.307911</td>\n",
              "      <td>20.364462</td>\n",
              "      <td>1.903954e+06</td>\n",
              "      <td>53.558234</td>\n",
              "      <td>31.263806</td>\n",
              "    </tr>\n",
              "    <tr>\n",
              "      <th>min</th>\n",
              "      <td>8.000000</td>\n",
              "      <td>0.000000</td>\n",
              "      <td>5.000000</td>\n",
              "      <td>0.000000</td>\n",
              "      <td>5.000000e+00</td>\n",
              "      <td>0.000000</td>\n",
              "      <td>0.000000</td>\n",
              "    </tr>\n",
              "    <tr>\n",
              "      <th>25%</th>\n",
              "      <td>91.000000</td>\n",
              "      <td>36.000000</td>\n",
              "      <td>14.000000</td>\n",
              "      <td>44.000000</td>\n",
              "      <td>1.070000e+03</td>\n",
              "      <td>6.000000</td>\n",
              "      <td>4.000000</td>\n",
              "    </tr>\n",
              "    <tr>\n",
              "      <th>50%</th>\n",
              "      <td>100.000000</td>\n",
              "      <td>63.000000</td>\n",
              "      <td>32.000000</td>\n",
              "      <td>62.000000</td>\n",
              "      <td>5.802000e+03</td>\n",
              "      <td>18.000000</td>\n",
              "      <td>10.000000</td>\n",
              "    </tr>\n",
              "    <tr>\n",
              "      <th>75%</th>\n",
              "      <td>112.000000</td>\n",
              "      <td>84.000000</td>\n",
              "      <td>86.000000</td>\n",
              "      <td>77.000000</td>\n",
              "      <td>3.525200e+04</td>\n",
              "      <td>47.000000</td>\n",
              "      <td>28.000000</td>\n",
              "    </tr>\n",
              "    <tr>\n",
              "      <th>max</th>\n",
              "      <td>266.000000</td>\n",
              "      <td>100.000000</td>\n",
              "      <td>535.000000</td>\n",
              "      <td>100.000000</td>\n",
              "      <td>3.579764e+07</td>\n",
              "      <td>497.000000</td>\n",
              "      <td>303.000000</td>\n",
              "    </tr>\n",
              "  </tbody>\n",
              "</table>\n",
              "</div>\n",
              "      <button class=\"colab-df-convert\" onclick=\"convertToInteractive('df-7c08a46b-5da8-4589-bfad-ee9effe377a6')\"\n",
              "              title=\"Convert this dataframe to an interactive table.\"\n",
              "              style=\"display:none;\">\n",
              "        \n",
              "  <svg xmlns=\"http://www.w3.org/2000/svg\" height=\"24px\"viewBox=\"0 0 24 24\"\n",
              "       width=\"24px\">\n",
              "    <path d=\"M0 0h24v24H0V0z\" fill=\"none\"/>\n",
              "    <path d=\"M18.56 5.44l.94 2.06.94-2.06 2.06-.94-2.06-.94-.94-2.06-.94 2.06-2.06.94zm-11 1L8.5 8.5l.94-2.06 2.06-.94-2.06-.94L8.5 2.5l-.94 2.06-2.06.94zm10 10l.94 2.06.94-2.06 2.06-.94-2.06-.94-.94-2.06-.94 2.06-2.06.94z\"/><path d=\"M17.41 7.96l-1.37-1.37c-.4-.4-.92-.59-1.43-.59-.52 0-1.04.2-1.43.59L10.3 9.45l-7.72 7.72c-.78.78-.78 2.05 0 2.83L4 21.41c.39.39.9.59 1.41.59.51 0 1.02-.2 1.41-.59l7.78-7.78 2.81-2.81c.8-.78.8-2.07 0-2.86zM5.41 20L4 18.59l7.72-7.72 1.47 1.35L5.41 20z\"/>\n",
              "  </svg>\n",
              "      </button>\n",
              "      \n",
              "  <style>\n",
              "    .colab-df-container {\n",
              "      display:flex;\n",
              "      flex-wrap:wrap;\n",
              "      gap: 12px;\n",
              "    }\n",
              "\n",
              "    .colab-df-convert {\n",
              "      background-color: #E8F0FE;\n",
              "      border: none;\n",
              "      border-radius: 50%;\n",
              "      cursor: pointer;\n",
              "      display: none;\n",
              "      fill: #1967D2;\n",
              "      height: 32px;\n",
              "      padding: 0 0 0 0;\n",
              "      width: 32px;\n",
              "    }\n",
              "\n",
              "    .colab-df-convert:hover {\n",
              "      background-color: #E2EBFA;\n",
              "      box-shadow: 0px 1px 2px rgba(60, 64, 67, 0.3), 0px 1px 3px 1px rgba(60, 64, 67, 0.15);\n",
              "      fill: #174EA6;\n",
              "    }\n",
              "\n",
              "    [theme=dark] .colab-df-convert {\n",
              "      background-color: #3B4455;\n",
              "      fill: #D2E3FC;\n",
              "    }\n",
              "\n",
              "    [theme=dark] .colab-df-convert:hover {\n",
              "      background-color: #434B5C;\n",
              "      box-shadow: 0px 1px 3px 1px rgba(0, 0, 0, 0.15);\n",
              "      filter: drop-shadow(0px 1px 2px rgba(0, 0, 0, 0.3));\n",
              "      fill: #FFFFFF;\n",
              "    }\n",
              "  </style>\n",
              "\n",
              "      <script>\n",
              "        const buttonEl =\n",
              "          document.querySelector('#df-7c08a46b-5da8-4589-bfad-ee9effe377a6 button.colab-df-convert');\n",
              "        buttonEl.style.display =\n",
              "          google.colab.kernel.accessAllowed ? 'block' : 'none';\n",
              "\n",
              "        async function convertToInteractive(key) {\n",
              "          const element = document.querySelector('#df-7c08a46b-5da8-4589-bfad-ee9effe377a6');\n",
              "          const dataTable =\n",
              "            await google.colab.kernel.invokeFunction('convertToInteractive',\n",
              "                                                     [key], {});\n",
              "          if (!dataTable) return;\n",
              "\n",
              "          const docLinkHtml = 'Like what you see? Visit the ' +\n",
              "            '<a target=\"_blank\" href=https://colab.research.google.com/notebooks/data_table.ipynb>data table notebook</a>'\n",
              "            + ' to learn more about interactive tables.';\n",
              "          element.innerHTML = '';\n",
              "          dataTable['output_type'] = 'display_data';\n",
              "          await google.colab.output.renderOutput(dataTable, element);\n",
              "          const docLink = document.createElement('div');\n",
              "          docLink.innerHTML = docLinkHtml;\n",
              "          element.appendChild(docLink);\n",
              "        }\n",
              "      </script>\n",
              "    </div>\n",
              "  </div>\n",
              "  "
            ],
            "text/plain": [
              "            runtime  ...  tomatometer_rotten_critics_count\n",
              "count  14627.000000  ...                      14627.000000\n",
              "mean     103.382785  ...                         23.019279\n",
              "std       18.434694  ...                         31.263806\n",
              "min        8.000000  ...                          0.000000\n",
              "25%       91.000000  ...                          4.000000\n",
              "50%      100.000000  ...                         10.000000\n",
              "75%      112.000000  ...                         28.000000\n",
              "max      266.000000  ...                        303.000000\n",
              "\n",
              "[8 rows x 7 columns]"
            ]
          },
          "metadata": {},
          "execution_count": 21
        }
      ]
    },
    {
      "cell_type": "code",
      "source": [
        "movies_df['movie_title'].unique()"
      ],
      "metadata": {
        "colab": {
          "base_uri": "https://localhost:8080/"
        },
        "id": "bReDAWCG_78_",
        "outputId": "31809dc2-3188-4044-9c97-72f7d52e9562"
      },
      "execution_count": null,
      "outputs": [
        {
          "output_type": "execute_result",
          "data": {
            "text/plain": [
              "array(['Percy Jackson & the Olympians: The Lightning Thief',\n",
              "       'Please Give', '10', ..., 'Zootopia', 'Zulu', 'Zulu Dawn'],\n",
              "      dtype=object)"
            ]
          },
          "metadata": {},
          "execution_count": 22
        }
      ]
    },
    {
      "cell_type": "code",
      "source": [
        "reviews_df.head()"
      ],
      "metadata": {
        "colab": {
          "base_uri": "https://localhost:8080/",
          "height": 206
        },
        "id": "9duI5SaT_XgO",
        "outputId": "bfd92dbb-0289-4506-e729-16be9ea78443"
      },
      "execution_count": null,
      "outputs": [
        {
          "output_type": "execute_result",
          "data": {
            "text/html": [
              "\n",
              "  <div id=\"df-a2404af0-44a5-4a6a-b50d-883458b3ff84\">\n",
              "    <div class=\"colab-df-container\">\n",
              "      <div>\n",
              "<style scoped>\n",
              "    .dataframe tbody tr th:only-of-type {\n",
              "        vertical-align: middle;\n",
              "    }\n",
              "\n",
              "    .dataframe tbody tr th {\n",
              "        vertical-align: top;\n",
              "    }\n",
              "\n",
              "    .dataframe thead th {\n",
              "        text-align: right;\n",
              "    }\n",
              "</style>\n",
              "<table border=\"1\" class=\"dataframe\">\n",
              "  <thead>\n",
              "    <tr style=\"text-align: right;\">\n",
              "      <th></th>\n",
              "      <th>rotten_tomatoes_link</th>\n",
              "      <th>critic_name</th>\n",
              "      <th>top_critic</th>\n",
              "      <th>publisher_name</th>\n",
              "      <th>review_type</th>\n",
              "      <th>review_score</th>\n",
              "      <th>review_date</th>\n",
              "      <th>review_content</th>\n",
              "    </tr>\n",
              "  </thead>\n",
              "  <tbody>\n",
              "    <tr>\n",
              "      <th>3</th>\n",
              "      <td>m/0814255</td>\n",
              "      <td>Ben McEachen</td>\n",
              "      <td>False</td>\n",
              "      <td>Sunday Mail (Australia)</td>\n",
              "      <td>Fresh</td>\n",
              "      <td>3.5/5</td>\n",
              "      <td>2010-02-09</td>\n",
              "      <td>Whether audiences will get behind The Lightnin...</td>\n",
              "    </tr>\n",
              "    <tr>\n",
              "      <th>6</th>\n",
              "      <td>m/0814255</td>\n",
              "      <td>Nick Schager</td>\n",
              "      <td>False</td>\n",
              "      <td>Slant Magazine</td>\n",
              "      <td>Rotten</td>\n",
              "      <td>1/4</td>\n",
              "      <td>2010-02-10</td>\n",
              "      <td>Harry Potter knockoffs don't come more transpa...</td>\n",
              "    </tr>\n",
              "    <tr>\n",
              "      <th>7</th>\n",
              "      <td>m/0814255</td>\n",
              "      <td>Bill Goodykoontz</td>\n",
              "      <td>True</td>\n",
              "      <td>Arizona Republic</td>\n",
              "      <td>Fresh</td>\n",
              "      <td>3.5/5</td>\n",
              "      <td>2010-02-10</td>\n",
              "      <td>Percy Jackson isn't a great movie, but it's a ...</td>\n",
              "    </tr>\n",
              "    <tr>\n",
              "      <th>8</th>\n",
              "      <td>m/0814255</td>\n",
              "      <td>Jordan Hoffman</td>\n",
              "      <td>False</td>\n",
              "      <td>UGO</td>\n",
              "      <td>Fresh</td>\n",
              "      <td>B</td>\n",
              "      <td>2010-02-10</td>\n",
              "      <td>Fun, brisk and imaginative</td>\n",
              "    </tr>\n",
              "    <tr>\n",
              "      <th>9</th>\n",
              "      <td>m/0814255</td>\n",
              "      <td>Jim Schembri</td>\n",
              "      <td>True</td>\n",
              "      <td>The Age (Australia)</td>\n",
              "      <td>Fresh</td>\n",
              "      <td>3/5</td>\n",
              "      <td>2010-02-10</td>\n",
              "      <td>Crammed with dragons, set-destroying fights an...</td>\n",
              "    </tr>\n",
              "  </tbody>\n",
              "</table>\n",
              "</div>\n",
              "      <button class=\"colab-df-convert\" onclick=\"convertToInteractive('df-a2404af0-44a5-4a6a-b50d-883458b3ff84')\"\n",
              "              title=\"Convert this dataframe to an interactive table.\"\n",
              "              style=\"display:none;\">\n",
              "        \n",
              "  <svg xmlns=\"http://www.w3.org/2000/svg\" height=\"24px\"viewBox=\"0 0 24 24\"\n",
              "       width=\"24px\">\n",
              "    <path d=\"M0 0h24v24H0V0z\" fill=\"none\"/>\n",
              "    <path d=\"M18.56 5.44l.94 2.06.94-2.06 2.06-.94-2.06-.94-.94-2.06-.94 2.06-2.06.94zm-11 1L8.5 8.5l.94-2.06 2.06-.94-2.06-.94L8.5 2.5l-.94 2.06-2.06.94zm10 10l.94 2.06.94-2.06 2.06-.94-2.06-.94-.94-2.06-.94 2.06-2.06.94z\"/><path d=\"M17.41 7.96l-1.37-1.37c-.4-.4-.92-.59-1.43-.59-.52 0-1.04.2-1.43.59L10.3 9.45l-7.72 7.72c-.78.78-.78 2.05 0 2.83L4 21.41c.39.39.9.59 1.41.59.51 0 1.02-.2 1.41-.59l7.78-7.78 2.81-2.81c.8-.78.8-2.07 0-2.86zM5.41 20L4 18.59l7.72-7.72 1.47 1.35L5.41 20z\"/>\n",
              "  </svg>\n",
              "      </button>\n",
              "      \n",
              "  <style>\n",
              "    .colab-df-container {\n",
              "      display:flex;\n",
              "      flex-wrap:wrap;\n",
              "      gap: 12px;\n",
              "    }\n",
              "\n",
              "    .colab-df-convert {\n",
              "      background-color: #E8F0FE;\n",
              "      border: none;\n",
              "      border-radius: 50%;\n",
              "      cursor: pointer;\n",
              "      display: none;\n",
              "      fill: #1967D2;\n",
              "      height: 32px;\n",
              "      padding: 0 0 0 0;\n",
              "      width: 32px;\n",
              "    }\n",
              "\n",
              "    .colab-df-convert:hover {\n",
              "      background-color: #E2EBFA;\n",
              "      box-shadow: 0px 1px 2px rgba(60, 64, 67, 0.3), 0px 1px 3px 1px rgba(60, 64, 67, 0.15);\n",
              "      fill: #174EA6;\n",
              "    }\n",
              "\n",
              "    [theme=dark] .colab-df-convert {\n",
              "      background-color: #3B4455;\n",
              "      fill: #D2E3FC;\n",
              "    }\n",
              "\n",
              "    [theme=dark] .colab-df-convert:hover {\n",
              "      background-color: #434B5C;\n",
              "      box-shadow: 0px 1px 3px 1px rgba(0, 0, 0, 0.15);\n",
              "      filter: drop-shadow(0px 1px 2px rgba(0, 0, 0, 0.3));\n",
              "      fill: #FFFFFF;\n",
              "    }\n",
              "  </style>\n",
              "\n",
              "      <script>\n",
              "        const buttonEl =\n",
              "          document.querySelector('#df-a2404af0-44a5-4a6a-b50d-883458b3ff84 button.colab-df-convert');\n",
              "        buttonEl.style.display =\n",
              "          google.colab.kernel.accessAllowed ? 'block' : 'none';\n",
              "\n",
              "        async function convertToInteractive(key) {\n",
              "          const element = document.querySelector('#df-a2404af0-44a5-4a6a-b50d-883458b3ff84');\n",
              "          const dataTable =\n",
              "            await google.colab.kernel.invokeFunction('convertToInteractive',\n",
              "                                                     [key], {});\n",
              "          if (!dataTable) return;\n",
              "\n",
              "          const docLinkHtml = 'Like what you see? Visit the ' +\n",
              "            '<a target=\"_blank\" href=https://colab.research.google.com/notebooks/data_table.ipynb>data table notebook</a>'\n",
              "            + ' to learn more about interactive tables.';\n",
              "          element.innerHTML = '';\n",
              "          dataTable['output_type'] = 'display_data';\n",
              "          await google.colab.output.renderOutput(dataTable, element);\n",
              "          const docLink = document.createElement('div');\n",
              "          docLink.innerHTML = docLinkHtml;\n",
              "          element.appendChild(docLink);\n",
              "        }\n",
              "      </script>\n",
              "    </div>\n",
              "  </div>\n",
              "  "
            ],
            "text/plain": [
              "  rotten_tomatoes_link  ...                                     review_content\n",
              "3            m/0814255  ...  Whether audiences will get behind The Lightnin...\n",
              "6            m/0814255  ...  Harry Potter knockoffs don't come more transpa...\n",
              "7            m/0814255  ...  Percy Jackson isn't a great movie, but it's a ...\n",
              "8            m/0814255  ...                         Fun, brisk and imaginative\n",
              "9            m/0814255  ...  Crammed with dragons, set-destroying fights an...\n",
              "\n",
              "[5 rows x 8 columns]"
            ]
          },
          "metadata": {},
          "execution_count": 23
        }
      ]
    },
    {
      "cell_type": "code",
      "source": [
        "reviews_df.describe()"
      ],
      "metadata": {
        "colab": {
          "base_uri": "https://localhost:8080/",
          "height": 292
        },
        "id": "yU6m2n3P_YKr",
        "outputId": "8922043d-f596-446a-e70f-6831253fcb77"
      },
      "execution_count": null,
      "outputs": [
        {
          "output_type": "stream",
          "name": "stderr",
          "text": [
            "/usr/local/lib/python3.7/dist-packages/ipykernel_launcher.py:1: FutureWarning: Treating datetime data as categorical rather than numeric in `.describe` is deprecated and will be removed in a future version of pandas. Specify `datetime_is_numeric=True` to silence this warning and adopt the future behavior now.\n",
            "  \"\"\"Entry point for launching an IPython kernel.\n"
          ]
        },
        {
          "output_type": "execute_result",
          "data": {
            "text/html": [
              "\n",
              "  <div id=\"df-7aa5b6a6-d860-45e3-b1a4-68c8cd00273c\">\n",
              "    <div class=\"colab-df-container\">\n",
              "      <div>\n",
              "<style scoped>\n",
              "    .dataframe tbody tr th:only-of-type {\n",
              "        vertical-align: middle;\n",
              "    }\n",
              "\n",
              "    .dataframe tbody tr th {\n",
              "        vertical-align: top;\n",
              "    }\n",
              "\n",
              "    .dataframe thead th {\n",
              "        text-align: right;\n",
              "    }\n",
              "</style>\n",
              "<table border=\"1\" class=\"dataframe\">\n",
              "  <thead>\n",
              "    <tr style=\"text-align: right;\">\n",
              "      <th></th>\n",
              "      <th>rotten_tomatoes_link</th>\n",
              "      <th>critic_name</th>\n",
              "      <th>top_critic</th>\n",
              "      <th>publisher_name</th>\n",
              "      <th>review_type</th>\n",
              "      <th>review_score</th>\n",
              "      <th>review_date</th>\n",
              "      <th>review_content</th>\n",
              "    </tr>\n",
              "  </thead>\n",
              "  <tbody>\n",
              "    <tr>\n",
              "      <th>count</th>\n",
              "      <td>758709</td>\n",
              "      <td>758709</td>\n",
              "      <td>758709</td>\n",
              "      <td>758709</td>\n",
              "      <td>758709</td>\n",
              "      <td>758709</td>\n",
              "      <td>758709</td>\n",
              "      <td>758709</td>\n",
              "    </tr>\n",
              "    <tr>\n",
              "      <th>unique</th>\n",
              "      <td>17624</td>\n",
              "      <td>6842</td>\n",
              "      <td>2</td>\n",
              "      <td>1626</td>\n",
              "      <td>2</td>\n",
              "      <td>813</td>\n",
              "      <td>7475</td>\n",
              "      <td>677125</td>\n",
              "    </tr>\n",
              "    <tr>\n",
              "      <th>top</th>\n",
              "      <td>m/star_wars_the_rise_of_skywalker</td>\n",
              "      <td>Dennis Schwartz</td>\n",
              "      <td>False</td>\n",
              "      <td>eFilmCritic.com</td>\n",
              "      <td>Fresh</td>\n",
              "      <td>3/5</td>\n",
              "      <td>2000-01-01 00:00:00</td>\n",
              "      <td>full review at Movies for the Masses</td>\n",
              "    </tr>\n",
              "    <tr>\n",
              "      <th>freq</th>\n",
              "      <td>672</td>\n",
              "      <td>6488</td>\n",
              "      <td>580572</td>\n",
              "      <td>8550</td>\n",
              "      <td>484127</td>\n",
              "      <td>76972</td>\n",
              "      <td>22465</td>\n",
              "      <td>199</td>\n",
              "    </tr>\n",
              "    <tr>\n",
              "      <th>first</th>\n",
              "      <td>NaN</td>\n",
              "      <td>NaN</td>\n",
              "      <td>NaN</td>\n",
              "      <td>NaN</td>\n",
              "      <td>NaN</td>\n",
              "      <td>NaN</td>\n",
              "      <td>1800-01-01 00:00:00</td>\n",
              "      <td>NaN</td>\n",
              "    </tr>\n",
              "    <tr>\n",
              "      <th>last</th>\n",
              "      <td>NaN</td>\n",
              "      <td>NaN</td>\n",
              "      <td>NaN</td>\n",
              "      <td>NaN</td>\n",
              "      <td>NaN</td>\n",
              "      <td>NaN</td>\n",
              "      <td>2020-10-29 00:00:00</td>\n",
              "      <td>NaN</td>\n",
              "    </tr>\n",
              "  </tbody>\n",
              "</table>\n",
              "</div>\n",
              "      <button class=\"colab-df-convert\" onclick=\"convertToInteractive('df-7aa5b6a6-d860-45e3-b1a4-68c8cd00273c')\"\n",
              "              title=\"Convert this dataframe to an interactive table.\"\n",
              "              style=\"display:none;\">\n",
              "        \n",
              "  <svg xmlns=\"http://www.w3.org/2000/svg\" height=\"24px\"viewBox=\"0 0 24 24\"\n",
              "       width=\"24px\">\n",
              "    <path d=\"M0 0h24v24H0V0z\" fill=\"none\"/>\n",
              "    <path d=\"M18.56 5.44l.94 2.06.94-2.06 2.06-.94-2.06-.94-.94-2.06-.94 2.06-2.06.94zm-11 1L8.5 8.5l.94-2.06 2.06-.94-2.06-.94L8.5 2.5l-.94 2.06-2.06.94zm10 10l.94 2.06.94-2.06 2.06-.94-2.06-.94-.94-2.06-.94 2.06-2.06.94z\"/><path d=\"M17.41 7.96l-1.37-1.37c-.4-.4-.92-.59-1.43-.59-.52 0-1.04.2-1.43.59L10.3 9.45l-7.72 7.72c-.78.78-.78 2.05 0 2.83L4 21.41c.39.39.9.59 1.41.59.51 0 1.02-.2 1.41-.59l7.78-7.78 2.81-2.81c.8-.78.8-2.07 0-2.86zM5.41 20L4 18.59l7.72-7.72 1.47 1.35L5.41 20z\"/>\n",
              "  </svg>\n",
              "      </button>\n",
              "      \n",
              "  <style>\n",
              "    .colab-df-container {\n",
              "      display:flex;\n",
              "      flex-wrap:wrap;\n",
              "      gap: 12px;\n",
              "    }\n",
              "\n",
              "    .colab-df-convert {\n",
              "      background-color: #E8F0FE;\n",
              "      border: none;\n",
              "      border-radius: 50%;\n",
              "      cursor: pointer;\n",
              "      display: none;\n",
              "      fill: #1967D2;\n",
              "      height: 32px;\n",
              "      padding: 0 0 0 0;\n",
              "      width: 32px;\n",
              "    }\n",
              "\n",
              "    .colab-df-convert:hover {\n",
              "      background-color: #E2EBFA;\n",
              "      box-shadow: 0px 1px 2px rgba(60, 64, 67, 0.3), 0px 1px 3px 1px rgba(60, 64, 67, 0.15);\n",
              "      fill: #174EA6;\n",
              "    }\n",
              "\n",
              "    [theme=dark] .colab-df-convert {\n",
              "      background-color: #3B4455;\n",
              "      fill: #D2E3FC;\n",
              "    }\n",
              "\n",
              "    [theme=dark] .colab-df-convert:hover {\n",
              "      background-color: #434B5C;\n",
              "      box-shadow: 0px 1px 3px 1px rgba(0, 0, 0, 0.15);\n",
              "      filter: drop-shadow(0px 1px 2px rgba(0, 0, 0, 0.3));\n",
              "      fill: #FFFFFF;\n",
              "    }\n",
              "  </style>\n",
              "\n",
              "      <script>\n",
              "        const buttonEl =\n",
              "          document.querySelector('#df-7aa5b6a6-d860-45e3-b1a4-68c8cd00273c button.colab-df-convert');\n",
              "        buttonEl.style.display =\n",
              "          google.colab.kernel.accessAllowed ? 'block' : 'none';\n",
              "\n",
              "        async function convertToInteractive(key) {\n",
              "          const element = document.querySelector('#df-7aa5b6a6-d860-45e3-b1a4-68c8cd00273c');\n",
              "          const dataTable =\n",
              "            await google.colab.kernel.invokeFunction('convertToInteractive',\n",
              "                                                     [key], {});\n",
              "          if (!dataTable) return;\n",
              "\n",
              "          const docLinkHtml = 'Like what you see? Visit the ' +\n",
              "            '<a target=\"_blank\" href=https://colab.research.google.com/notebooks/data_table.ipynb>data table notebook</a>'\n",
              "            + ' to learn more about interactive tables.';\n",
              "          element.innerHTML = '';\n",
              "          dataTable['output_type'] = 'display_data';\n",
              "          await google.colab.output.renderOutput(dataTable, element);\n",
              "          const docLink = document.createElement('div');\n",
              "          docLink.innerHTML = docLinkHtml;\n",
              "          element.appendChild(docLink);\n",
              "        }\n",
              "      </script>\n",
              "    </div>\n",
              "  </div>\n",
              "  "
            ],
            "text/plain": [
              "                     rotten_tomatoes_link  ...                        review_content\n",
              "count                              758709  ...                                758709\n",
              "unique                              17624  ...                                677125\n",
              "top     m/star_wars_the_rise_of_skywalker  ...  full review at Movies for the Masses\n",
              "freq                                  672  ...                                   199\n",
              "first                                 NaN  ...                                   NaN\n",
              "last                                  NaN  ...                                   NaN\n",
              "\n",
              "[6 rows x 8 columns]"
            ]
          },
          "metadata": {},
          "execution_count": 24
        }
      ]
    },
    {
      "cell_type": "code",
      "source": [
        "reviews_df['review_type'].unique()"
      ],
      "metadata": {
        "colab": {
          "base_uri": "https://localhost:8080/"
        },
        "id": "v17AXHknAHsL",
        "outputId": "dae4ff84-b45d-42e4-e99e-7ca70c794408"
      },
      "execution_count": null,
      "outputs": [
        {
          "output_type": "execute_result",
          "data": {
            "text/plain": [
              "array(['Fresh', 'Rotten'], dtype=object)"
            ]
          },
          "metadata": {},
          "execution_count": 25
        }
      ]
    },
    {
      "cell_type": "code",
      "source": [
        "streaming_df.head()"
      ],
      "metadata": {
        "colab": {
          "base_uri": "https://localhost:8080/",
          "height": 206
        },
        "id": "2cQLKboC_Y13",
        "outputId": "10a69f9a-8d40-4c05-e240-5c2fae25010e"
      },
      "execution_count": null,
      "outputs": [
        {
          "output_type": "execute_result",
          "data": {
            "text/html": [
              "\n",
              "  <div id=\"df-032b123f-26dd-4837-ab47-a2070e65c70b\">\n",
              "    <div class=\"colab-df-container\">\n",
              "      <div>\n",
              "<style scoped>\n",
              "    .dataframe tbody tr th:only-of-type {\n",
              "        vertical-align: middle;\n",
              "    }\n",
              "\n",
              "    .dataframe tbody tr th {\n",
              "        vertical-align: top;\n",
              "    }\n",
              "\n",
              "    .dataframe thead th {\n",
              "        text-align: right;\n",
              "    }\n",
              "</style>\n",
              "<table border=\"1\" class=\"dataframe\">\n",
              "  <thead>\n",
              "    <tr style=\"text-align: right;\">\n",
              "      <th></th>\n",
              "      <th>Unnamed: 0</th>\n",
              "      <th>ID</th>\n",
              "      <th>Title</th>\n",
              "      <th>Year</th>\n",
              "      <th>Age</th>\n",
              "      <th>Rotten Tomatoes</th>\n",
              "      <th>Netflix</th>\n",
              "      <th>Hulu</th>\n",
              "      <th>Prime Video</th>\n",
              "      <th>Disney+</th>\n",
              "      <th>Type</th>\n",
              "    </tr>\n",
              "  </thead>\n",
              "  <tbody>\n",
              "    <tr>\n",
              "      <th>0</th>\n",
              "      <td>0</td>\n",
              "      <td>1</td>\n",
              "      <td>The Irishman</td>\n",
              "      <td>2019</td>\n",
              "      <td>18+</td>\n",
              "      <td>98/100</td>\n",
              "      <td>1</td>\n",
              "      <td>0</td>\n",
              "      <td>0</td>\n",
              "      <td>0</td>\n",
              "      <td>0</td>\n",
              "    </tr>\n",
              "    <tr>\n",
              "      <th>1</th>\n",
              "      <td>1</td>\n",
              "      <td>2</td>\n",
              "      <td>Dangal</td>\n",
              "      <td>2016</td>\n",
              "      <td>7+</td>\n",
              "      <td>97/100</td>\n",
              "      <td>1</td>\n",
              "      <td>0</td>\n",
              "      <td>0</td>\n",
              "      <td>0</td>\n",
              "      <td>0</td>\n",
              "    </tr>\n",
              "    <tr>\n",
              "      <th>2</th>\n",
              "      <td>2</td>\n",
              "      <td>3</td>\n",
              "      <td>David Attenborough: A Life on Our Planet</td>\n",
              "      <td>2020</td>\n",
              "      <td>7+</td>\n",
              "      <td>95/100</td>\n",
              "      <td>1</td>\n",
              "      <td>0</td>\n",
              "      <td>0</td>\n",
              "      <td>0</td>\n",
              "      <td>0</td>\n",
              "    </tr>\n",
              "    <tr>\n",
              "      <th>3</th>\n",
              "      <td>3</td>\n",
              "      <td>4</td>\n",
              "      <td>Lagaan: Once Upon a Time in India</td>\n",
              "      <td>2001</td>\n",
              "      <td>7+</td>\n",
              "      <td>94/100</td>\n",
              "      <td>1</td>\n",
              "      <td>0</td>\n",
              "      <td>0</td>\n",
              "      <td>0</td>\n",
              "      <td>0</td>\n",
              "    </tr>\n",
              "    <tr>\n",
              "      <th>4</th>\n",
              "      <td>4</td>\n",
              "      <td>5</td>\n",
              "      <td>Roma</td>\n",
              "      <td>2018</td>\n",
              "      <td>18+</td>\n",
              "      <td>94/100</td>\n",
              "      <td>1</td>\n",
              "      <td>0</td>\n",
              "      <td>0</td>\n",
              "      <td>0</td>\n",
              "      <td>0</td>\n",
              "    </tr>\n",
              "  </tbody>\n",
              "</table>\n",
              "</div>\n",
              "      <button class=\"colab-df-convert\" onclick=\"convertToInteractive('df-032b123f-26dd-4837-ab47-a2070e65c70b')\"\n",
              "              title=\"Convert this dataframe to an interactive table.\"\n",
              "              style=\"display:none;\">\n",
              "        \n",
              "  <svg xmlns=\"http://www.w3.org/2000/svg\" height=\"24px\"viewBox=\"0 0 24 24\"\n",
              "       width=\"24px\">\n",
              "    <path d=\"M0 0h24v24H0V0z\" fill=\"none\"/>\n",
              "    <path d=\"M18.56 5.44l.94 2.06.94-2.06 2.06-.94-2.06-.94-.94-2.06-.94 2.06-2.06.94zm-11 1L8.5 8.5l.94-2.06 2.06-.94-2.06-.94L8.5 2.5l-.94 2.06-2.06.94zm10 10l.94 2.06.94-2.06 2.06-.94-2.06-.94-.94-2.06-.94 2.06-2.06.94z\"/><path d=\"M17.41 7.96l-1.37-1.37c-.4-.4-.92-.59-1.43-.59-.52 0-1.04.2-1.43.59L10.3 9.45l-7.72 7.72c-.78.78-.78 2.05 0 2.83L4 21.41c.39.39.9.59 1.41.59.51 0 1.02-.2 1.41-.59l7.78-7.78 2.81-2.81c.8-.78.8-2.07 0-2.86zM5.41 20L4 18.59l7.72-7.72 1.47 1.35L5.41 20z\"/>\n",
              "  </svg>\n",
              "      </button>\n",
              "      \n",
              "  <style>\n",
              "    .colab-df-container {\n",
              "      display:flex;\n",
              "      flex-wrap:wrap;\n",
              "      gap: 12px;\n",
              "    }\n",
              "\n",
              "    .colab-df-convert {\n",
              "      background-color: #E8F0FE;\n",
              "      border: none;\n",
              "      border-radius: 50%;\n",
              "      cursor: pointer;\n",
              "      display: none;\n",
              "      fill: #1967D2;\n",
              "      height: 32px;\n",
              "      padding: 0 0 0 0;\n",
              "      width: 32px;\n",
              "    }\n",
              "\n",
              "    .colab-df-convert:hover {\n",
              "      background-color: #E2EBFA;\n",
              "      box-shadow: 0px 1px 2px rgba(60, 64, 67, 0.3), 0px 1px 3px 1px rgba(60, 64, 67, 0.15);\n",
              "      fill: #174EA6;\n",
              "    }\n",
              "\n",
              "    [theme=dark] .colab-df-convert {\n",
              "      background-color: #3B4455;\n",
              "      fill: #D2E3FC;\n",
              "    }\n",
              "\n",
              "    [theme=dark] .colab-df-convert:hover {\n",
              "      background-color: #434B5C;\n",
              "      box-shadow: 0px 1px 3px 1px rgba(0, 0, 0, 0.15);\n",
              "      filter: drop-shadow(0px 1px 2px rgba(0, 0, 0, 0.3));\n",
              "      fill: #FFFFFF;\n",
              "    }\n",
              "  </style>\n",
              "\n",
              "      <script>\n",
              "        const buttonEl =\n",
              "          document.querySelector('#df-032b123f-26dd-4837-ab47-a2070e65c70b button.colab-df-convert');\n",
              "        buttonEl.style.display =\n",
              "          google.colab.kernel.accessAllowed ? 'block' : 'none';\n",
              "\n",
              "        async function convertToInteractive(key) {\n",
              "          const element = document.querySelector('#df-032b123f-26dd-4837-ab47-a2070e65c70b');\n",
              "          const dataTable =\n",
              "            await google.colab.kernel.invokeFunction('convertToInteractive',\n",
              "                                                     [key], {});\n",
              "          if (!dataTable) return;\n",
              "\n",
              "          const docLinkHtml = 'Like what you see? Visit the ' +\n",
              "            '<a target=\"_blank\" href=https://colab.research.google.com/notebooks/data_table.ipynb>data table notebook</a>'\n",
              "            + ' to learn more about interactive tables.';\n",
              "          element.innerHTML = '';\n",
              "          dataTable['output_type'] = 'display_data';\n",
              "          await google.colab.output.renderOutput(dataTable, element);\n",
              "          const docLink = document.createElement('div');\n",
              "          docLink.innerHTML = docLinkHtml;\n",
              "          element.appendChild(docLink);\n",
              "        }\n",
              "      </script>\n",
              "    </div>\n",
              "  </div>\n",
              "  "
            ],
            "text/plain": [
              "   Unnamed: 0  ID  ... Disney+  Type\n",
              "0           0   1  ...       0     0\n",
              "1           1   2  ...       0     0\n",
              "2           2   3  ...       0     0\n",
              "3           3   4  ...       0     0\n",
              "4           4   5  ...       0     0\n",
              "\n",
              "[5 rows x 11 columns]"
            ]
          },
          "metadata": {},
          "execution_count": 26
        }
      ]
    },
    {
      "cell_type": "code",
      "source": [
        "streaming_df.describe()"
      ],
      "metadata": {
        "colab": {
          "base_uri": "https://localhost:8080/",
          "height": 300
        },
        "id": "2Tissbht_w6y",
        "outputId": "c4f4099b-6550-4226-e294-646daecd66f3"
      },
      "execution_count": null,
      "outputs": [
        {
          "output_type": "execute_result",
          "data": {
            "text/html": [
              "\n",
              "  <div id=\"df-e07e51ad-58b7-4a7a-b479-d49e7f009c51\">\n",
              "    <div class=\"colab-df-container\">\n",
              "      <div>\n",
              "<style scoped>\n",
              "    .dataframe tbody tr th:only-of-type {\n",
              "        vertical-align: middle;\n",
              "    }\n",
              "\n",
              "    .dataframe tbody tr th {\n",
              "        vertical-align: top;\n",
              "    }\n",
              "\n",
              "    .dataframe thead th {\n",
              "        text-align: right;\n",
              "    }\n",
              "</style>\n",
              "<table border=\"1\" class=\"dataframe\">\n",
              "  <thead>\n",
              "    <tr style=\"text-align: right;\">\n",
              "      <th></th>\n",
              "      <th>Unnamed: 0</th>\n",
              "      <th>ID</th>\n",
              "      <th>Year</th>\n",
              "      <th>Netflix</th>\n",
              "      <th>Hulu</th>\n",
              "      <th>Prime Video</th>\n",
              "      <th>Disney+</th>\n",
              "      <th>Type</th>\n",
              "    </tr>\n",
              "  </thead>\n",
              "  <tbody>\n",
              "    <tr>\n",
              "      <th>count</th>\n",
              "      <td>9515.000000</td>\n",
              "      <td>9515.000000</td>\n",
              "      <td>9515.000000</td>\n",
              "      <td>9515.000000</td>\n",
              "      <td>9515.000000</td>\n",
              "      <td>9515.000000</td>\n",
              "      <td>9515.000000</td>\n",
              "      <td>9515.0</td>\n",
              "    </tr>\n",
              "    <tr>\n",
              "      <th>mean</th>\n",
              "      <td>4757.000000</td>\n",
              "      <td>4758.000000</td>\n",
              "      <td>2007.422386</td>\n",
              "      <td>0.388334</td>\n",
              "      <td>0.110037</td>\n",
              "      <td>0.432265</td>\n",
              "      <td>0.096900</td>\n",
              "      <td>0.0</td>\n",
              "    </tr>\n",
              "    <tr>\n",
              "      <th>std</th>\n",
              "      <td>2746.888239</td>\n",
              "      <td>2746.888239</td>\n",
              "      <td>19.130367</td>\n",
              "      <td>0.487397</td>\n",
              "      <td>0.312952</td>\n",
              "      <td>0.495417</td>\n",
              "      <td>0.295837</td>\n",
              "      <td>0.0</td>\n",
              "    </tr>\n",
              "    <tr>\n",
              "      <th>min</th>\n",
              "      <td>0.000000</td>\n",
              "      <td>1.000000</td>\n",
              "      <td>1914.000000</td>\n",
              "      <td>0.000000</td>\n",
              "      <td>0.000000</td>\n",
              "      <td>0.000000</td>\n",
              "      <td>0.000000</td>\n",
              "      <td>0.0</td>\n",
              "    </tr>\n",
              "    <tr>\n",
              "      <th>25%</th>\n",
              "      <td>2378.500000</td>\n",
              "      <td>2379.500000</td>\n",
              "      <td>2006.000000</td>\n",
              "      <td>0.000000</td>\n",
              "      <td>0.000000</td>\n",
              "      <td>0.000000</td>\n",
              "      <td>0.000000</td>\n",
              "      <td>0.0</td>\n",
              "    </tr>\n",
              "    <tr>\n",
              "      <th>50%</th>\n",
              "      <td>4757.000000</td>\n",
              "      <td>4758.000000</td>\n",
              "      <td>2015.000000</td>\n",
              "      <td>0.000000</td>\n",
              "      <td>0.000000</td>\n",
              "      <td>0.000000</td>\n",
              "      <td>0.000000</td>\n",
              "      <td>0.0</td>\n",
              "    </tr>\n",
              "    <tr>\n",
              "      <th>75%</th>\n",
              "      <td>7135.500000</td>\n",
              "      <td>7136.500000</td>\n",
              "      <td>2018.000000</td>\n",
              "      <td>1.000000</td>\n",
              "      <td>0.000000</td>\n",
              "      <td>1.000000</td>\n",
              "      <td>0.000000</td>\n",
              "      <td>0.0</td>\n",
              "    </tr>\n",
              "    <tr>\n",
              "      <th>max</th>\n",
              "      <td>9514.000000</td>\n",
              "      <td>9515.000000</td>\n",
              "      <td>2021.000000</td>\n",
              "      <td>1.000000</td>\n",
              "      <td>1.000000</td>\n",
              "      <td>1.000000</td>\n",
              "      <td>1.000000</td>\n",
              "      <td>0.0</td>\n",
              "    </tr>\n",
              "  </tbody>\n",
              "</table>\n",
              "</div>\n",
              "      <button class=\"colab-df-convert\" onclick=\"convertToInteractive('df-e07e51ad-58b7-4a7a-b479-d49e7f009c51')\"\n",
              "              title=\"Convert this dataframe to an interactive table.\"\n",
              "              style=\"display:none;\">\n",
              "        \n",
              "  <svg xmlns=\"http://www.w3.org/2000/svg\" height=\"24px\"viewBox=\"0 0 24 24\"\n",
              "       width=\"24px\">\n",
              "    <path d=\"M0 0h24v24H0V0z\" fill=\"none\"/>\n",
              "    <path d=\"M18.56 5.44l.94 2.06.94-2.06 2.06-.94-2.06-.94-.94-2.06-.94 2.06-2.06.94zm-11 1L8.5 8.5l.94-2.06 2.06-.94-2.06-.94L8.5 2.5l-.94 2.06-2.06.94zm10 10l.94 2.06.94-2.06 2.06-.94-2.06-.94-.94-2.06-.94 2.06-2.06.94z\"/><path d=\"M17.41 7.96l-1.37-1.37c-.4-.4-.92-.59-1.43-.59-.52 0-1.04.2-1.43.59L10.3 9.45l-7.72 7.72c-.78.78-.78 2.05 0 2.83L4 21.41c.39.39.9.59 1.41.59.51 0 1.02-.2 1.41-.59l7.78-7.78 2.81-2.81c.8-.78.8-2.07 0-2.86zM5.41 20L4 18.59l7.72-7.72 1.47 1.35L5.41 20z\"/>\n",
              "  </svg>\n",
              "      </button>\n",
              "      \n",
              "  <style>\n",
              "    .colab-df-container {\n",
              "      display:flex;\n",
              "      flex-wrap:wrap;\n",
              "      gap: 12px;\n",
              "    }\n",
              "\n",
              "    .colab-df-convert {\n",
              "      background-color: #E8F0FE;\n",
              "      border: none;\n",
              "      border-radius: 50%;\n",
              "      cursor: pointer;\n",
              "      display: none;\n",
              "      fill: #1967D2;\n",
              "      height: 32px;\n",
              "      padding: 0 0 0 0;\n",
              "      width: 32px;\n",
              "    }\n",
              "\n",
              "    .colab-df-convert:hover {\n",
              "      background-color: #E2EBFA;\n",
              "      box-shadow: 0px 1px 2px rgba(60, 64, 67, 0.3), 0px 1px 3px 1px rgba(60, 64, 67, 0.15);\n",
              "      fill: #174EA6;\n",
              "    }\n",
              "\n",
              "    [theme=dark] .colab-df-convert {\n",
              "      background-color: #3B4455;\n",
              "      fill: #D2E3FC;\n",
              "    }\n",
              "\n",
              "    [theme=dark] .colab-df-convert:hover {\n",
              "      background-color: #434B5C;\n",
              "      box-shadow: 0px 1px 3px 1px rgba(0, 0, 0, 0.15);\n",
              "      filter: drop-shadow(0px 1px 2px rgba(0, 0, 0, 0.3));\n",
              "      fill: #FFFFFF;\n",
              "    }\n",
              "  </style>\n",
              "\n",
              "      <script>\n",
              "        const buttonEl =\n",
              "          document.querySelector('#df-e07e51ad-58b7-4a7a-b479-d49e7f009c51 button.colab-df-convert');\n",
              "        buttonEl.style.display =\n",
              "          google.colab.kernel.accessAllowed ? 'block' : 'none';\n",
              "\n",
              "        async function convertToInteractive(key) {\n",
              "          const element = document.querySelector('#df-e07e51ad-58b7-4a7a-b479-d49e7f009c51');\n",
              "          const dataTable =\n",
              "            await google.colab.kernel.invokeFunction('convertToInteractive',\n",
              "                                                     [key], {});\n",
              "          if (!dataTable) return;\n",
              "\n",
              "          const docLinkHtml = 'Like what you see? Visit the ' +\n",
              "            '<a target=\"_blank\" href=https://colab.research.google.com/notebooks/data_table.ipynb>data table notebook</a>'\n",
              "            + ' to learn more about interactive tables.';\n",
              "          element.innerHTML = '';\n",
              "          dataTable['output_type'] = 'display_data';\n",
              "          await google.colab.output.renderOutput(dataTable, element);\n",
              "          const docLink = document.createElement('div');\n",
              "          docLink.innerHTML = docLinkHtml;\n",
              "          element.appendChild(docLink);\n",
              "        }\n",
              "      </script>\n",
              "    </div>\n",
              "  </div>\n",
              "  "
            ],
            "text/plain": [
              "        Unnamed: 0           ID         Year  ...  Prime Video      Disney+    Type\n",
              "count  9515.000000  9515.000000  9515.000000  ...  9515.000000  9515.000000  9515.0\n",
              "mean   4757.000000  4758.000000  2007.422386  ...     0.432265     0.096900     0.0\n",
              "std    2746.888239  2746.888239    19.130367  ...     0.495417     0.295837     0.0\n",
              "min       0.000000     1.000000  1914.000000  ...     0.000000     0.000000     0.0\n",
              "25%    2378.500000  2379.500000  2006.000000  ...     0.000000     0.000000     0.0\n",
              "50%    4757.000000  4758.000000  2015.000000  ...     0.000000     0.000000     0.0\n",
              "75%    7135.500000  7136.500000  2018.000000  ...     1.000000     0.000000     0.0\n",
              "max    9514.000000  9515.000000  2021.000000  ...     1.000000     1.000000     0.0\n",
              "\n",
              "[8 rows x 8 columns]"
            ]
          },
          "metadata": {},
          "execution_count": 27
        }
      ]
    },
    {
      "cell_type": "code",
      "source": [
        "streaming_df['Age'].unique()"
      ],
      "metadata": {
        "colab": {
          "base_uri": "https://localhost:8080/"
        },
        "id": "5pQ03EVT_4g1",
        "outputId": "6c3547c1-b188-4244-a060-5ab40b15866e"
      },
      "execution_count": null,
      "outputs": [
        {
          "output_type": "execute_result",
          "data": {
            "text/plain": [
              "array(['18+', '7+', '13+', '16+', 'all', nan], dtype=object)"
            ]
          },
          "metadata": {},
          "execution_count": 28
        }
      ]
    },
    {
      "cell_type": "markdown",
      "metadata": {
        "id": "CHFdRtQKLbti"
      },
      "source": [
        "## Part 2: Exploring the Data with PandasSQL (and Pandas) [75 points total]\n",
        "\n",
        "Now that you are familiar (or still unfamiliar) with the dataset, we will now introduce you to SQL, or more specifically **pandasql**: a package created to allow users to query pandas DataFrames with SQL statements.\n",
        "\n",
        "The typical flow to use pandasql (shortened to **ps**) is as follows:\n",
        "1. Write a SQL query in the form of a string (Tip: use triple quotes \"\"\"x\"\"\" to write multi-line strings)\n",
        "2. Run the query using **ps.sqldf(your_query, locals())**\n",
        "\n",
        "Pandasql is convenient in that it allows you to reference the dataframes that are currently defined in your notebook, so you will be able to fully utilize the dataframes `movies_df`, `reviews_df` and `streaming_df` that you have created above!\n",
        "\n",
        "Given that it is a brand new language, we wanted to give you a chance to directly compare the similarities/differences of the pandas that you already know and the SQL that you are about to learn. Thus, for each of the simpler queries, we ask that you **look into the question twice: once with pandas and once with pandasql**. \n",
        "\n",
        "Each answer will thus require both a `pd_` and `sql_` prefixed-dataframe that you will submit seperately to the autograder. **We will be reviewing your code to make sure you wrote the code in the corresponding languages.**\n"
      ]
    },
    {
      "cell_type": "markdown",
      "source": [
        "###2.1 Movie Recommendations"
      ],
      "metadata": {
        "id": "8gIjaNk9BnJ-"
      }
    },
    {
      "cell_type": "markdown",
      "metadata": {
        "id": "geYyH57csade"
      },
      "source": [
        "#### 2.1.1 What movies have good reviews from critics and audience?\n",
        "\n",
        "`movies_df` contains all sorts of movies. We all love good movies, so let's try to separate the good from the bad.\n",
        "\n",
        "Rotten Tomatoes offers two major aggregate ratings: \n",
        "- one by critics, in the column `tomatometer_status`, and has three possible values: `Certified-Fresh`,`Fresh`, and `Rotten`.\n",
        "- the other by audience members, in the column `audience_status`, and has two possible values: `Upright` (good) and `Spilled` (bad).\n",
        "\n",
        "**TODO:** Using **pandas**, filter out movies from `movies_df` that are `Certified-Fresh` or `Fresh` into a new dataframe named `good_critics_df`, which should have the following schema:\n",
        "\n",
        ">rotten_tomatoes_link | movie_title\n",
        ">--- | ---\n",
        "\n"
      ]
    },
    {
      "cell_type": "code",
      "metadata": {
        "id": "8aZCy0IZR7v2"
      },
      "source": [
        "# TODO: Use pandas to obtain good_critics_df\n",
        "good_critics_df = movies_df.copy()\n",
        "good_critics_df = good_critics_df[(good_critics_df['tomatometer_status'] == 'Certified-Fresh') | (good_critics_df['tomatometer_status'] == 'Fresh')]\n",
        "good_critics_df = good_critics_df[['rotten_tomatoes_link','movie_title']]"
      ],
      "execution_count": null,
      "outputs": []
    },
    {
      "cell_type": "code",
      "metadata": {
        "id": "gmRuF4phW_CT",
        "colab": {
          "base_uri": "https://localhost:8080/"
        },
        "outputId": "60a8eff9-485d-49f6-8abf-294b9d7030d2"
      },
      "source": [
        "# 2 points\n",
        "grader.grade(test_case_id = 'test_good_critics_df', answer = good_critics_df)"
      ],
      "execution_count": null,
      "outputs": [
        {
          "output_type": "stream",
          "name": "stdout",
          "text": [
            "Correct! You earned 2/2 points. You are a star!\n",
            "\n",
            "Your submission has been successfully recorded in the gradebook.\n"
          ]
        }
      ]
    },
    {
      "cell_type": "markdown",
      "source": [
        "then, let's consider the ratings by movie-goers.\n",
        "\n",
        "**TODO:** Using **pandasql**, filter out movies from `movies_df` that are rated as `Upright` by the audience, into a new dataframe named `good_audience_df`, which should have the following schema:\n",
        "\n",
        ">rotten_tomatoes_link | movie_title\n",
        ">--- | ---"
      ],
      "metadata": {
        "id": "Hj58V6drh88p"
      }
    },
    {
      "cell_type": "code",
      "metadata": {
        "id": "MsjMINr3X1zk"
      },
      "source": [
        "# TODO: Use pandasql to obtain good_audience_df\n",
        "good_audience_query = \"\"\"select rotten_tomatoes_link, movie_title\n",
        "from movies_df\n",
        "where audience_status = 'Upright'\n",
        "\n",
        "\"\"\"\n",
        "\n",
        "good_audience_df = ps.sqldf(good_audience_query, locals())"
      ],
      "execution_count": null,
      "outputs": []
    },
    {
      "cell_type": "code",
      "metadata": {
        "id": "XKddWLnIIF7v",
        "colab": {
          "base_uri": "https://localhost:8080/"
        },
        "outputId": "1c5f625f-967e-4b94-f29d-eaae534297a7"
      },
      "source": [
        "# 2 points\n",
        "grader.grade(test_case_id = 'test_good_audience_df', answer = good_audience_df)"
      ],
      "execution_count": null,
      "outputs": [
        {
          "output_type": "stream",
          "name": "stdout",
          "text": [
            "Correct! You earned 2/2 points. You are a star!\n",
            "\n",
            "Your submission has been successfully recorded in the gradebook.\n"
          ]
        }
      ]
    },
    {
      "cell_type": "markdown",
      "metadata": {
        "id": "zHzBYzlDYoLx"
      },
      "source": [
        "Now, we can simply join these dataframes to get a table of all the best movies and binge watch one every night! But wait! Sometimes, the opinions of critics and audience may differ, so we need to make sure that the good movies we watch are ones that are viewed positively by both critics and audiences. \n",
        "\n",
        "**TODO**: Using **pandas and pandasql**, filter out movies with **mixed reviews** (ie. audience and critic opinions differ) to a new dataframe `pd/sql_mixed_movies_df`, ordered by lexicographic order of `movie_title`.\n",
        "\n",
        "For this question, you should **NOT** use `movies_df` or `exploded_movies_df`.\n",
        "\n",
        "Some tips:\n",
        "* For pandas, explore the `indicator` parameter within the `merge()` function.\n",
        "* For pandasql, considering using `EXCEPT`."
      ]
    },
    {
      "cell_type": "code",
      "metadata": {
        "id": "m2FvwI2CaA0X"
      },
      "source": [
        "# TODO: Filter out movies with mixed reviews using pandas\n",
        "pd_mixed_movies_df = good_critics_df.merge(good_audience_df.rename(columns={'rotten_tomatoes_link':'rotten_tomatoes_link_r'}),left_on='rotten_tomatoes_link',right_on='rotten_tomatoes_link_r',how='outer',indicator=True)\n",
        "pd_mixed_movies_df = pd_mixed_movies_df[(pd_mixed_movies_df['_merge'] == 'left_only') | (pd_mixed_movies_df['_merge'] == 'right_only')]\n",
        "pd_mixed_movies_df['rotten_tomatoes_link'] = pd_mixed_movies_df['rotten_tomatoes_link'].fillna('') + pd_mixed_movies_df['rotten_tomatoes_link_r'].fillna('')\n",
        "pd_mixed_movies_df['movie_title_x'] = pd_mixed_movies_df['movie_title_x'].fillna('') + pd_mixed_movies_df['movie_title_y'].fillna('')\n",
        "pd_mixed_movies_df = pd_mixed_movies_df.drop(columns=['rotten_tomatoes_link_r','movie_title_y','_merge'])\n",
        "pd_mixed_movies_df = pd_mixed_movies_df.rename(columns={'movie_title_x':'movie_title'})\n",
        "pd_mixed_movies_df = pd_mixed_movies_df.sort_values(by='movie_title')"
      ],
      "execution_count": null,
      "outputs": []
    },
    {
      "cell_type": "code",
      "source": [
        "# 4 points\n",
        "grader.grade(test_case_id = 'test_pd_mixed_movies', answer = pd_mixed_movies_df)"
      ],
      "metadata": {
        "id": "_ZAJ1otoIktJ",
        "colab": {
          "base_uri": "https://localhost:8080/"
        },
        "outputId": "90144160-07f7-4226-ec53-4940909c7303"
      },
      "execution_count": null,
      "outputs": [
        {
          "output_type": "stream",
          "name": "stdout",
          "text": [
            "Correct! You earned 4/4 points. You are a star!\n",
            "\n",
            "Your submission has been successfully recorded in the gradebook.\n"
          ]
        }
      ]
    },
    {
      "cell_type": "code",
      "metadata": {
        "id": "08AFCWPEYlKW"
      },
      "source": [
        "# TODO: Filter out movies with mixed reviews from good_critics_df and good_audience_df\n",
        "mixed_query = \"\"\"select critics.rotten_tomatoes_link, critics.movie_title as movie_title\n",
        "from good_critics_df critics left join good_audience_df audience on critics.rotten_tomatoes_link =audience.rotten_tomatoes_link\n",
        "where audience.rotten_tomatoes_link is null\n",
        "union\n",
        "select audience.rotten_tomatoes_link, audience.movie_title as movie_title\n",
        "from good_audience_df audience left join good_critics_df critics on critics.rotten_tomatoes_link =audience.rotten_tomatoes_link\n",
        "where critics.rotten_tomatoes_link is null\n",
        "order by movie_title\n",
        "\"\"\"\n",
        "\n",
        "sql_mixed_movies_df = ps.sqldf(mixed_query,locals())"
      ],
      "execution_count": null,
      "outputs": []
    },
    {
      "cell_type": "code",
      "source": [
        "# 4 points\n",
        "grader.grade(test_case_id = 'test_sql_mixed_movies', answer = (mixed_query,sql_mixed_movies_df))"
      ],
      "metadata": {
        "id": "7CDAyh7F1XiJ",
        "colab": {
          "base_uri": "https://localhost:8080/"
        },
        "outputId": "7283ab86-240f-4372-983a-021f4950476b"
      },
      "execution_count": null,
      "outputs": [
        {
          "output_type": "stream",
          "name": "stdout",
          "text": [
            "Correct! You earned 4/4 points. You are a star!\n",
            "\n",
            "Your submission has been successfully recorded in the gradebook.\n"
          ]
        }
      ]
    },
    {
      "cell_type": "markdown",
      "source": [
        "**TODO:**\n",
        "\n",
        "Using **pandas/pandasql** and `pd/sql_mixed_movies_df`, find the top 10 mixed movies with the **largest absolute difference** in critic review score and audience review score. You should calculate this as the absolute difference between `tomatometer_rating` and `audience_rating`, and store this in a column named `diff`. If multiple movies have the same `diff` value, order their rows in lexicographic order.\n",
        "\n",
        "Format the output as a dataframe called `pd/sql_top_10_mixed_movies_df` that has the following schema:\n",
        "\n",
        ">movie_title | diff\n",
        ">--- | ---\n"
      ],
      "metadata": {
        "id": "8xcASc2QFZaV"
      }
    },
    {
      "cell_type": "code",
      "source": [
        "# TODO: pandas\n",
        "pd_top_10_mixed_movies_df = pd_mixed_movies_df.merge(movies_df.rename(columns={'rotten_tomatoes_link':'rotten_tomatoes_link_r'}),left_on='rotten_tomatoes_link',right_on='rotten_tomatoes_link_r',how='left')\n",
        "pd_top_10_mixed_movies_df = pd_top_10_mixed_movies_df[['movie_title_x','tomatometer_rating','audience_rating']]\n",
        "pd_top_10_mixed_movies_df['diff'] = abs(pd_top_10_mixed_movies_df['tomatometer_rating']-pd_top_10_mixed_movies_df['audience_rating'])\n",
        "pd_top_10_mixed_movies_df = pd_top_10_mixed_movies_df[['movie_title_x','diff']].rename(columns={'movie_title_x':'movie_title'})\n",
        "pd_top_10_mixed_movies_df = pd_top_10_mixed_movies_df.sort_values(by=['diff','movie_title'],ascending=(False,True))\n",
        "pd_top_10_mixed_movies_df = pd_top_10_mixed_movies_df.head(10)"
      ],
      "metadata": {
        "id": "bH8hYj3iHGxz"
      },
      "execution_count": null,
      "outputs": []
    },
    {
      "cell_type": "code",
      "source": [
        "#TODO: pandasql\n",
        "top_10_mixed_query = \"\"\"select mix.movie_title as movie_title, abs(tomatometer_rating-audience_rating) as diff\n",
        "from pd_mixed_movies_df mix left join movies_df md on mix.rotten_tomatoes_link = md.rotten_tomatoes_link\n",
        "order by diff DESC, movie_title ASC\n",
        "limit 10\n",
        "\"\"\"\n",
        "\n",
        "sql_top_10_mixed_movies_df = ps.sqldf(top_10_mixed_query,locals())"
      ],
      "metadata": {
        "id": "5fuKqn8YLnOD"
      },
      "execution_count": null,
      "outputs": []
    },
    {
      "cell_type": "code",
      "source": [
        "# 6 points\n",
        "grader.grade(test_case_id = 'test_top_10_mixed', answer = (top_10_mixed_query,pd_top_10_mixed_movies_df,sql_top_10_mixed_movies_df))"
      ],
      "metadata": {
        "id": "IR5WxqBK70Q3",
        "colab": {
          "base_uri": "https://localhost:8080/"
        },
        "outputId": "1bc2d1a3-1f45-4d7c-90c5-7f1ccedc5bb9"
      },
      "execution_count": null,
      "outputs": [
        {
          "output_type": "stream",
          "name": "stdout",
          "text": [
            "Correct! You earned 6/6 points. You are a star!\n",
            "\n",
            "Your submission has been successfully recorded in the gradebook.\n"
          ]
        }
      ]
    },
    {
      "cell_type": "markdown",
      "metadata": {
        "id": "ooVqjTGm9eCA"
      },
      "source": [
        "#### 2.1.2 What movies can we recommend to Professor Davidson?\n",
        "\n",
        "Professor Davidson wants to take a break from teaching CIS 545. She is considering watching a movie on her Netflix account, and is gathering movie recommendations from you.\n",
        "\n",
        "Because her favourite holiday is halloween, Professor Davidson is looking to watch a horror movie. But first, she wants to answer a long-standing question in her mind: are there more horror movies during October? \n",
        "\n",
        "**TODO**: Using **pandas and pandasql**,\n",
        "- add a column `month` to movies_df that contains the month of the movie's original date of release.\n",
        "- Find the number of movies classified as `Horror`, grouped by month. Store this number in a column `num_movies` in descending order, and store the results in `pd/sql_horror_df` which should have the following format:\n",
        "\n",
        ">month | num_movies\n",
        ">--- | ---\n"
      ]
    },
    {
      "cell_type": "code",
      "metadata": {
        "id": "djfer4T0uFa4"
      },
      "source": [
        "# TODO: pandas version\n",
        "movies_df['month'] = movies_df['original_release_date'].apply(lambda x: x.month)\n",
        "pd_horror_df = pd.DataFrame({'month': range(1,13),'num_movies': movies_df[movies_df['genres'].apply(lambda x: 'Horror' in x)].groupby(by='month')['genres'].count().array}).sort_values(by=['num_movies'],ascending=False)"
      ],
      "execution_count": null,
      "outputs": []
    },
    {
      "cell_type": "code",
      "metadata": {
        "id": "GRewUlHAvGnR"
      },
      "source": [
        "# TODO: pandasql version\n",
        "horror_query = \"\"\"select month, count(genres) as num_movies\n",
        "from movies_df\n",
        "where genres like '%Horror%'\n",
        "group by month\n",
        "order by num_movies DESC\n",
        "\n",
        "\"\"\"\n",
        "\n",
        "sql_horror_df = ps.sqldf(horror_query,locals())"
      ],
      "execution_count": null,
      "outputs": []
    },
    {
      "cell_type": "code",
      "metadata": {
        "id": "EdqFmCL6xBPv",
        "colab": {
          "base_uri": "https://localhost:8080/"
        },
        "outputId": "0cb3941e-0987-4f75-8418-2979cf97a347"
      },
      "source": [
        "# 4 points\n",
        "grader.grade(test_case_id = 'test_horror_month', answer = (horror_query, pd_horror_df, sql_horror_df))"
      ],
      "execution_count": null,
      "outputs": [
        {
          "output_type": "stream",
          "name": "stdout",
          "text": [
            "Correct! You earned 4/4 points. You are a star!\n",
            "\n",
            "Your submission has been successfully recorded in the gradebook.\n"
          ]
        }
      ]
    },
    {
      "cell_type": "markdown",
      "metadata": {
        "id": "uW4VQc6BgD-6"
      },
      "source": [
        "It seems like October is not the most popular month in which horror movies are released. \n",
        "\n",
        "**TODO:**\n",
        "Using **pandas and pandasql**, find the movies classified as `Horror` that were originally released in **January**. Store the results in `pd/sql_jan_df` which should have the following format, sorted in descending order of `audience_count`:\n",
        "\n",
        ">rotten_tomatoes_link | movie_title | audience_count\n",
        ">--- | --- | ---"
      ]
    },
    {
      "cell_type": "code",
      "metadata": {
        "id": "JULj_WXFPIuQ"
      },
      "source": [
        "# TODO: pandas version\n",
        "pd_jan_df = movies_df[(movies_df['genres'].apply(lambda x: 'Horror' in x)) & (movies_df['month']==1)][['rotten_tomatoes_link','movie_title','audience_count']].sort_values(by=['audience_count'],ascending=False)"
      ],
      "execution_count": null,
      "outputs": []
    },
    {
      "cell_type": "code",
      "metadata": {
        "id": "_EMJdmivPIuR"
      },
      "source": [
        "# TODO: pandasql version\n",
        "jan_query = \"\"\"select rotten_tomatoes_link, movie_title, audience_count\n",
        "from movies_df\n",
        "where genres like '%Horror%' and month = '1'\n",
        "order by audience_count DESC\n",
        "\n",
        "\"\"\"\n",
        "\n",
        "sql_jan_df = ps.sqldf(jan_query,locals())"
      ],
      "execution_count": null,
      "outputs": []
    },
    {
      "cell_type": "code",
      "metadata": {
        "id": "JdUsAosuSq1Z",
        "colab": {
          "base_uri": "https://localhost:8080/"
        },
        "outputId": "22348944-9602-407d-a285-86ecbf29050d"
      },
      "source": [
        "# 4 points\n",
        "grader.grade(test_case_id = 'test_horror_jan', answer = (jan_query, pd_jan_df, sql_jan_df))"
      ],
      "execution_count": null,
      "outputs": [
        {
          "output_type": "stream",
          "name": "stdout",
          "text": [
            "Correct! You earned 4/4 points. You are a star!\n",
            "\n",
            "Your submission has been successfully recorded in the gradebook.\n"
          ]
        }
      ]
    },
    {
      "cell_type": "markdown",
      "metadata": {
        "id": "KqlpHrijkIEY"
      },
      "source": [
        "With all the information about these movies, we are ready to help Professor Davidson find her dream movie. In particular, she wants a movie that: \n",
        "- is a horror movie\n",
        "- was originally released in January \n",
        "- has been watched by at least 50000 audience members, with an overall `audience_rating` of `Upright`.  \n",
        "\n",
        "**TODO**:\n",
        "* Using the information provided above, and using **pandasql**, find the top 10 movies that fit her criteria, sorted by descending order of `audience_count`. Store this in a dataframe called `movie_recs_df`, that has the following schema:\n",
        "\n",
        ">rotten_tomatoes_link | movie_title | audience_count\n",
        ">--- | --- | ---\n",
        "\n",
        "**Hint**: you may find it helpful to leverage `good_audience_df` and `pd_jan_df`."
      ]
    },
    {
      "cell_type": "code",
      "metadata": {
        "id": "UHqwEGTCkDU1"
      },
      "source": [
        "# TODO: use pandasql to find top 10 movies that fit criteria\n",
        "recs_query = \"\"\"select jan.rotten_tomatoes_link, jan.movie_title, audience_count\n",
        "from pd_jan_df jan inner join good_audience_df good on jan.rotten_tomatoes_link = good.rotten_tomatoes_link\n",
        "where audience_count > '50000'\n",
        "order by audience_count DESC\n",
        "limit 10\n",
        "\"\"\"\n",
        "\n",
        "movie_recs_df = ps.sqldf(recs_query,locals())"
      ],
      "execution_count": null,
      "outputs": []
    },
    {
      "cell_type": "code",
      "metadata": {
        "id": "c1wy0ftelRit",
        "colab": {
          "base_uri": "https://localhost:8080/"
        },
        "outputId": "e9e4ce98-c626-4c79-8c2a-82eebd68a881"
      },
      "source": [
        "# 6 points\n",
        "grader.grade(test_case_id = 'test_recs', answer = (recs_query, movie_recs_df))"
      ],
      "execution_count": null,
      "outputs": [
        {
          "output_type": "stream",
          "name": "stdout",
          "text": [
            "Correct! You earned 6/6 points. You are a star!\n",
            "\n",
            "Your submission has been successfully recorded in the gradebook.\n"
          ]
        }
      ]
    },
    {
      "cell_type": "markdown",
      "source": [
        "### 2.2 Good Critic Reviews \n",
        "\n",
        "Now let us switch gears and examine `reviews_df`. In particular, we want to find the critics who are good at writing reviews.\n",
        "\n",
        "The first criteria that defines a good reviewer is balance and objectivity. Just like people (other than me), no movie is perfect, and so we probably want reviews to cover both the good and the bad. \n",
        "\n",
        "**TODO**: Using `reviews_df` and **pandasql**, find the reviews that contain both the word `\"good\"` and the word `\"bad\"` (case-insensitive). Include substrings (ie. it can be part of a word, such as '**good**-natured' or 'for**bad**e').\n",
        "\n",
        "Store the results in `balanced_df`, ordered by lexicographical order of `review_content`, with the following schema:\n",
        "\n",
        ">critic_name | review_content | \n",
        ">--- | --- | \n",
        "\n",
        "HINT: This involves checking for string similarity.\n",
        "- for Pandas, you can use str.contains()\n",
        "- for Pandasql, you may take a look at `LIKE()` and the wildcards `_` and/or `%`.\n",
        "\n"
      ],
      "metadata": {
        "id": "RAGGwxXzUvqE"
      }
    },
    {
      "cell_type": "code",
      "source": [
        "# TODO: use pandasql to find reviews with both words \"good\" and \"bad\"\n",
        "balanced_query = \"\"\"select critic_name, review_content\n",
        "from reviews_df\n",
        "where review_content like '%good%bad%' or review_content like '%bad%good%'\n",
        "order by review_content ASC\n",
        "\"\"\"\n",
        "balanced_df = ps.sqldf(balanced_query,locals())"
      ],
      "metadata": {
        "id": "089mErwoUvqE"
      },
      "execution_count": null,
      "outputs": []
    },
    {
      "cell_type": "code",
      "source": [
        "# 2 points\n",
        "grader.grade(test_case_id = 'test_balanced_df', answer = (balanced_df, balanced_query))"
      ],
      "metadata": {
        "id": "X0m5C19CUvqF",
        "colab": {
          "base_uri": "https://localhost:8080/"
        },
        "outputId": "494a507e-a79e-488e-b7bf-785504a2bc96"
      },
      "execution_count": null,
      "outputs": [
        {
          "output_type": "stream",
          "name": "stdout",
          "text": [
            "Correct! You earned 2/2 points. You are a star!\n",
            "\n",
            "Your submission has been successfully recorded in the gradebook.\n"
          ]
        }
      ]
    },
    {
      "cell_type": "markdown",
      "source": [
        "*Good cause, bad movie.* One of my favourite quotes.\n",
        "\n",
        "The second criteria we have for good critics is tenure. Let us find the \"seasoned\" reviewers, ie. those who have been writing reviews for a long period of time.\n",
        "\n",
        "**TODO**: Using `reviews_df` and **pandasql**:\n",
        "- Create a column `date_diff` which contains the difference (in number of days) between each critic's first review and most recent review\n",
        "- Only include reviews from the 21st Century (ie. published from 2000 onward)\n",
        "- Only include critics whose first and most recent reviews are at least 10 years **(3652 days)** apart\n",
        "- Do not include reviews by `'Anonymous'`\n",
        "- Make sure your `date_diff` column contains integer values (HINT: see `CAST()`).\n",
        "\n",
        "You may consider casting the dates into a [format](https://www.sqlite.org/lang_datefunc.html) that will help produce the difference in days. \n",
        "\n",
        "Store the results in `critics_time_df`, ordered by descending order of `date_diff`, with the following schema:\n",
        "\n",
        ">critic_name | date_diff | \n",
        ">--- | --- | "
      ],
      "metadata": {
        "id": "-SfmLpQWOtS3"
      }
    },
    {
      "cell_type": "code",
      "source": [
        "# TODO: use pandasql to find seasoned reviewers\n",
        "time_query = \"\"\"select critic_name, cast(julianday(max(review_date))-julianday(min(review_date)) as int) as date_diff\n",
        "from reviews_df\n",
        "where review_date >= '2000-01-01' and critic_name <> 'Anonymous'\n",
        "group by critic_name\n",
        "having cast(julianday(max(review_date))-julianday(min(review_date)) as int) >= 3652\n",
        "order by date_diff DESC\n",
        "\"\"\"\n",
        "\n",
        "critics_time_df = ps.sqldf(time_query,locals())"
      ],
      "metadata": {
        "id": "SiYCPV3KXO3J"
      },
      "execution_count": null,
      "outputs": []
    },
    {
      "cell_type": "code",
      "source": [
        "# 6 points\n",
        "grader.grade(test_case_id = 'test_critic_review_time', answer = (critics_time_df, time_query))"
      ],
      "metadata": {
        "id": "iMQicmZgB8Xc",
        "colab": {
          "base_uri": "https://localhost:8080/"
        },
        "outputId": "9bbd0915-c0eb-4353-d448-53908c58a394"
      },
      "execution_count": null,
      "outputs": [
        {
          "output_type": "stream",
          "name": "stdout",
          "text": [
            "Correct! You earned 6/6 points. You are a star!\n",
            "\n",
            "Your submission has been successfully recorded in the gradebook.\n"
          ]
        }
      ]
    },
    {
      "cell_type": "markdown",
      "source": [
        "### 2.3 What do we watch on Netflix tonight?\n",
        "\n",
        "Now let's run a tougher analysis. I'm sure we've all experienced the aimless scrolling through the Netflix homepage, trying (and sometimes failing) to find a movie that interests us. It's painful to manually search up the reviews of each movie we see, so why don't we try to automate this process? Let's determine the best on Netflix for each genre using both critics' and audiences' opinions on Rotten Tomatoes.\n",
        "\n",
        "This (and the next 2 questions) will require you to write a [nested SQL query](https://learnsql.com/blog/sql-nested-select/). That is, there will be at least one SELECT statement inside of another SELECT statement. This means that you should **NOT** write two separate SQL commands and call ps.sqldf() twice. \n",
        "\n",
        "**TODO**: Using `exploded_movies_df` and `streaming_df`:\n",
        "- Find all movies on Netflix, then **for each genre,** identify the ones with the highest combined RT tomatometer and audience rating (include all ties). Call this new column `combined_rt_rating`.\n",
        "- Rename the key `genre_category`, and sort your final result by this column in ascending order.\n",
        "\n",
        "Though it could be helpful, **you do NOT have to implement this in pandas**. Store the results in `netflix_best_df`, which should have the following format:\n",
        "\n",
        ">movie_title | genres | genre_category | combined_rt_rating\n",
        ">--- | --- | --- | ---\n",
        "\n",
        "where `genres` represents all the genres of the movie, and `genre_category` represents the genre that the movie's RT ratings are compared to."
      ],
      "metadata": {
        "id": "b_D-YM4gWLdi"
      }
    },
    {
      "cell_type": "code",
      "source": [
        "# TODO: use pandasql to find the best on Netflix\n",
        "netflix_best_query = \"\"\"select movie_title, genres, genre as genre_category, (tomatometer_rating+audience_rating) as combined_rt_rating\n",
        "from exploded_movies_df inner join streaming_df on movie_title = Title\n",
        "where (Netflix, genre, tomatometer_rating+audience_rating) in (\n",
        "select Netflix, genre, max(tomatometer_rating+audience_rating)\n",
        "from exploded_movies_df inner join streaming_df on movie_title = Title\n",
        "group by genre, Netflix\n",
        "having Netflix=1)\n",
        "order by genre_category ASC\n",
        "\"\"\"\n",
        "\n",
        "netflix_best_df = ps.sqldf(netflix_best_query,locals())"
      ],
      "metadata": {
        "id": "nrsP2KQkOviH"
      },
      "execution_count": null,
      "outputs": []
    },
    {
      "cell_type": "code",
      "source": [
        "# 10 points\n",
        "grader.grade(test_case_id = 'test_netflix_best', answer = (netflix_best_query, netflix_best_df))"
      ],
      "metadata": {
        "id": "Vyj46kAZ2MQA",
        "colab": {
          "base_uri": "https://localhost:8080/"
        },
        "outputId": "db996eef-b24a-42b6-9430-a27619e32e3f"
      },
      "execution_count": null,
      "outputs": [
        {
          "output_type": "stream",
          "name": "stdout",
          "text": [
            "Correct! You earned 10/10 points. You are a star!\n",
            "\n",
            "Your submission has been successfully recorded in the gradebook.\n"
          ]
        }
      ]
    },
    {
      "cell_type": "markdown",
      "source": [
        "### 2.4 Which months of the year does each streaming service have the most number of movies available?\n",
        "\n",
        "Maybe you don't care about picking out the \"good\" movies from the \"bad\" ones. Maybe you just want to watch as many movies as possible each month. Still, paying those monthly bills for all these streaming services (which seem to be increasing in number every day) doesn't seem to be a sustainable strategy. It would be much easier to pay for certain streaming services in the month they have the most movies.\n",
        "\n",
        "**TODO**: Using `movies_df` and `streaming_df`,\n",
        "- Count the number of movies for each streaming service per month using the `month` column in `movies_df` you created earlier.\n",
        "- For each streaming service, find the month in which they have the most movies available and how many movies are available in that month. Include ties, if there are any.\n",
        "\n",
        "Store the results in `best_streaming_df`, which should have the following format:\n",
        "\n",
        ">streaming_service | max_month | num_movies\n",
        ">--- | --- | --- |\n",
        "\n",
        "For example, if Netflix has the most movies (100) in October and Hulu has the most movies (90) in January, your query should output:\n",
        "\n",
        "streaming_service  | max_month        | num_movies\n",
        "-------------------|------------------|--------------\n",
        "Netflix    | 10                       | 100\n",
        "Hulu       | 1                        | 90\n",
        "\n",
        "and so on, for all four streaming services.\n",
        "\n",
        "**Hints:**\n",
        "- Make use of `UNION ALL` to stack tables with the same column names."
      ],
      "metadata": {
        "id": "6NJEomBiFNB_"
      }
    },
    {
      "cell_type": "code",
      "source": [
        "# TODO: use pandasql to find the month where each streaming service has the most movies\n",
        "best_streaming_query = \"\"\"\n",
        "select streaming_service, max_month, max(num_movies) as num_movies\n",
        "from (\n",
        "select 'Netflix' as streaming_service, month as max_month, count(movie_title) as num_movies\n",
        "from movies_df inner join streaming_df on movie_title = Title\n",
        "group by max_month, Netflix\n",
        "having Netflix = 1\n",
        "union all\n",
        "select 'Hulu' as streaming_service, month as max_month, count(movie_title) as num_movies\n",
        "from movies_df inner join streaming_df on movie_title = Title\n",
        "group by max_month, Hulu\n",
        "having Hulu = 1\n",
        "union all\n",
        "select 'Prime Video' as streaming_service, month as max_month, count(movie_title) as num_movies\n",
        "from movies_df inner join streaming_df on movie_title = Title\n",
        "group by max_month, [Prime Video]\n",
        "having [Prime Video] = 1\n",
        "union all\n",
        "select 'Disney+' as streaming_service, month as max_month, count(movie_title) as num_movies\n",
        "from movies_df inner join streaming_df on movie_title = Title\n",
        "group by max_month, [Disney+]\n",
        "having [Disney+] = 1)\n",
        "group by streaming_service\n",
        "\"\"\"\n",
        "\n",
        "best_streaming_df = ps.sqldf(best_streaming_query,locals())"
      ],
      "metadata": {
        "id": "xzFrXckUFMAr"
      },
      "execution_count": null,
      "outputs": []
    },
    {
      "cell_type": "code",
      "source": [
        "# 10 points\n",
        "grader.grade(test_case_id = 'test_best_streaming', answer = (best_streaming_query, best_streaming_df))"
      ],
      "metadata": {
        "id": "B6INUivb2Khz",
        "colab": {
          "base_uri": "https://localhost:8080/"
        },
        "outputId": "a75e5886-cf6b-4ae2-a598-3a0c6c678459"
      },
      "execution_count": null,
      "outputs": [
        {
          "output_type": "stream",
          "name": "stdout",
          "text": [
            "Correct! You earned 10/10 points. You are a star!\n",
            "\n",
            "Your submission has been successfully recorded in the gradebook.\n"
          ]
        }
      ]
    },
    {
      "cell_type": "markdown",
      "source": [
        "### 2.5 What movies are underrated by critics (ft. top critics)?\n",
        "\n",
        "[According to the Rotten Tomatoes website](https://www.rottentomatoes.com/critics/top_critics), \"Top Critic is a designation created to distinguish Tomatometer-approved critics who excel at their craft. Critics selected are well-established, influential, and prolific...\" Although all critics on RT are officially approved, we want to establish a top-critic-only score that only includes the opinions of the \"cream of the crop\". Certain films could be poorly received by regular critics, but top critics see something special in them. Let's try and find these underappreciated movies!\n",
        "\n",
        "**TODO**: Using `reviews_df` and `movies_df`:\n",
        "- Filter out all non-top critics, then compute a new Tomatometer rating for each movie based on its proportion of Fresh reviews to total reviews (*both statistics among top critics only*). Call this new column `top_critic_tomatometer`, and **round this percentage to the nearest integer.**\n",
        "- Constrain the movie pool to **only ones that have more than 5 top critic reviews** to mitigate outlier impact.\n",
        "- Retrieve the top 10 movies with the highest difference between `top_critic_tomatometer` and its provided Tomatometer rating (`tomatometer_rating`) - name this difference `score_diff`. \n",
        "  - `top_critic_tomatometer` - `tomatometer_rating`. Not the absolute value of the difference.\n",
        "\n",
        "Store the results in `underrated_movies_df`, which should have the following format:\n",
        "\n",
        ">movie_title | top_critic_tomatometer | tomatometer_rating | score_diff\n",
        ">--- | --- | --- | ---\n",
        "\n",
        "**Hints:**\n",
        "- SQLite stores booleans as integers 1 (True) and 0 (False), respectively.\n",
        "- Tomatometer ratings are provided as percentages (i.e. 84 not 0.84), so make sure your top critic scores are as well.\n",
        "- Since there are numerous remakes included in the dataset with the same name as the original/multiple other versions, make sure you conduct aggregate/join operations on `rotten_tomatoes_link` to ensure uniqueness.\n",
        "- Dividing two integers in SQL yields a rounded integer."
      ],
      "metadata": {
        "id": "t3mlQcJhtlgz"
      }
    },
    {
      "cell_type": "code",
      "source": [
        "# TODO: use pandasql to find the regular critics' underrated movies\n",
        "underrated_movies_query = \"\"\"select *, top_critic_tomatometer - tomatometer_rating as score_diff\n",
        "from (\n",
        "select movie_title, (sum(case review_type when 'Fresh' then 1 else 0 end)*100)/count(review_type) as top_critic_tomatometer, cast(avg(tomatometer_rating) as int) as tomatometer_rating\n",
        "from reviews_df review left join movies_df movie on review.rotten_tomatoes_link = movie.rotten_tomatoes_link\n",
        "where top_critic = 1\n",
        "group by review.rotten_tomatoes_link\n",
        "having count(top_critic) > 5)\n",
        "order by score_diff DESC\n",
        "limit 10\n",
        "\"\"\""
      ],
      "metadata": {
        "id": "x2V5Lnk9toNi"
      },
      "execution_count": null,
      "outputs": []
    },
    {
      "cell_type": "markdown",
      "source": [
        "**Note:** This query should take no more than a minute to run. If yours has been running for longer than a few minutes, then you're probably on the wrong track."
      ],
      "metadata": {
        "id": "ui1DHXOxLN7X"
      }
    },
    {
      "cell_type": "code",
      "source": [
        "underrated_movies_df = ps.sqldf(underrated_movies_query,locals())"
      ],
      "metadata": {
        "id": "6zkhy0-qVQBG"
      },
      "execution_count": null,
      "outputs": []
    },
    {
      "cell_type": "code",
      "metadata": {
        "id": "l3P9WxuSU_Yc",
        "colab": {
          "base_uri": "https://localhost:8080/"
        },
        "outputId": "9cb37948-1850-45f7-8785-592926ec9a06"
      },
      "source": [
        "# 15 points\n",
        "grader.grade(test_case_id = 'test_underrated_movies', answer = (underrated_movies_query, underrated_movies_df))"
      ],
      "execution_count": null,
      "outputs": [
        {
          "output_type": "stream",
          "name": "stdout",
          "text": [
            "Correct! You earned 15/15 points. You are a star!\n",
            "\n",
            "Your submission has been successfully recorded in the gradebook.\n"
          ]
        }
      ]
    },
    {
      "cell_type": "markdown",
      "metadata": {
        "id": "QbNUhlz9ftHI"
      },
      "source": [
        "## Part 3: Working with Text Data [16 points]\n",
        "\n",
        "Shifting gears, let's now try to do some text-based analysis. Text data is complex, but can also be used to generate extremely interpretable results, making it valuable and interesting. \n",
        "\n",
        "Throughout this section, we will attempt to answer the following question:\n",
        "\n",
        "**How do reviews by top critics differ from reviews made by non-top critics?**\n"
      ]
    },
    {
      "cell_type": "markdown",
      "metadata": {
        "id": "p9bd5kwIENXe"
      },
      "source": [
        "###3.1 Extract Data\n",
        "**TODO**: Using `reviews_df`, create two dataframes:\n",
        "* `top_critics_df`: where `top_critic` is True\n",
        "* `regular_critics_df`: where `top_critic` is False.\n",
        "\n",
        "Then, for each dataframe, convert the `review_content` column into two lists called `top_content` and `regular_content`, respectively."
      ]
    },
    {
      "cell_type": "code",
      "metadata": {
        "id": "flAxhXQUpFDo"
      },
      "source": [
        "# TODO: create two dataframes & two lists\n",
        "top_critics_df = reviews_df[reviews_df['top_critic']==True]\n",
        "regular_critics_df = reviews_df[reviews_df['top_critic']==False]\n",
        "top_content = top_critics_df['review_content'].to_list()\n",
        "regular_content = regular_critics_df['review_content'].to_list()"
      ],
      "execution_count": null,
      "outputs": []
    },
    {
      "cell_type": "code",
      "metadata": {
        "id": "AQhF6QxnFAx7",
        "colab": {
          "base_uri": "https://localhost:8080/"
        },
        "outputId": "f6c4f2da-42c9-4bc4-ac10-dacba40ea4a7"
      },
      "source": [
        "# 1 point\n",
        "grader.grade(test_case_id = 'test_top_content_df', answer = len(top_content))"
      ],
      "execution_count": null,
      "outputs": [
        {
          "output_type": "stream",
          "name": "stdout",
          "text": [
            "Correct! You earned 1/1 points. You are a star!\n",
            "\n",
            "Your submission has been successfully recorded in the gradebook.\n"
          ]
        }
      ]
    },
    {
      "cell_type": "code",
      "metadata": {
        "id": "Gj9v2Gq2FNfm",
        "colab": {
          "base_uri": "https://localhost:8080/"
        },
        "outputId": "ccc7d56f-ba06-45a2-9152-73b0c306409f"
      },
      "source": [
        "# 1 point\n",
        "grader.grade(test_case_id = 'test_regular_content_df', answer = len(regular_content))"
      ],
      "execution_count": null,
      "outputs": [
        {
          "output_type": "stream",
          "name": "stdout",
          "text": [
            "Correct! You earned 1/1 points. You are a star!\n",
            "\n",
            "Your submission has been successfully recorded in the gradebook.\n"
          ]
        }
      ]
    },
    {
      "cell_type": "markdown",
      "metadata": {
        "id": "RNwLCBeTOLy3"
      },
      "source": [
        "###3.2 Tokenize the Text\n",
        "\n",
        "Here, we are going to split up the content into a list of words. We will use the **nltk** package, which contains an extensive set of tools to process text. Of course, like regex, this homework would be miles long if we really went into detail, so we are only going to utilize the following components:\n",
        "- `nltk.word_tokenize()`: a function used to tokenize our text\n",
        "- `nltk.corpus.stopwords`: a list of commonly used words such as \"a\",\"an\",\"in\" that are often ignored in text-related analysis\n",
        "\n",
        "Note that prior to this step for text analysis, we would typically clean the text first using regex. We didn't have to do that because the dataset was already well-cleaned, bt keep that in mind.\n",
        "\n",
        "**TODO:** First, use **stopwords** to create a set of the most common english stopwords. Then, implement **tokenized_content(content)** that takes in a content string and:\n",
        "1. tokenizes the text\n",
        "2. lowercases the token\n",
        "3. removes stop words (commonly used words such as \"a\",\"an\", \"in\")\n",
        "4. keeps words with only alphabet characters (no punctuation)"
      ]
    },
    {
      "cell_type": "code",
      "metadata": {
        "id": "AnFn2xJY5YK_",
        "colab": {
          "base_uri": "https://localhost:8080/",
          "height": 35
        },
        "outputId": "43ea4fe0-0b14-478e-c9cf-699aec9e6dab"
      },
      "source": [
        "import nltk\n",
        "nltk.__version__"
      ],
      "execution_count": null,
      "outputs": [
        {
          "output_type": "execute_result",
          "data": {
            "application/vnd.google.colaboratory.intrinsic+json": {
              "type": "string"
            },
            "text/plain": [
              "'3.2.5'"
            ]
          },
          "metadata": {},
          "execution_count": 62
        }
      ]
    },
    {
      "cell_type": "code",
      "metadata": {
        "id": "mUDt0d68oCfu",
        "colab": {
          "base_uri": "https://localhost:8080/"
        },
        "outputId": "d3abb34f-b44b-43a1-f36a-7d2a7f862d01"
      },
      "source": [
        "from nltk.corpus import stopwords\n",
        "nltk.download('stopwords')\n",
        "stopwords = set(stopwords.words('english'))\n",
        "# Note that stopwords are all in lowercase format"
      ],
      "execution_count": null,
      "outputs": [
        {
          "output_type": "stream",
          "name": "stdout",
          "text": [
            "[nltk_data] Downloading package stopwords to /root/nltk_data...\n",
            "[nltk_data]   Package stopwords is already up-to-date!\n"
          ]
        }
      ]
    },
    {
      "cell_type": "code",
      "metadata": {
        "id": "3bLwPIx2nPy-"
      },
      "source": [
        "from nltk.tokenize import word_tokenize\n",
        "# TODO: Create tokenized_content(content) function\n",
        "\n",
        "def tokenized_content(content):\n",
        "  #words_li = []\n",
        "  words = word_tokenize(content)\n",
        "  words = [word.lower() for word in words if word.lower() not in stopwords and word.lower().isalpha()]\n",
        "  #for item in words:\n",
        "  #  item = item.lower()\n",
        "  #  if item not in stopwords and item.isalpha():\n",
        "  #    words_li.append(item)\n",
        "  return words"
      ],
      "execution_count": null,
      "outputs": []
    },
    {
      "cell_type": "markdown",
      "metadata": {
        "id": "Es5zPleHSROw"
      },
      "source": [
        "Now, apply your `tokenize_content()` function to each piece of content in **top_content** and **regular_content** and flatten both of the lists to create **top_tokens** and **regular_tokens**\n"
      ]
    },
    {
      "cell_type": "code",
      "metadata": {
        "id": "3F5mW4qoq2n8"
      },
      "source": [
        "# TODO: tokenize and flatten\n",
        "top_tokens = []\n",
        "regular_tokens = []\n",
        "for item in top_content:\n",
        "  top_tokens.extend(tokenized_content(item))\n",
        "for item in regular_content:\n",
        "  regular_tokens.extend(tokenized_content(item))"
      ],
      "execution_count": null,
      "outputs": []
    },
    {
      "cell_type": "code",
      "metadata": {
        "id": "A7PcX0mtG40R",
        "colab": {
          "base_uri": "https://localhost:8080/"
        },
        "outputId": "3b7af1d6-9f30-440c-816c-53cf3d55c027"
      },
      "source": [
        "# 1 point\n",
        "grader.grade(test_case_id = 'test_top_tokens', answer = len(top_tokens))"
      ],
      "execution_count": null,
      "outputs": [
        {
          "output_type": "stream",
          "name": "stdout",
          "text": [
            "Correct! You earned 1/1 points. You are a star!\n",
            "\n",
            "Your submission has been successfully recorded in the gradebook.\n"
          ]
        }
      ]
    },
    {
      "cell_type": "code",
      "metadata": {
        "id": "mVQN15_bG5Af",
        "colab": {
          "base_uri": "https://localhost:8080/"
        },
        "outputId": "13f73506-edb3-47db-d1dc-558b1d3867fd"
      },
      "source": [
        "# 1 point\n",
        "grader.grade(test_case_id = 'test_regular_tokens', answer = len(regular_tokens))"
      ],
      "execution_count": null,
      "outputs": [
        {
          "output_type": "stream",
          "name": "stdout",
          "text": [
            "Correct! You earned 1/1 points. You are a star!\n",
            "\n",
            "Your submission has been successfully recorded in the gradebook.\n"
          ]
        }
      ]
    },
    {
      "cell_type": "markdown",
      "metadata": {
        "id": "JT0sTQHvp5E6"
      },
      "source": [
        "### 3.3 Most Frequent Words\n",
        "**TODO**: Now, find the 20 most common words amongst the content of `top_tokens` and `regular_tokens`. Return this as a list of `(word, count)` tuples, in descending order of `count`.\n",
        "\n",
        "**Hint**: You can use `Counter` in this question: https://docs.python.org/2/library/collections.html#counter-objects"
      ]
    },
    {
      "cell_type": "code",
      "metadata": {
        "id": "SB-DiBperGEU"
      },
      "source": [
        "# TODO: Find 20 most common words amongst the content of the top and regular critic reviews\n",
        "top_most_common = Counter(top_tokens).most_common(20)\n",
        "regular_most_common = Counter(regular_tokens).most_common(20)"
      ],
      "execution_count": null,
      "outputs": []
    },
    {
      "cell_type": "code",
      "metadata": {
        "id": "4VPDgzbuIyKO",
        "colab": {
          "base_uri": "https://localhost:8080/"
        },
        "outputId": "8e1dbc2f-4981-4a4d-874c-f0618382db8f"
      },
      "source": [
        "# 2 points\n",
        "grader.grade(test_case_id = 'test_top_most_common', answer = top_most_common)"
      ],
      "execution_count": null,
      "outputs": [
        {
          "output_type": "stream",
          "name": "stdout",
          "text": [
            "Correct! You earned 2/2 points. You are a star!\n",
            "\n",
            "Your submission has been successfully recorded in the gradebook.\n"
          ]
        }
      ]
    },
    {
      "cell_type": "code",
      "metadata": {
        "id": "PmPqBlD_I0Og",
        "colab": {
          "base_uri": "https://localhost:8080/"
        },
        "outputId": "e1fd1524-aaa0-4a00-8a52-b7e7d24c2025"
      },
      "source": [
        "# 2 points\n",
        "grader.grade(test_case_id = 'test_regular_most_common', answer = regular_most_common)"
      ],
      "execution_count": null,
      "outputs": [
        {
          "output_type": "stream",
          "name": "stdout",
          "text": [
            "Correct! You earned 2/2 points. You are a star!\n",
            "\n",
            "Your submission has been successfully recorded in the gradebook.\n"
          ]
        }
      ]
    },
    {
      "cell_type": "markdown",
      "metadata": {
        "id": "pvwIdmhNZmhY"
      },
      "source": [
        "###3.4 Refining our Lists\n",
        "\n",
        "Hmmm...both of these lists seem to display similar words. Let's try to tease out words that distinguish the high from the low scoring questions. \n",
        "\n",
        "One approach would be to find words in one list that are not in the other. This, however, may be too naive, as even if a word is extremely common in our high list, if it appears only once in our low list, it would get removed from consideration.\n",
        "\n",
        "Let's instead find the difference between the counts within our two lists. Thus, if a word is really common in one, but not the other, the count would only decrease slightly. Alternatively, if a word is common in both lists, it would effectively zero out. \n",
        "\n",
        "However, given that the number of regular tokens is about three times that of top tokens, we need to make sure both lists are of equal length before applying the difference method. \n",
        "\n",
        "**TODO:** Randomly sample 1 million (1000000) tokens from `top_tokens` and `regular_tokens`, and place them in lists `top_sample` and `regular_sample` respectively.\n",
        "-Then, using the difference method, create **distinct_top_counter** and **distinct_regular_counter** to find the top 20 counts of words within each group. Pass this into two lists, `distinct_top_most_common` and `distinct_regular_most_common` respectively. These should be lists of `(word, count)` tuples (`.most_common()` should help!)\n",
        "\n",
        "Be careful on which list you are subtracting!\n"
      ]
    },
    {
      "cell_type": "code",
      "metadata": {
        "id": "uyjdbIgmrQ--"
      },
      "source": [
        "# TODO: randomly sample 1 million tokens from top_tokens and regular_tokens\n",
        "top_sample = random.sample(top_tokens,1000000)\n",
        "regular_sample = random.sample(regular_tokens,1000000)"
      ],
      "execution_count": null,
      "outputs": []
    },
    {
      "cell_type": "code",
      "metadata": {
        "id": "lxDn4bzPLd2L"
      },
      "source": [
        "# TODO: use difference to find the top 20 counts of words within each group\n",
        "distinct_top_counter = Counter(top_sample)-Counter(regular_sample)\n",
        "distinct_regular_counter = Counter(regular_sample)-Counter(top_sample)\n",
        "distinct_top_most_common = distinct_top_counter.most_common(20)\n",
        "distinct_regular_most_common = distinct_regular_counter.most_common(20)"
      ],
      "execution_count": null,
      "outputs": []
    },
    {
      "cell_type": "code",
      "metadata": {
        "id": "279IYd6jL12_",
        "colab": {
          "base_uri": "https://localhost:8080/"
        },
        "outputId": "a96696f0-fb88-461c-cd82-9d6d21e04cb0"
      },
      "source": [
        "# 2 points\n",
        "grader.grade(test_case_id = 'test_distinct_top_most_common', answer = distinct_top_most_common)"
      ],
      "execution_count": null,
      "outputs": [
        {
          "output_type": "stream",
          "name": "stdout",
          "text": [
            "Correct! You earned 2/2 points. You are a star!\n",
            "\n",
            "Your submission has been successfully recorded in the gradebook.\n"
          ]
        }
      ]
    },
    {
      "cell_type": "code",
      "metadata": {
        "id": "byiqTRGuL2E3",
        "colab": {
          "base_uri": "https://localhost:8080/"
        },
        "outputId": "b9bd7112-64e4-4c40-8d15-3a40026edd88"
      },
      "source": [
        "# 2 points\n",
        "grader.grade(test_case_id = 'test_distinct_regular_most_common', answer = distinct_regular_most_common)"
      ],
      "execution_count": null,
      "outputs": [
        {
          "output_type": "stream",
          "name": "stdout",
          "text": [
            "Correct! You earned 2/2 points. You are a star!\n",
            "\n",
            "Your submission has been successfully recorded in the gradebook.\n"
          ]
        }
      ]
    },
    {
      "cell_type": "markdown",
      "metadata": {
        "id": "HEAi4a6OcjE4"
      },
      "source": [
        "### 3.5 Word Clouds\n",
        "\n",
        "Before we move on from this dataset, let's do one final step and visualize our results with wordclouds.\n",
        "\n",
        "**TODO**: Take a look at [this documentation](https://amueller.github.io/word_cloud/generated/wordcloud.WordCloud.html) and create two word clouds for our two groups of distinct tokens.\n",
        "\n",
        "Be sure to create these on the list of distinct tokens that you randomly sampled, and not just the top 20. We will be going through your notebooks and manually grading your world clouds (worth 4 points combined). \n"
      ]
    },
    {
      "cell_type": "code",
      "metadata": {
        "id": "1Yt7PRqUrb8Z",
        "colab": {
          "base_uri": "https://localhost:8080/",
          "height": 198
        },
        "outputId": "05561bc3-8551-4fa7-af1b-3690c7272807"
      },
      "source": [
        "# TODO: make a word cloud for top tokens\n",
        "top_wordcloud = WordCloud(background_color='white')\n",
        "top_wordcloud.generate_from_frequencies(distinct_top_counter)\n",
        "plt.figure()\n",
        "plt.imshow(top_wordcloud)\n",
        "plt.axis('off')\n",
        "plt.show()"
      ],
      "execution_count": null,
      "outputs": [
        {
          "output_type": "display_data",
          "data": {
            "image/png": "[encoded data removed]",
            "text/plain": [
              "<Figure size 432x288 with 1 Axes>"
            ]
          },
          "metadata": {
            "needs_background": "light"
          }
        }
      ]
    },
    {
      "cell_type": "code",
      "metadata": {
        "id": "OMfxDjbRreF1",
        "colab": {
          "base_uri": "https://localhost:8080/",
          "height": 198
        },
        "outputId": "1dacb4bf-ce1a-491a-a14b-2891c562ee9a"
      },
      "source": [
        "# TODO: make a word cloud for regular tokens\n",
        "regular_wordcloud = WordCloud(background_color='white')\n",
        "regular_wordcloud.generate_from_frequencies(distinct_regular_counter)\n",
        "plt.figure()\n",
        "plt.imshow(regular_wordcloud)\n",
        "plt.axis('off')\n",
        "plt.show()"
      ],
      "execution_count": null,
      "outputs": [
        {
          "output_type": "display_data",
          "data": {
            "image/png": "[encoded data removed]",
            "text/plain": [
              "<Figure size 432x288 with 1 Axes>"
            ]
          },
          "metadata": {
            "needs_background": "light"
          }
        }
      ]
    },
    {
      "cell_type": "markdown",
      "source": [
        "# HW Submission\n",
        "\n",
        "<br>\n",
        "<center><img src = \"https://memegenerator.net/img/instances/73124265/good-job.jpg\" width= \"500\" align =\"center\"/></center>\n",
        "<br>\n",
        "\n",
        "Big congratulations for getting this far! The piece of good news is that similar to HW1, you basically know the score you have when you submit to Gradescope. However, this time, we will be manually grading your wordclouds, so the autograder score is not final! Remember also that since we'll be checking for plagiarism, make sure to cite your sources (if any) using simple urls / links.\n",
        "\n",
        "Before you submit on Gradescope (you must submit your notebook to receive credit):\n",
        "\n",
        "1.   Restart and Run-All to make sure there's nothing wrong with your notebook\n",
        "2.   **Double check that you have the correct PennID (all numbers) in the autograder**. \n",
        "3. Make sure you've run all the PennGrader cells (and gotten the score that you want and deserve)\n",
        "4. Go to the \"File\" tab at the top left, and click \"Download .ipynb\" + \"Download .py\" and upload both the Python file and ipnyb notebook to Gradescope directly, naming the files **\"homework2.ipynb\"** and **\"homework2.py\"** respectively!\n",
        "\n",
        "###Be sure to name your files correctly!!!\n",
        "\n",
        "**Let the course staff know ASAP if you have any issues submitting.**"
      ],
      "metadata": {
        "id": "1L2nBxkcOnma"
      }
    }
  ]
}